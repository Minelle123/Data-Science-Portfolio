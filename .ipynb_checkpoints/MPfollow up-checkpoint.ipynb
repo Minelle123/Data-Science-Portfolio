{
 "cells": [
  {
   "cell_type": "markdown",
   "id": "572fc3f5",
   "metadata": {},
   "source": [
    "# Monkeypox Follow-up Dataset"
   ]
  },
  {
   "cell_type": "code",
   "execution_count": 44,
   "id": "b91f4f2c",
   "metadata": {},
   "outputs": [],
   "source": [
    "import pandas as pd\n",
    "import numpy as np\n",
    "import seaborn as sns\n",
    "import scipy\n",
    "from scipy import stats\n",
    "from statsmodels.stats.multicomp import pairwise_tukeyhsd\n",
    "from statsmodels.stats.multicomp import MultiComparison "
   ]
  },
  {
   "cell_type": "code",
   "execution_count": 45,
   "id": "9676ea1a",
   "metadata": {},
   "outputs": [],
   "source": [
    "MPfollow_up =pd.read_csv(r\"C:\\Users\\minel\\OneDrive\\Documents\\Entity Coursework\\Final Project\\monkeypox-followup.csv\")"
   ]
  },
  {
   "cell_type": "code",
   "execution_count": 46,
   "id": "0eb0fd28",
   "metadata": {},
   "outputs": [
    {
     "data": {
      "text/html": [
       "<div>\n",
       "<style scoped>\n",
       "    .dataframe tbody tr th:only-of-type {\n",
       "        vertical-align: middle;\n",
       "    }\n",
       "\n",
       "    .dataframe tbody tr th {\n",
       "        vertical-align: top;\n",
       "    }\n",
       "\n",
       "    .dataframe thead th {\n",
       "        text-align: right;\n",
       "    }\n",
       "</style>\n",
       "<table border=\"1\" class=\"dataframe\">\n",
       "  <thead>\n",
       "    <tr style=\"text-align: right;\">\n",
       "      <th></th>\n",
       "      <th>number</th>\n",
       "      <th>created_at</th>\n",
       "      <th>text</th>\n",
       "      <th>source</th>\n",
       "      <th>user is verified</th>\n",
       "      <th>user has url</th>\n",
       "      <th>user description</th>\n",
       "      <th>user created at</th>\n",
       "      <th>retweet_count</th>\n",
       "      <th>reply_count</th>\n",
       "      <th>like_count</th>\n",
       "      <th>quote_count</th>\n",
       "      <th>followers count</th>\n",
       "      <th>following count</th>\n",
       "      <th>tweet count</th>\n",
       "      <th>listed_count</th>\n",
       "      <th>user location</th>\n",
       "      <th>beto_flag</th>\n",
       "      <th>binary_class</th>\n",
       "      <th>ternary_class</th>\n",
       "    </tr>\n",
       "  </thead>\n",
       "  <tbody>\n",
       "    <tr>\n",
       "      <th>0</th>\n",
       "      <td>3047</td>\n",
       "      <td>30/08/2022 19:51</td>\n",
       "      <td>_URL_ Texas health officials on Tuesday report...</td>\n",
       "      <td>Twitter for Android</td>\n",
       "      <td>False</td>\n",
       "      <td>False</td>\n",
       "      <td>You can only turn the other cheek so many time...</td>\n",
       "      <td>10/06/2019 23:56</td>\n",
       "      <td>0</td>\n",
       "      <td>0</td>\n",
       "      <td>0</td>\n",
       "      <td>0</td>\n",
       "      <td>3377</td>\n",
       "      <td>4911</td>\n",
       "      <td>36196</td>\n",
       "      <td>2</td>\n",
       "      <td>TEXAS</td>\n",
       "      <td>False</td>\n",
       "      <td>0</td>\n",
       "      <td>0</td>\n",
       "    </tr>\n",
       "    <tr>\n",
       "      <th>1</th>\n",
       "      <td>10879</td>\n",
       "      <td>30/08/2022 07:10</td>\n",
       "      <td>:backhand_index_pointing_left:主页主页 Monkeypox H...</td>\n",
       "      <td>dlvr.it</td>\n",
       "      <td>False</td>\n",
       "      <td>False</td>\n",
       "      <td>稀有优质资源:backhand_index_pointing_right:电报群 _URL_</td>\n",
       "      <td>16/08/2022 08:54</td>\n",
       "      <td>1</td>\n",
       "      <td>0</td>\n",
       "      <td>0</td>\n",
       "      <td>0</td>\n",
       "      <td>3</td>\n",
       "      <td>0</td>\n",
       "      <td>1075</td>\n",
       "      <td>0</td>\n",
       "      <td>None</td>\n",
       "      <td>False</td>\n",
       "      <td>0</td>\n",
       "      <td>0</td>\n",
       "    </tr>\n",
       "    <tr>\n",
       "      <th>2</th>\n",
       "      <td>5545</td>\n",
       "      <td>30/08/2022 16:59</td>\n",
       "      <td>:flushed_face::flushed_face::flushed_face::flu...</td>\n",
       "      <td>Twitter for iPhone</td>\n",
       "      <td>False</td>\n",
       "      <td>False</td>\n",
       "      <td>A safe space for gay,queer,bi,and sex positive...</td>\n",
       "      <td>14/04/2018 15:25</td>\n",
       "      <td>0</td>\n",
       "      <td>0</td>\n",
       "      <td>0</td>\n",
       "      <td>0</td>\n",
       "      <td>388</td>\n",
       "      <td>217</td>\n",
       "      <td>850</td>\n",
       "      <td>1</td>\n",
       "      <td>None</td>\n",
       "      <td>False</td>\n",
       "      <td>0</td>\n",
       "      <td>0</td>\n",
       "    </tr>\n",
       "    <tr>\n",
       "      <th>3</th>\n",
       "      <td>4916</td>\n",
       "      <td>30/08/2022 17:42</td>\n",
       "      <td>:pushpin:BREAKING NEWS:police_car_light: The T...</td>\n",
       "      <td>Twitter for iPhone</td>\n",
       "      <td>True</td>\n",
       "      <td>False</td>\n",
       "      <td>Anchor-Reporter /WOAI News 4 /KABB Fox 29 / _U...</td>\n",
       "      <td>16/04/2009 17:13</td>\n",
       "      <td>0</td>\n",
       "      <td>0</td>\n",
       "      <td>0</td>\n",
       "      <td>0</td>\n",
       "      <td>1622</td>\n",
       "      <td>304</td>\n",
       "      <td>3614</td>\n",
       "      <td>47</td>\n",
       "      <td>San Antonio, TX</td>\n",
       "      <td>False</td>\n",
       "      <td>0</td>\n",
       "      <td>0</td>\n",
       "    </tr>\n",
       "    <tr>\n",
       "      <th>4</th>\n",
       "      <td>2863</td>\n",
       "      <td>30/08/2022 20:02</td>\n",
       "      <td>.@NFPMedCenter is hosting a Monkeypox vaccine ...</td>\n",
       "      <td>Twitter for iPhone</td>\n",
       "      <td>False</td>\n",
       "      <td>True</td>\n",
       "      <td>Treuhaft Chair/Sr. Fellow @communitysols. Lect...</td>\n",
       "      <td>17/05/2009 05:49</td>\n",
       "      <td>4</td>\n",
       "      <td>0</td>\n",
       "      <td>5</td>\n",
       "      <td>0</td>\n",
       "      <td>2245</td>\n",
       "      <td>3340</td>\n",
       "      <td>17065</td>\n",
       "      <td>37</td>\n",
       "      <td>Cleveland, OH</td>\n",
       "      <td>False</td>\n",
       "      <td>0</td>\n",
       "      <td>0</td>\n",
       "    </tr>\n",
       "  </tbody>\n",
       "</table>\n",
       "</div>"
      ],
      "text/plain": [
       "   number        created_at  \\\n",
       "0    3047  30/08/2022 19:51   \n",
       "1   10879  30/08/2022 07:10   \n",
       "2    5545  30/08/2022 16:59   \n",
       "3    4916  30/08/2022 17:42   \n",
       "4    2863  30/08/2022 20:02   \n",
       "\n",
       "                                                text               source  \\\n",
       "0  _URL_ Texas health officials on Tuesday report...  Twitter for Android   \n",
       "1  :backhand_index_pointing_left:主页主页 Monkeypox H...              dlvr.it   \n",
       "2  :flushed_face::flushed_face::flushed_face::flu...   Twitter for iPhone   \n",
       "3  :pushpin:BREAKING NEWS:police_car_light: The T...   Twitter for iPhone   \n",
       "4  .@NFPMedCenter is hosting a Monkeypox vaccine ...   Twitter for iPhone   \n",
       "\n",
       "   user is verified  user has url  \\\n",
       "0             False         False   \n",
       "1             False         False   \n",
       "2             False         False   \n",
       "3              True         False   \n",
       "4             False          True   \n",
       "\n",
       "                                    user description   user created at  \\\n",
       "0  You can only turn the other cheek so many time...  10/06/2019 23:56   \n",
       "1     稀有优质资源:backhand_index_pointing_right:电报群 _URL_  16/08/2022 08:54   \n",
       "2  A safe space for gay,queer,bi,and sex positive...  14/04/2018 15:25   \n",
       "3  Anchor-Reporter /WOAI News 4 /KABB Fox 29 / _U...  16/04/2009 17:13   \n",
       "4  Treuhaft Chair/Sr. Fellow @communitysols. Lect...  17/05/2009 05:49   \n",
       "\n",
       "   retweet_count  reply_count  like_count  quote_count  followers count  \\\n",
       "0              0            0           0            0             3377   \n",
       "1              1            0           0            0                3   \n",
       "2              0            0           0            0              388   \n",
       "3              0            0           0            0             1622   \n",
       "4              4            0           5            0             2245   \n",
       "\n",
       "   following count  tweet count  listed_count    user location  beto_flag  \\\n",
       "0             4911        36196             2            TEXAS      False   \n",
       "1                0         1075             0             None      False   \n",
       "2              217          850             1             None      False   \n",
       "3              304         3614            47  San Antonio, TX      False   \n",
       "4             3340        17065            37    Cleveland, OH      False   \n",
       "\n",
       "   binary_class  ternary_class  \n",
       "0             0              0  \n",
       "1             0              0  \n",
       "2             0              0  \n",
       "3             0              0  \n",
       "4             0              0  "
      ]
     },
     "execution_count": 46,
     "metadata": {},
     "output_type": "execute_result"
    }
   ],
   "source": [
    "MPfollow_up.head() ###SB"
   ]
  },
  {
   "cell_type": "code",
   "execution_count": 47,
   "id": "a048573d",
   "metadata": {},
   "outputs": [],
   "source": [
    "MPfollow_upfc = MPfollow_up[['followers count','tweet count']]"
   ]
  },
  {
   "cell_type": "code",
   "execution_count": 48,
   "id": "f22e0590",
   "metadata": {},
   "outputs": [
    {
     "data": {
      "text/html": [
       "<div>\n",
       "<style scoped>\n",
       "    .dataframe tbody tr th:only-of-type {\n",
       "        vertical-align: middle;\n",
       "    }\n",
       "\n",
       "    .dataframe tbody tr th {\n",
       "        vertical-align: top;\n",
       "    }\n",
       "\n",
       "    .dataframe thead th {\n",
       "        text-align: right;\n",
       "    }\n",
       "</style>\n",
       "<table border=\"1\" class=\"dataframe\">\n",
       "  <thead>\n",
       "    <tr style=\"text-align: right;\">\n",
       "      <th></th>\n",
       "      <th>followers count</th>\n",
       "      <th>tweet count</th>\n",
       "    </tr>\n",
       "  </thead>\n",
       "  <tbody>\n",
       "    <tr>\n",
       "      <th>0</th>\n",
       "      <td>3377</td>\n",
       "      <td>36196</td>\n",
       "    </tr>\n",
       "    <tr>\n",
       "      <th>1</th>\n",
       "      <td>3</td>\n",
       "      <td>1075</td>\n",
       "    </tr>\n",
       "    <tr>\n",
       "      <th>2</th>\n",
       "      <td>388</td>\n",
       "      <td>850</td>\n",
       "    </tr>\n",
       "    <tr>\n",
       "      <th>3</th>\n",
       "      <td>1622</td>\n",
       "      <td>3614</td>\n",
       "    </tr>\n",
       "    <tr>\n",
       "      <th>4</th>\n",
       "      <td>2245</td>\n",
       "      <td>17065</td>\n",
       "    </tr>\n",
       "  </tbody>\n",
       "</table>\n",
       "</div>"
      ],
      "text/plain": [
       "   followers count  tweet count\n",
       "0             3377        36196\n",
       "1                3         1075\n",
       "2              388          850\n",
       "3             1622         3614\n",
       "4             2245        17065"
      ]
     },
     "execution_count": 48,
     "metadata": {},
     "output_type": "execute_result"
    }
   ],
   "source": [
    "MPfollow_upfc.head()"
   ]
  },
  {
   "cell_type": "markdown",
   "id": "83f9b4d4",
   "metadata": {},
   "source": [
    "### Followers Count value counts"
   ]
  },
  {
   "cell_type": "code",
   "execution_count": 49,
   "id": "745f69eb",
   "metadata": {},
   "outputs": [
    {
     "data": {
      "text/plain": [
       "1         11\n",
       "6          8\n",
       "3          8\n",
       "19         6\n",
       "0          6\n",
       "          ..\n",
       "231        1\n",
       "26         1\n",
       "648128     1\n",
       "127228     1\n",
       "32211      1\n",
       "Name: followers count, Length: 366, dtype: int64"
      ]
     },
     "execution_count": 49,
     "metadata": {},
     "output_type": "execute_result"
    }
   ],
   "source": [
    "MPfollow_upfc['followers count'].value_counts()"
   ]
  },
  {
   "cell_type": "markdown",
   "id": "1ba360f3",
   "metadata": {},
   "source": [
    "### Followers count description"
   ]
  },
  {
   "cell_type": "code",
   "execution_count": 50,
   "id": "a68c4fbf",
   "metadata": {},
   "outputs": [
    {
     "data": {
      "text/plain": [
       "count    5.000000e+02\n",
       "mean     1.543353e+05\n",
       "std      1.538256e+06\n",
       "min      0.000000e+00\n",
       "25%      3.700000e+01\n",
       "50%      3.055000e+02\n",
       "75%      2.341750e+03\n",
       "max      2.554244e+07\n",
       "Name: followers count, dtype: float64"
      ]
     },
     "execution_count": 50,
     "metadata": {},
     "output_type": "execute_result"
    }
   ],
   "source": [
    "MPfollow_upfc['followers count'].describe()"
   ]
  },
  {
   "cell_type": "markdown",
   "id": "f0840e0f",
   "metadata": {},
   "source": [
    "### Tweet count value counts"
   ]
  },
  {
   "cell_type": "code",
   "execution_count": 51,
   "id": "b5b817a3",
   "metadata": {},
   "outputs": [
    {
     "data": {
      "text/plain": [
       "7849      4\n",
       "109936    3\n",
       "150942    2\n",
       "63573     2\n",
       "24208     2\n",
       "         ..\n",
       "341097    1\n",
       "835269    1\n",
       "9035      1\n",
       "1205      1\n",
       "981       1\n",
       "Name: tweet count, Length: 479, dtype: int64"
      ]
     },
     "execution_count": 51,
     "metadata": {},
     "output_type": "execute_result"
    }
   ],
   "source": [
    "MPfollow_upfc['tweet count'].value_counts()"
   ]
  },
  {
   "cell_type": "code",
   "execution_count": 52,
   "id": "c5fbe7c2",
   "metadata": {},
   "outputs": [
    {
     "name": "stdout",
     "output_type": "stream",
     "text": [
      "<class 'pandas.core.frame.DataFrame'>\n",
      "RangeIndex: 500 entries, 0 to 499\n",
      "Data columns (total 2 columns):\n",
      " #   Column           Non-Null Count  Dtype\n",
      "---  ------           --------------  -----\n",
      " 0   followers count  500 non-null    int64\n",
      " 1   tweet count      500 non-null    int64\n",
      "dtypes: int64(2)\n",
      "memory usage: 7.9 KB\n"
     ]
    }
   ],
   "source": [
    "MPfollow_upfc.info()"
   ]
  },
  {
   "cell_type": "code",
   "execution_count": 53,
   "id": "e60320d3",
   "metadata": {},
   "outputs": [
    {
     "data": {
      "text/plain": [
       "count    5.000000e+02\n",
       "mean     6.189245e+04\n",
       "std      1.487348e+05\n",
       "min      1.000000e+00\n",
       "25%      2.679500e+03\n",
       "50%      9.698000e+03\n",
       "75%      4.212325e+04\n",
       "max      1.284974e+06\n",
       "Name: tweet count, dtype: float64"
      ]
     },
     "execution_count": 53,
     "metadata": {},
     "output_type": "execute_result"
    }
   ],
   "source": [
    "MPfollow_upfc['tweet count'].describe()"
   ]
  },
  {
   "cell_type": "code",
   "execution_count": 54,
   "id": "af7a7b91",
   "metadata": {},
   "outputs": [
    {
     "data": {
      "text/plain": [
       "followers count    154335.276\n",
       "tweet count         61892.446\n",
       "dtype: float64"
      ]
     },
     "execution_count": 54,
     "metadata": {},
     "output_type": "execute_result"
    }
   ],
   "source": [
    "MPfollow_upfc.mean()"
   ]
  },
  {
   "cell_type": "code",
   "execution_count": 55,
   "id": "13f98acd",
   "metadata": {},
   "outputs": [
    {
     "data": {
      "text/plain": [
       "followers count    2.366230e+12\n",
       "tweet count        2.212205e+10\n",
       "dtype: float64"
      ]
     },
     "execution_count": 55,
     "metadata": {},
     "output_type": "execute_result"
    }
   ],
   "source": [
    "MPfollow_upfc.var()"
   ]
  },
  {
   "cell_type": "code",
   "execution_count": 56,
   "id": "d6f65d87",
   "metadata": {},
   "outputs": [
    {
     "data": {
      "text/plain": [
       "followers count    1.538256e+06\n",
       "tweet count        1.487348e+05\n",
       "dtype: float64"
      ]
     },
     "execution_count": 56,
     "metadata": {},
     "output_type": "execute_result"
    }
   ],
   "source": [
    "MPfollow_upfc.std()"
   ]
  },
  {
   "cell_type": "code",
   "execution_count": 57,
   "id": "ca7b4ab5",
   "metadata": {},
   "outputs": [
    {
     "data": {
      "text/plain": [
       "(500, 2)"
      ]
     },
     "execution_count": 57,
     "metadata": {},
     "output_type": "execute_result"
    }
   ],
   "source": [
    "MPfollow_upfc.shape"
   ]
  },
  {
   "cell_type": "code",
   "execution_count": 58,
   "id": "5d3360a5",
   "metadata": {},
   "outputs": [
    {
     "data": {
      "text/html": [
       "<div>\n",
       "<style scoped>\n",
       "    .dataframe tbody tr th:only-of-type {\n",
       "        vertical-align: middle;\n",
       "    }\n",
       "\n",
       "    .dataframe tbody tr th {\n",
       "        vertical-align: top;\n",
       "    }\n",
       "\n",
       "    .dataframe thead th {\n",
       "        text-align: right;\n",
       "    }\n",
       "</style>\n",
       "<table border=\"1\" class=\"dataframe\">\n",
       "  <thead>\n",
       "    <tr style=\"text-align: right;\">\n",
       "      <th></th>\n",
       "      <th>followers count</th>\n",
       "      <th>tweet count</th>\n",
       "    </tr>\n",
       "  </thead>\n",
       "  <tbody>\n",
       "    <tr>\n",
       "      <th>0</th>\n",
       "      <td>3377</td>\n",
       "      <td>36196</td>\n",
       "    </tr>\n",
       "    <tr>\n",
       "      <th>1</th>\n",
       "      <td>3</td>\n",
       "      <td>1075</td>\n",
       "    </tr>\n",
       "    <tr>\n",
       "      <th>2</th>\n",
       "      <td>388</td>\n",
       "      <td>850</td>\n",
       "    </tr>\n",
       "    <tr>\n",
       "      <th>3</th>\n",
       "      <td>1622</td>\n",
       "      <td>3614</td>\n",
       "    </tr>\n",
       "    <tr>\n",
       "      <th>4</th>\n",
       "      <td>2245</td>\n",
       "      <td>17065</td>\n",
       "    </tr>\n",
       "  </tbody>\n",
       "</table>\n",
       "</div>"
      ],
      "text/plain": [
       "   followers count  tweet count\n",
       "0             3377        36196\n",
       "1                3         1075\n",
       "2              388          850\n",
       "3             1622         3614\n",
       "4             2245        17065"
      ]
     },
     "execution_count": 58,
     "metadata": {},
     "output_type": "execute_result"
    }
   ],
   "source": [
    "MPfollow_upfc.head()"
   ]
  },
  {
   "cell_type": "code",
   "execution_count": 59,
   "id": "d1ee3d76",
   "metadata": {},
   "outputs": [
    {
     "data": {
      "text/plain": [
       "<AxesSubplot:>"
      ]
     },
     "execution_count": 59,
     "metadata": {},
     "output_type": "execute_result"
    },
    {
     "data": {
      "image/png": "[encoded data removed]",
      "text/plain": [
       "<Figure size 1008x432 with 1 Axes>"
      ]
     },
     "metadata": {
      "needs_background": "light"
     },
     "output_type": "display_data"
    }
   ],
   "source": [
    "MPfollow_upfc['tweet count'].plot(kind='box', figsize=(14,6))"
   ]
  },
  {
   "cell_type": "code",
   "execution_count": 60,
   "id": "77e79fe3",
   "metadata": {},
   "outputs": [
    {
     "data": {
      "text/plain": [
       "<AxesSubplot:ylabel='Density'>"
      ]
     },
     "execution_count": 60,
     "metadata": {},
     "output_type": "execute_result"
    },
    {
     "data": {
      "image/png": "[encoded data removed]",
      "text/plain": [
       "<Figure size 1008x432 with 1 Axes>"
      ]
     },
     "metadata": {
      "needs_background": "light"
     },
     "output_type": "display_data"
    }
   ],
   "source": [
    "MPfollow_upfc['tweet count'].plot(kind='density', figsize=(14,6))"
   ]
  },
  {
   "cell_type": "code",
   "execution_count": 61,
   "id": "b91b1b12",
   "metadata": {},
   "outputs": [
    {
     "data": {
      "text/plain": [
       "<AxesSubplot:>"
      ]
     },
     "execution_count": 61,
     "metadata": {},
     "output_type": "execute_result"
    },
    {
     "data": {
      "image/png": "[encoded data removed]",
      "text/plain": [
       "<Figure size 1008x432 with 1 Axes>"
      ]
     },
     "metadata": {
      "needs_background": "light"
     },
     "output_type": "display_data"
    }
   ],
   "source": [
    "MPfollow_upfc['followers count'].plot(kind='box', figsize=(14,6))"
   ]
  },
  {
   "cell_type": "code",
   "execution_count": 62,
   "id": "22c7084b",
   "metadata": {},
   "outputs": [
    {
     "data": {
      "text/plain": [
       "<AxesSubplot:ylabel='Density'>"
      ]
     },
     "execution_count": 62,
     "metadata": {},
     "output_type": "execute_result"
    },
    {
     "data": {
      "image/png": "[encoded data removed]",
      "text/plain": [
       "<Figure size 1008x432 with 1 Axes>"
      ]
     },
     "metadata": {
      "needs_background": "light"
     },
     "output_type": "display_data"
    }
   ],
   "source": [
    "MPfollow_upfc['followers count'].plot(kind='density', figsize=(14,6))"
   ]
  },
  {
   "cell_type": "code",
   "execution_count": 63,
   "id": "527f4db3",
   "metadata": {},
   "outputs": [
    {
     "data": {
      "image/png": "[encoded data removed]",
      "text/plain": [
       "<Figure size 1008x432 with 1 Axes>"
      ]
     },
     "metadata": {
      "needs_background": "light"
     },
     "output_type": "display_data"
    }
   ],
   "source": [
    "ax = MPfollow_upfc['tweet count'].plot(kind='hist',figsize=(14,6))"
   ]
  },
  {
   "cell_type": "code",
   "execution_count": 64,
   "id": "2eaf5330",
   "metadata": {},
   "outputs": [
    {
     "data": {
      "image/png": "[encoded data removed]",
      "text/plain": [
       "<Figure size 1008x432 with 1 Axes>"
      ]
     },
     "metadata": {
      "needs_background": "light"
     },
     "output_type": "display_data"
    }
   ],
   "source": [
    "ax = MPfollow_upfc['followers count'].plot(kind='hist',figsize=(14,6))"
   ]
  },
  {
   "cell_type": "code",
   "execution_count": 65,
   "id": "72eb7509",
   "metadata": {},
   "outputs": [
    {
     "data": {
      "text/html": [
       "<div>\n",
       "<style scoped>\n",
       "    .dataframe tbody tr th:only-of-type {\n",
       "        vertical-align: middle;\n",
       "    }\n",
       "\n",
       "    .dataframe tbody tr th {\n",
       "        vertical-align: top;\n",
       "    }\n",
       "\n",
       "    .dataframe thead th {\n",
       "        text-align: right;\n",
       "    }\n",
       "</style>\n",
       "<table border=\"1\" class=\"dataframe\">\n",
       "  <thead>\n",
       "    <tr style=\"text-align: right;\">\n",
       "      <th></th>\n",
       "      <th>followers count</th>\n",
       "      <th>tweet count</th>\n",
       "    </tr>\n",
       "  </thead>\n",
       "  <tbody>\n",
       "    <tr>\n",
       "      <th>followers count</th>\n",
       "      <td>1.000000</td>\n",
       "      <td>0.369892</td>\n",
       "    </tr>\n",
       "    <tr>\n",
       "      <th>tweet count</th>\n",
       "      <td>0.369892</td>\n",
       "      <td>1.000000</td>\n",
       "    </tr>\n",
       "  </tbody>\n",
       "</table>\n",
       "</div>"
      ],
      "text/plain": [
       "                 followers count  tweet count\n",
       "followers count         1.000000     0.369892\n",
       "tweet count             0.369892     1.000000"
      ]
     },
     "execution_count": 65,
     "metadata": {},
     "output_type": "execute_result"
    }
   ],
   "source": [
    "corr = MPfollow_upfc.corr()\n",
    "corr"
   ]
  },
  {
   "cell_type": "code",
   "execution_count": 66,
   "id": "e353f62b",
   "metadata": {},
   "outputs": [
    {
     "data": {
      "text/plain": [
       "<AxesSubplot:xlabel='tweet count', ylabel='followers count'>"
      ]
     },
     "execution_count": 66,
     "metadata": {},
     "output_type": "execute_result"
    },
    {
     "data": {
      "image/png": "[encoded data removed]",
      "text/plain": [
       "<Figure size 432x432 with 1 Axes>"
      ]
     },
     "metadata": {
      "needs_background": "light"
     },
     "output_type": "display_data"
    }
   ],
   "source": [
    "MPfollow_upfc.plot(kind='scatter', x='tweet count', y='followers count', figsize=(6,6))"
   ]
  },
  {
   "cell_type": "code",
   "execution_count": 67,
   "id": "9258c9c9",
   "metadata": {},
   "outputs": [],
   "source": [
    "MPfollow_upfc = np.random.randint(0, 10, 50) ###creation of an array of 50 random integers between 0 and 10"
   ]
  },
  {
   "cell_type": "markdown",
   "id": "3120233a",
   "metadata": {},
   "source": [
    "# Monkeypox Dataset"
   ]
  },
  {
   "cell_type": "code",
   "execution_count": 70,
   "id": "dca7e49c",
   "metadata": {},
   "outputs": [],
   "source": [
    "Monkeypoxds =pd.read_csv(r\"C:\\Users\\minel\\OneDrive\\Documents\\Entity Coursework\\Final Project\\monkeypox.csv\")"
   ]
  },
  {
   "cell_type": "code",
   "execution_count": 71,
   "id": "3dabf256",
   "metadata": {},
   "outputs": [
    {
     "data": {
      "text/html": [
       "<div>\n",
       "<style scoped>\n",
       "    .dataframe tbody tr th:only-of-type {\n",
       "        vertical-align: middle;\n",
       "    }\n",
       "\n",
       "    .dataframe tbody tr th {\n",
       "        vertical-align: top;\n",
       "    }\n",
       "\n",
       "    .dataframe thead th {\n",
       "        text-align: right;\n",
       "    }\n",
       "</style>\n",
       "<table border=\"1\" class=\"dataframe\">\n",
       "  <thead>\n",
       "    <tr style=\"text-align: right;\">\n",
       "      <th></th>\n",
       "      <th>number</th>\n",
       "      <th>created_at</th>\n",
       "      <th>text</th>\n",
       "      <th>source</th>\n",
       "      <th>user is verified</th>\n",
       "      <th>user has url</th>\n",
       "      <th>user description</th>\n",
       "      <th>user created at</th>\n",
       "      <th>retweet_count</th>\n",
       "      <th>reply_count</th>\n",
       "      <th>like_count</th>\n",
       "      <th>quote_count</th>\n",
       "      <th>followers count</th>\n",
       "      <th>following count</th>\n",
       "      <th>tweet count</th>\n",
       "      <th>listed_count</th>\n",
       "      <th>user location</th>\n",
       "      <th>binary_class</th>\n",
       "      <th>ternary_class</th>\n",
       "    </tr>\n",
       "  </thead>\n",
       "  <tbody>\n",
       "    <tr>\n",
       "      <th>0</th>\n",
       "      <td>18</td>\n",
       "      <td>2022-07-08 10:12:04</td>\n",
       "      <td>Much of the focus on #monkeypox recently has b...</td>\n",
       "      <td>Twitter Web App</td>\n",
       "      <td>False</td>\n",
       "      <td>False</td>\n",
       "      <td>Mother of 4, ex wife of 3. Battling health ine...</td>\n",
       "      <td>2011-08-14 19:22:06</td>\n",
       "      <td>2</td>\n",
       "      <td>0</td>\n",
       "      <td>2</td>\n",
       "      <td>0</td>\n",
       "      <td>3696</td>\n",
       "      <td>2993</td>\n",
       "      <td>3459</td>\n",
       "      <td>25</td>\n",
       "      <td>London, England</td>\n",
       "      <td>0</td>\n",
       "      <td>0</td>\n",
       "    </tr>\n",
       "    <tr>\n",
       "      <th>1</th>\n",
       "      <td>31</td>\n",
       "      <td>2022-07-09 00:00:00</td>\n",
       "      <td>ICYMI: The first probable case of monkeypox in...</td>\n",
       "      <td>TweetDeck</td>\n",
       "      <td>True</td>\n",
       "      <td>True</td>\n",
       "      <td>WCHS-TV serves the Charleston-Huntington marke...</td>\n",
       "      <td>2009-04-17 15:21:43</td>\n",
       "      <td>2</td>\n",
       "      <td>0</td>\n",
       "      <td>1</td>\n",
       "      <td>0</td>\n",
       "      <td>75836</td>\n",
       "      <td>1753</td>\n",
       "      <td>125528</td>\n",
       "      <td>531</td>\n",
       "      <td>Charleston, WV</td>\n",
       "      <td>0</td>\n",
       "      <td>0</td>\n",
       "    </tr>\n",
       "    <tr>\n",
       "      <th>2</th>\n",
       "      <td>32</td>\n",
       "      <td>2022-07-09 00:00:01</td>\n",
       "      <td>WHO: #Monkeypox outbreak not yet a global publ...</td>\n",
       "      <td>eClincher</td>\n",
       "      <td>False</td>\n",
       "      <td>False</td>\n",
       "      <td>Patient Engagement | Revenue Cycle Management ...</td>\n",
       "      <td>2019-03-05 19:24:33</td>\n",
       "      <td>0</td>\n",
       "      <td>0</td>\n",
       "      <td>0</td>\n",
       "      <td>0</td>\n",
       "      <td>2852</td>\n",
       "      <td>2381</td>\n",
       "      <td>10615</td>\n",
       "      <td>14</td>\n",
       "      <td>Utah, USA</td>\n",
       "      <td>0</td>\n",
       "      <td>0</td>\n",
       "    </tr>\n",
       "    <tr>\n",
       "      <th>3</th>\n",
       "      <td>33</td>\n",
       "      <td>2022-07-09 00:00:04</td>\n",
       "      <td>According to the CDC, monkeypox is usually spr...</td>\n",
       "      <td>Sprout Social</td>\n",
       "      <td>True</td>\n",
       "      <td>True</td>\n",
       "      <td>Home of the Minnesota @Twins and @Timberwolves...</td>\n",
       "      <td>2009-02-18 14:57:13</td>\n",
       "      <td>1</td>\n",
       "      <td>0</td>\n",
       "      <td>1</td>\n",
       "      <td>0</td>\n",
       "      <td>22897</td>\n",
       "      <td>5665</td>\n",
       "      <td>119258</td>\n",
       "      <td>663</td>\n",
       "      <td>Downtown Minneapolis</td>\n",
       "      <td>0</td>\n",
       "      <td>0</td>\n",
       "    </tr>\n",
       "    <tr>\n",
       "      <th>4</th>\n",
       "      <td>34</td>\n",
       "      <td>2022-07-09 00:00:07</td>\n",
       "      <td>LGBTQ advocates and health care organizations ...</td>\n",
       "      <td>SocialNewsDesk</td>\n",
       "      <td>True</td>\n",
       "      <td>True</td>\n",
       "      <td>Spectrum News 1 offers the best 24-hour local ...</td>\n",
       "      <td>2008-10-27 02:14:13</td>\n",
       "      <td>0</td>\n",
       "      <td>0</td>\n",
       "      <td>0</td>\n",
       "      <td>0</td>\n",
       "      <td>81296</td>\n",
       "      <td>466</td>\n",
       "      <td>148219</td>\n",
       "      <td>747</td>\n",
       "      <td>Rochester, NY</td>\n",
       "      <td>0</td>\n",
       "      <td>0</td>\n",
       "    </tr>\n",
       "  </tbody>\n",
       "</table>\n",
       "</div>"
      ],
      "text/plain": [
       "   number           created_at  \\\n",
       "0      18  2022-07-08 10:12:04   \n",
       "1      31  2022-07-09 00:00:00   \n",
       "2      32  2022-07-09 00:00:01   \n",
       "3      33  2022-07-09 00:00:04   \n",
       "4      34  2022-07-09 00:00:07   \n",
       "\n",
       "                                                text           source  \\\n",
       "0  Much of the focus on #monkeypox recently has b...  Twitter Web App   \n",
       "1  ICYMI: The first probable case of monkeypox in...        TweetDeck   \n",
       "2  WHO: #Monkeypox outbreak not yet a global publ...        eClincher   \n",
       "3  According to the CDC, monkeypox is usually spr...    Sprout Social   \n",
       "4  LGBTQ advocates and health care organizations ...   SocialNewsDesk   \n",
       "\n",
       "   user is verified  user has url  \\\n",
       "0             False         False   \n",
       "1              True          True   \n",
       "2             False         False   \n",
       "3              True          True   \n",
       "4              True          True   \n",
       "\n",
       "                                    user description      user created at  \\\n",
       "0  Mother of 4, ex wife of 3. Battling health ine...  2011-08-14 19:22:06   \n",
       "1  WCHS-TV serves the Charleston-Huntington marke...  2009-04-17 15:21:43   \n",
       "2  Patient Engagement | Revenue Cycle Management ...  2019-03-05 19:24:33   \n",
       "3  Home of the Minnesota @Twins and @Timberwolves...  2009-02-18 14:57:13   \n",
       "4  Spectrum News 1 offers the best 24-hour local ...  2008-10-27 02:14:13   \n",
       "\n",
       "   retweet_count  reply_count  like_count  quote_count  followers count  \\\n",
       "0              2            0           2            0             3696   \n",
       "1              2            0           1            0            75836   \n",
       "2              0            0           0            0             2852   \n",
       "3              1            0           1            0            22897   \n",
       "4              0            0           0            0            81296   \n",
       "\n",
       "   following count  tweet count  listed_count         user location  \\\n",
       "0             2993         3459            25       London, England   \n",
       "1             1753       125528           531        Charleston, WV   \n",
       "2             2381        10615            14             Utah, USA   \n",
       "3             5665       119258           663  Downtown Minneapolis   \n",
       "4              466       148219           747         Rochester, NY   \n",
       "\n",
       "   binary_class  ternary_class  \n",
       "0             0              0  \n",
       "1             0              0  \n",
       "2             0              0  \n",
       "3             0              0  \n",
       "4             0              0  "
      ]
     },
     "execution_count": 71,
     "metadata": {},
     "output_type": "execute_result"
    }
   ],
   "source": [
    "Monkeypoxds.head()"
   ]
  },
  {
   "cell_type": "code",
   "execution_count": 72,
   "id": "13ac5221",
   "metadata": {},
   "outputs": [],
   "source": [
    "Monkeypoxds1 = Monkeypoxds[['followers count','tweet count']]"
   ]
  },
  {
   "cell_type": "code",
   "execution_count": 73,
   "id": "a063b11e",
   "metadata": {},
   "outputs": [
    {
     "data": {
      "text/html": [
       "<div>\n",
       "<style scoped>\n",
       "    .dataframe tbody tr th:only-of-type {\n",
       "        vertical-align: middle;\n",
       "    }\n",
       "\n",
       "    .dataframe tbody tr th {\n",
       "        vertical-align: top;\n",
       "    }\n",
       "\n",
       "    .dataframe thead th {\n",
       "        text-align: right;\n",
       "    }\n",
       "</style>\n",
       "<table border=\"1\" class=\"dataframe\">\n",
       "  <thead>\n",
       "    <tr style=\"text-align: right;\">\n",
       "      <th></th>\n",
       "      <th>followers count</th>\n",
       "      <th>tweet count</th>\n",
       "    </tr>\n",
       "  </thead>\n",
       "  <tbody>\n",
       "    <tr>\n",
       "      <th>0</th>\n",
       "      <td>3696</td>\n",
       "      <td>3459</td>\n",
       "    </tr>\n",
       "    <tr>\n",
       "      <th>1</th>\n",
       "      <td>75836</td>\n",
       "      <td>125528</td>\n",
       "    </tr>\n",
       "    <tr>\n",
       "      <th>2</th>\n",
       "      <td>2852</td>\n",
       "      <td>10615</td>\n",
       "    </tr>\n",
       "    <tr>\n",
       "      <th>3</th>\n",
       "      <td>22897</td>\n",
       "      <td>119258</td>\n",
       "    </tr>\n",
       "    <tr>\n",
       "      <th>4</th>\n",
       "      <td>81296</td>\n",
       "      <td>148219</td>\n",
       "    </tr>\n",
       "  </tbody>\n",
       "</table>\n",
       "</div>"
      ],
      "text/plain": [
       "   followers count  tweet count\n",
       "0             3696         3459\n",
       "1            75836       125528\n",
       "2             2852        10615\n",
       "3            22897       119258\n",
       "4            81296       148219"
      ]
     },
     "execution_count": 73,
     "metadata": {},
     "output_type": "execute_result"
    }
   ],
   "source": [
    "Monkeypoxds1.head()"
   ]
  },
  {
   "cell_type": "markdown",
   "id": "54347780",
   "metadata": {},
   "source": [
    "### Followers count value counts"
   ]
  },
  {
   "cell_type": "code",
   "execution_count": 74,
   "id": "b86358e7",
   "metadata": {},
   "outputs": [
    {
     "data": {
      "text/plain": [
       "4        72\n",
       "6        57\n",
       "0        56\n",
       "5        49\n",
       "9        46\n",
       "         ..\n",
       "44371     1\n",
       "52363     1\n",
       "79553     1\n",
       "605       1\n",
       "3944      1\n",
       "Name: followers count, Length: 2433, dtype: int64"
      ]
     },
     "execution_count": 74,
     "metadata": {},
     "output_type": "execute_result"
    }
   ],
   "source": [
    "Monkeypoxds1['followers count'].value_counts()"
   ]
  },
  {
   "cell_type": "code",
   "execution_count": 75,
   "id": "a2d08ba8",
   "metadata": {},
   "outputs": [
    {
     "data": {
      "text/html": [
       "<div>\n",
       "<style scoped>\n",
       "    .dataframe tbody tr th:only-of-type {\n",
       "        vertical-align: middle;\n",
       "    }\n",
       "\n",
       "    .dataframe tbody tr th {\n",
       "        vertical-align: top;\n",
       "    }\n",
       "\n",
       "    .dataframe thead th {\n",
       "        text-align: right;\n",
       "    }\n",
       "</style>\n",
       "<table border=\"1\" class=\"dataframe\">\n",
       "  <thead>\n",
       "    <tr style=\"text-align: right;\">\n",
       "      <th></th>\n",
       "      <th>followers count</th>\n",
       "      <th>tweet count</th>\n",
       "    </tr>\n",
       "  </thead>\n",
       "  <tbody>\n",
       "    <tr>\n",
       "      <th>0</th>\n",
       "      <td>3696</td>\n",
       "      <td>3459</td>\n",
       "    </tr>\n",
       "    <tr>\n",
       "      <th>1</th>\n",
       "      <td>75836</td>\n",
       "      <td>125528</td>\n",
       "    </tr>\n",
       "    <tr>\n",
       "      <th>2</th>\n",
       "      <td>2852</td>\n",
       "      <td>10615</td>\n",
       "    </tr>\n",
       "    <tr>\n",
       "      <th>3</th>\n",
       "      <td>22897</td>\n",
       "      <td>119258</td>\n",
       "    </tr>\n",
       "    <tr>\n",
       "      <th>4</th>\n",
       "      <td>81296</td>\n",
       "      <td>148219</td>\n",
       "    </tr>\n",
       "  </tbody>\n",
       "</table>\n",
       "</div>"
      ],
      "text/plain": [
       "   followers count  tweet count\n",
       "0             3696         3459\n",
       "1            75836       125528\n",
       "2             2852        10615\n",
       "3            22897       119258\n",
       "4            81296       148219"
      ]
     },
     "execution_count": 75,
     "metadata": {},
     "output_type": "execute_result"
    }
   ],
   "source": [
    "Monkeypoxds1.head()"
   ]
  },
  {
   "cell_type": "markdown",
   "id": "81bec38d",
   "metadata": {},
   "source": [
    "### Followers Count description "
   ]
  },
  {
   "cell_type": "code",
   "execution_count": 76,
   "id": "243fd317",
   "metadata": {},
   "outputs": [
    {
     "data": {
      "text/plain": [
       "count    5.787000e+03\n",
       "mean     3.678703e+04\n",
       "std      5.183490e+05\n",
       "min      0.000000e+00\n",
       "25%      9.300000e+01\n",
       "50%      5.390000e+02\n",
       "75%      2.733500e+03\n",
       "max      2.212650e+07\n",
       "Name: followers count, dtype: float64"
      ]
     },
     "execution_count": 76,
     "metadata": {},
     "output_type": "execute_result"
    }
   ],
   "source": [
    "Monkeypoxds1['followers count'].describe()"
   ]
  },
  {
   "cell_type": "markdown",
   "id": "e10cb765",
   "metadata": {},
   "source": [
    "### Tweet count value counts"
   ]
  },
  {
   "cell_type": "code",
   "execution_count": 77,
   "id": "8ca9a2c7",
   "metadata": {},
   "outputs": [
    {
     "data": {
      "text/plain": [
       "23156     43\n",
       "2412      24\n",
       "179461    22\n",
       "128163    21\n",
       "1026      18\n",
       "          ..\n",
       "89429      1\n",
       "6073       1\n",
       "16985      1\n",
       "11570      1\n",
       "2066       1\n",
       "Name: tweet count, Length: 4288, dtype: int64"
      ]
     },
     "execution_count": 77,
     "metadata": {},
     "output_type": "execute_result"
    }
   ],
   "source": [
    "Monkeypoxds1['tweet count'].value_counts()"
   ]
  },
  {
   "cell_type": "markdown",
   "id": "abc10a18",
   "metadata": {},
   "source": [
    "### Mean"
   ]
  },
  {
   "cell_type": "code",
   "execution_count": 78,
   "id": "d21ed4b6",
   "metadata": {},
   "outputs": [
    {
     "data": {
      "text/plain": [
       "followers count    36787.029722\n",
       "tweet count        60421.381545\n",
       "dtype: float64"
      ]
     },
     "execution_count": 78,
     "metadata": {},
     "output_type": "execute_result"
    }
   ],
   "source": [
    "Monkeypoxds1.mean()"
   ]
  },
  {
   "cell_type": "markdown",
   "id": "fdd1f6d3",
   "metadata": {},
   "source": [
    "### Variables"
   ]
  },
  {
   "cell_type": "code",
   "execution_count": 79,
   "id": "26a49ee4",
   "metadata": {},
   "outputs": [
    {
     "data": {
      "text/plain": [
       "followers count    2.686857e+11\n",
       "tweet count        2.741284e+10\n",
       "dtype: float64"
      ]
     },
     "execution_count": 79,
     "metadata": {},
     "output_type": "execute_result"
    }
   ],
   "source": [
    "Monkeypoxds1.var()"
   ]
  },
  {
   "cell_type": "markdown",
   "id": "a15c827d",
   "metadata": {},
   "source": [
    "### Standard Deviation "
   ]
  },
  {
   "cell_type": "code",
   "execution_count": 80,
   "id": "08e83370",
   "metadata": {},
   "outputs": [
    {
     "data": {
      "text/plain": [
       "followers count    518349.031114\n",
       "tweet count        165568.230708\n",
       "dtype: float64"
      ]
     },
     "execution_count": 80,
     "metadata": {},
     "output_type": "execute_result"
    }
   ],
   "source": [
    "Monkeypoxds1.std()"
   ]
  },
  {
   "cell_type": "code",
   "execution_count": 81,
   "id": "472e5216",
   "metadata": {},
   "outputs": [
    {
     "data": {
      "text/plain": [
       "(5787, 2)"
      ]
     },
     "execution_count": 81,
     "metadata": {},
     "output_type": "execute_result"
    }
   ],
   "source": [
    "Monkeypoxds1.shape"
   ]
  },
  {
   "cell_type": "code",
   "execution_count": 82,
   "id": "49106f4c",
   "metadata": {},
   "outputs": [
    {
     "data": {
      "text/html": [
       "<div>\n",
       "<style scoped>\n",
       "    .dataframe tbody tr th:only-of-type {\n",
       "        vertical-align: middle;\n",
       "    }\n",
       "\n",
       "    .dataframe tbody tr th {\n",
       "        vertical-align: top;\n",
       "    }\n",
       "\n",
       "    .dataframe thead th {\n",
       "        text-align: right;\n",
       "    }\n",
       "</style>\n",
       "<table border=\"1\" class=\"dataframe\">\n",
       "  <thead>\n",
       "    <tr style=\"text-align: right;\">\n",
       "      <th></th>\n",
       "      <th>followers count</th>\n",
       "      <th>tweet count</th>\n",
       "    </tr>\n",
       "  </thead>\n",
       "  <tbody>\n",
       "    <tr>\n",
       "      <th>0</th>\n",
       "      <td>3696</td>\n",
       "      <td>3459</td>\n",
       "    </tr>\n",
       "    <tr>\n",
       "      <th>1</th>\n",
       "      <td>75836</td>\n",
       "      <td>125528</td>\n",
       "    </tr>\n",
       "    <tr>\n",
       "      <th>2</th>\n",
       "      <td>2852</td>\n",
       "      <td>10615</td>\n",
       "    </tr>\n",
       "    <tr>\n",
       "      <th>3</th>\n",
       "      <td>22897</td>\n",
       "      <td>119258</td>\n",
       "    </tr>\n",
       "    <tr>\n",
       "      <th>4</th>\n",
       "      <td>81296</td>\n",
       "      <td>148219</td>\n",
       "    </tr>\n",
       "  </tbody>\n",
       "</table>\n",
       "</div>"
      ],
      "text/plain": [
       "   followers count  tweet count\n",
       "0             3696         3459\n",
       "1            75836       125528\n",
       "2             2852        10615\n",
       "3            22897       119258\n",
       "4            81296       148219"
      ]
     },
     "execution_count": 82,
     "metadata": {},
     "output_type": "execute_result"
    }
   ],
   "source": [
    "Monkeypoxds1.head()"
   ]
  },
  {
   "cell_type": "code",
   "execution_count": 83,
   "id": "60e5ac34",
   "metadata": {},
   "outputs": [
    {
     "data": {
      "text/plain": [
       "<AxesSubplot:>"
      ]
     },
     "execution_count": 83,
     "metadata": {},
     "output_type": "execute_result"
    },
    {
     "data": {
      "image/png": "[encoded data removed]",
      "text/plain": [
       "<Figure size 1008x432 with 1 Axes>"
      ]
     },
     "metadata": {
      "needs_background": "light"
     },
     "output_type": "display_data"
    }
   ],
   "source": [
    "Monkeypoxds1['tweet count'].plot(kind='box', figsize=(14,6))"
   ]
  },
  {
   "cell_type": "code",
   "execution_count": 84,
   "id": "2630452d",
   "metadata": {},
   "outputs": [
    {
     "data": {
      "text/plain": [
       "<AxesSubplot:ylabel='Density'>"
      ]
     },
     "execution_count": 84,
     "metadata": {},
     "output_type": "execute_result"
    },
    {
     "data": {
      "image/png": "[encoded data removed]",
      "text/plain": [
       "<Figure size 1008x432 with 1 Axes>"
      ]
     },
     "metadata": {
      "needs_background": "light"
     },
     "output_type": "display_data"
    }
   ],
   "source": [
    "Monkeypoxds1['tweet count'].plot(kind='density', figsize=(14,6))"
   ]
  },
  {
   "cell_type": "code",
   "execution_count": 85,
   "id": "8e8ec2e9",
   "metadata": {},
   "outputs": [
    {
     "data": {
      "text/plain": [
       "<AxesSubplot:>"
      ]
     },
     "execution_count": 85,
     "metadata": {},
     "output_type": "execute_result"
    },
    {
     "data": {
      "image/png": "[encoded data removed]",
      "text/plain": [
       "<Figure size 1008x432 with 1 Axes>"
      ]
     },
     "metadata": {
      "needs_background": "light"
     },
     "output_type": "display_data"
    }
   ],
   "source": [
    "Monkeypoxds1['followers count'].plot(kind='box', figsize=(14,6))"
   ]
  },
  {
   "cell_type": "code",
   "execution_count": 86,
   "id": "960fd361",
   "metadata": {},
   "outputs": [
    {
     "data": {
      "image/png": "[encoded data removed]",
      "text/plain": [
       "<Figure size 1008x432 with 1 Axes>"
      ]
     },
     "metadata": {
      "needs_background": "light"
     },
     "output_type": "display_data"
    }
   ],
   "source": [
    "ax = Monkeypoxds1['followers count'].plot(kind='hist',figsize=(14,6))"
   ]
  },
  {
   "cell_type": "code",
   "execution_count": 87,
   "id": "61924b05",
   "metadata": {},
   "outputs": [
    {
     "data": {
      "text/plain": [
       "<AxesSubplot:ylabel='Density'>"
      ]
     },
     "execution_count": 87,
     "metadata": {},
     "output_type": "execute_result"
    },
    {
     "data": {
      "image/png": "[encoded data removed]",
      "text/plain": [
       "<Figure size 1008x432 with 1 Axes>"
      ]
     },
     "metadata": {
      "needs_background": "light"
     },
     "output_type": "display_data"
    }
   ],
   "source": [
    "Monkeypoxds1['followers count'].plot(kind='density', figsize=(14,6))"
   ]
  },
  {
   "cell_type": "code",
   "execution_count": 88,
   "id": "cbc8d59c",
   "metadata": {},
   "outputs": [
    {
     "data": {
      "text/html": [
       "<div>\n",
       "<style scoped>\n",
       "    .dataframe tbody tr th:only-of-type {\n",
       "        vertical-align: middle;\n",
       "    }\n",
       "\n",
       "    .dataframe tbody tr th {\n",
       "        vertical-align: top;\n",
       "    }\n",
       "\n",
       "    .dataframe thead th {\n",
       "        text-align: right;\n",
       "    }\n",
       "</style>\n",
       "<table border=\"1\" class=\"dataframe\">\n",
       "  <thead>\n",
       "    <tr style=\"text-align: right;\">\n",
       "      <th></th>\n",
       "      <th>followers count</th>\n",
       "      <th>tweet count</th>\n",
       "    </tr>\n",
       "  </thead>\n",
       "  <tbody>\n",
       "    <tr>\n",
       "      <th>followers count</th>\n",
       "      <td>1.000000</td>\n",
       "      <td>0.163806</td>\n",
       "    </tr>\n",
       "    <tr>\n",
       "      <th>tweet count</th>\n",
       "      <td>0.163806</td>\n",
       "      <td>1.000000</td>\n",
       "    </tr>\n",
       "  </tbody>\n",
       "</table>\n",
       "</div>"
      ],
      "text/plain": [
       "                 followers count  tweet count\n",
       "followers count         1.000000     0.163806\n",
       "tweet count             0.163806     1.000000"
      ]
     },
     "execution_count": 88,
     "metadata": {},
     "output_type": "execute_result"
    }
   ],
   "source": [
    "corr = Monkeypoxds1.corr()\n",
    "corr"
   ]
  },
  {
   "cell_type": "code",
   "execution_count": null,
   "id": "120b3dc7",
   "metadata": {},
   "outputs": [],
   "source": []
  }
 ],
 "metadata": {
  "kernelspec": {
   "display_name": "Python 3 (ipykernel)",
   "language": "python",
   "name": "python3"
  },
  "language_info": {
   "codemirror_mode": {
    "name": "ipython",
    "version": 3
   },
   "file_extension": ".py",
   "mimetype": "text/x-python",
   "name": "python",
   "nbconvert_exporter": "python",
   "pygments_lexer": "ipython3",
   "version": "3.10.4"
  }
 },
 "nbformat": 4,
 "nbformat_minor": 5
}
