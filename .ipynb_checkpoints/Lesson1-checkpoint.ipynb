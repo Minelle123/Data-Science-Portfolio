{
 "cells": [
  {
   "cell_type": "code",
   "execution_count": 1,
   "id": "dca19358-d9f4-4455-9c27-6807b16c97c3",
   "metadata": {},
   "outputs": [
    {
     "name": "stdout",
     "output_type": "stream",
     "text": [
      "Hello World\n"
     ]
    }
   ],
   "source": [
    "print(\"Hello World\")"
   ]
  },
  {
   "cell_type": "code",
   "execution_count": 3,
   "id": "e685dc09-8339-435d-9a2a-f0b0c80cdfb4",
   "metadata": {},
   "outputs": [
    {
     "name": "stdout",
     "output_type": "stream",
     "text": [
      "Hello World\n"
     ]
    }
   ],
   "source": [
    "my_message = \"Hello World\"\n",
    "print(my_message)"
   ]
  },
  {
   "cell_type": "code",
   "execution_count": 4,
   "id": "18b51abe-b973-42e9-8aad-41e4f6b48fe2",
   "metadata": {},
   "outputs": [
    {
     "name": "stdout",
     "output_type": "stream",
     "text": [
      "Samanta\n"
     ]
    }
   ],
   "source": [
    "my_message = \"Samanta\"\n",
    "print(my_message)"
   ]
  },
  {
   "cell_type": "code",
   "execution_count": 5,
   "id": "bd43bda4-b75e-47fa-935e-9c820ad3c199",
   "metadata": {},
   "outputs": [
    {
     "name": "stdout",
     "output_type": "stream",
     "text": [
      "cat\n"
     ]
    }
   ],
   "source": [
    "animal_type = \"cat\"\n",
    "print(animal_type)"
   ]
  },
  {
   "cell_type": "code",
   "execution_count": 6,
   "id": "0baa821c-5bfd-4d06-ac5a-82dcacd936e1",
   "metadata": {},
   "outputs": [
    {
     "name": "stdout",
     "output_type": "stream",
     "text": [
      "34\n"
     ]
    }
   ],
   "source": [
    "human_age = 34\n",
    "print(human_age)"
   ]
  },
  {
   "cell_type": "code",
   "execution_count": 7,
   "id": "87ff9f48-929a-4755-8e44-d6a0e22ead55",
   "metadata": {},
   "outputs": [
    {
     "name": "stdout",
     "output_type": "stream",
     "text": [
      "bright and sunny\n"
     ]
    }
   ],
   "source": [
    "weather = \"bright and sunny\"\n",
    "print(weather)"
   ]
  },
  {
   "cell_type": "code",
   "execution_count": null,
   "id": "f75e6499-881d-4f5c-9032-7e492958c1b3",
   "metadata": {},
   "outputs": [],
   "source": []
  }
 ],
 "metadata": {
  "kernelspec": {
   "display_name": "Python 3 (ipykernel)",
   "language": "python",
   "name": "python3"
  },
  "language_info": {
   "codemirror_mode": {
    "name": "ipython",
    "version": 3
   },
   "file_extension": ".py",
   "mimetype": "text/x-python",
   "name": "python",
   "nbconvert_exporter": "python",
   "pygments_lexer": "ipython3",
   "version": "3.10.4"
  }
 },
 "nbformat": 4,
 "nbformat_minor": 5
}
