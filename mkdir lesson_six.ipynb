{
 "cells": [
  {
   "cell_type": "code",
   "execution_count": 1,
   "id": "2412edc5-925d-48ce-9c02-38bb852adcf4",
   "metadata": {},
   "outputs": [],
   "source": [
    "# 1. Define the class `Dog`\n",
    "class Dog:\n",
    "    # 2. The docstring for the `Dog` class\n",
    "    \"\"\"The summary docstring for the Dog class. This class represents a Dog.\"\"\"\n",
    "\n",
    "    # 3. The initializer of the class, where the class properties are initialized\n",
    "    def __init__(self, name, age):\n",
    "        # 4. Class methods, including the initializer, should have a docstring\n",
    "        \"\"\"Initialize attributes to describe a Dog.\"\"\"\n",
    "\n",
    "        # 5. Below are the properties of the `Dog` class, each with it's own docstring\n",
    "        self.name = name    #: The `name` property represents the dog's name\n",
    "        self.age = age      #: The `age` property represents the dog's age\n",
    "\n",
    "    # 6. Two methods, `stay` and `sit`, are defined for the `Dog` class\n",
    "    def sit(self):\n",
    "        \"\"\"Simulates a dog sitting on command.\"\"\"\n",
    "        print(self.name.title() + \" is sitting.\")\n",
    "\n",
    "    def stay(self):\n",
    "        \"\"\"Simulates a dog that will stay on command.\"\"\"\n",
    "        print(self.name.title() + \" was told to stay.\")"
   ]
  },
  {
   "cell_type": "code",
   "execution_count": 2,
   "id": "d8ecf3a0-dc57-4d58-8c75-6eba98bf660f",
   "metadata": {},
   "outputs": [],
   "source": [
    "class Dog:\n",
    "    \"\"\"The summary docstring for the Dog class. This class represents a Dog.\"\"\"\n",
    "\n",
    "    def __init__(self, name, age):\n",
    "        \"\"\"Initialize attributes to describe a Dog.\"\"\"\n",
    "        self.name = name    #: The `name` property represents the dog's name\n",
    "        self.age = age      #: The `age` property represents the dog's age\n",
    "\n",
    "    def sit(self):\n",
    "        \"\"\"Simulates a dog sitting on command.\"\"\"\n",
    "        print(self.name.title() + \" is sitting.\")\n",
    "\n",
    "    def stay(self):\n",
    "        \"\"\"Simulates a dog that will stay on command.\"\"\"\n",
    "        print(self.name.title() + \" was told to stay.\")"
   ]
  },
  {
   "cell_type": "code",
   "execution_count": 3,
   "id": "15452cdf-fe6f-4fd8-9d9c-419070762763",
   "metadata": {},
   "outputs": [
    {
     "name": "stdout",
     "output_type": "stream",
     "text": [
      "The name of the dog is Fido and the age is 5\n",
      "The name of the dog is Spot and the age is 7\n",
      "The name of the dog is Fido and the age is 9\n",
      "The name of the dog is Spot and the age is 7\n"
     ]
    }
   ],
   "source": [
    "# `Dog` class defined here\n",
    "# ...\n",
    "\n",
    "# create two instances of `Dog`\n",
    "fido = Dog('Fido', 5)\n",
    "spot = Dog('Spot', 7)\n",
    "\n",
    "# print the name and age of each instance\n",
    "print(\"The name of the dog is\", fido.name, \"and the age is\", fido.age)\n",
    "print(\"The name of the dog is\", spot.name, \"and the age is\", spot.age)\n",
    "\n",
    "# change fido's age and print both again\n",
    "fido.age = 9\n",
    "\n",
    "print(\"The name of the dog is\", fido.name, \"and the age is\", fido.age)\n",
    "print(\"The name of the dog is\", spot.name, \"and the age is\", spot.age)"
   ]
  },
  {
   "cell_type": "code",
   "execution_count": 4,
   "id": "03a22759-73e9-4648-adf6-8e99cf776342",
   "metadata": {},
   "outputs": [
    {
     "name": "stdout",
     "output_type": "stream",
     "text": [
      "Fido is sitting.\n",
      "Fido was told to stay.\n",
      "Spot is sitting.\n",
      "Spot was told to stay.\n"
     ]
    }
   ],
   "source": [
    "# `Dog` class defined here\n",
    "# ...\n",
    "\n",
    "# create two instances of `Dog`\n",
    "fido = Dog('Fido', 5)\n",
    "spot = Dog('Spot', 7)\n",
    "\n",
    "# tell both to sit and stay\n",
    "fido.sit()\n",
    "fido.stay()\n",
    "spot.sit()\n",
    "spot.stay()"
   ]
  },
  {
   "cell_type": "code",
   "execution_count": 5,
   "id": "d822b03f-4a36-4f41-93f6-1f436ce6f7f8",
   "metadata": {},
   "outputs": [
    {
     "name": "stdout",
     "output_type": "stream",
     "text": [
      "Mittens says Meow\n",
      "Feather says Meow\n",
      "Mittens says Woof\n",
      "Feather says Woof\n"
     ]
    }
   ],
   "source": [
    "class Cat:\n",
    "    \"\"\"This class represents a cat.\"\"\"\n",
    "\n",
    "    # 1. This is a class variable that is shared by ALL instances of the class\n",
    "    sound_made = 'Meow'\n",
    "\n",
    "    # 2. The class initialization method\n",
    "    def __init__(self, name):\n",
    "        \"\"\"Initializer of Cat class\"\"\"\n",
    "        self.name = name    #: The name of the Cat instance\n",
    "\n",
    "    # 3. this method prints out the class variable `sound_made`\n",
    "    def say_something(self):\n",
    "        \"\"\"Speak!\"\"\"\n",
    "        print(self.name, \"says\", Cat.sound_made)\n",
    "\n",
    "# 4. create two Cat instances\n",
    "mittens = Cat('Mittens')\n",
    "feather = Cat('Feather')\n",
    "\n",
    "# 5. call `say_something` method on each\n",
    "mittens.say_something()\n",
    "feather.say_something()\n",
    "\n",
    "# 6. change the value of the class variable\n",
    "Cat.sound_made = 'Woof'\n",
    "\n",
    "# 7. call `say_something` again for each instance after the change\n",
    "mittens.say_something()\n",
    "feather.say_something()"
   ]
  },
  {
   "cell_type": "code",
   "execution_count": 6,
   "id": "b62a585c-0fce-42d9-b1b4-ee141debd6a9",
   "metadata": {},
   "outputs": [
    {
     "name": "stdout",
     "output_type": "stream",
     "text": [
      "My class property value is I am a class variable\n",
      "My instance property value is Whiskers\n",
      "I am a class variable\n",
      "Whiskers\n"
     ]
    }
   ],
   "source": [
    "class Cat:\n",
    "    class_var = \"I am a class variable\"\n",
    "\n",
    "    def __init__(self, instance_var):\n",
    "        self.instance_var = instance_var\n",
    "\n",
    "    def print_properties(self):\n",
    "        print(\"My class property value is\", Cat.class_var)\n",
    "        print(\"My instance property value is\", self.instance_var)\n",
    "\n",
    "my_cat = Cat('Whiskers')\n",
    "my_cat.print_properties()\n",
    "\n",
    "print(Cat.class_var)\n",
    "print(my_cat.instance_var)"
   ]
  },
  {
   "cell_type": "code",
   "execution_count": 7,
   "id": "563ff8b8-f73d-40fd-bc66-ac508baf7a81",
   "metadata": {},
   "outputs": [
    {
     "name": "stdout",
     "output_type": "stream",
     "text": [
      "Ducks say quack\n",
      "Daffy says Hello\n"
     ]
    }
   ],
   "source": [
    "class Duck:\n",
    "    \"\"\"This class represents a duck.\"\"\"\n",
    "\n",
    "    # 1. Class variable available to all instances\n",
    "    sound_made = \"quack\"\n",
    "\n",
    "    def __init__(self, name):\n",
    "        \"\"\"Duck initializer\"\"\"\n",
    "        self.name = name\n",
    "\n",
    "    # 2. Instance method for saying something ('what')\n",
    "    def say(self, what):\n",
    "        \"\"\"The instance says 'what'\"\"\"\n",
    "        print(self.name, \"says\", what)\n",
    "\n",
    "    # 3. Class method for speaking the sound all ducks make\n",
    "    @staticmethod\n",
    "    def speak():\n",
    "        \"\"\"The class says sound_made\"\"\"\n",
    "        print(\"Ducks say\", Duck.sound_made)\n",
    "\n",
    "# 4. Calling the class method\n",
    "Duck.speak()\n",
    "\n",
    "# 5. Creating an instance and calling the instance method\n",
    "daffy = Duck('Daffy')\n",
    "daffy.say('Hello')"
   ]
  },
  {
   "cell_type": "code",
   "execution_count": 8,
   "id": "6cbc8e7e-8354-4bba-94bd-3ac588d6a907",
   "metadata": {},
   "outputs": [
    {
     "name": "stdout",
     "output_type": "stream",
     "text": [
      "Name: Bill , Grade: Freshman\n",
      "Name: Sally , Grade: Junior\n",
      "--------\n",
      "Name: Bill , Grade: Freshman\n",
      "Name: Sally , Grade: Junior\n"
     ]
    }
   ],
   "source": [
    "# 1. Define the `Student` class\n",
    "class Student:\n",
    "    \"\"\"This models a student\"\"\"\n",
    "\n",
    "    # 2. Class variable - array of Student instances\n",
    "    students = []   #: Class var to hold all students\n",
    "\n",
    "    # 3. Initializer for two instance properties: name and grade\n",
    "    def __init__(self, name, grade):\n",
    "        \"\"\"Initializer of class\"\"\"\n",
    "        self.name = name    #: Instance var for student name\n",
    "        self.grade = grade  #: Instance var for student grade\n",
    "\n",
    "    # 4. Instance method to display information about a student\n",
    "    def display(self):\n",
    "        \"\"\"Instance method to display student info\"\"\"\n",
    "        print(\"Name:\", self.name, \", Grade:\", self.grade)\n",
    "\n",
    "    # 5. Class method to add a student instance to class array `students`\n",
    "    @staticmethod\n",
    "    def add_student(student):\n",
    "        \"\"\"Class method for adding a student to the class var\"\"\"\n",
    "        Student.students.append(student)\n",
    "\n",
    "    # 6. Class method to call the `display` method for all students\n",
    "    @staticmethod\n",
    "    def display_students():\n",
    "        \"\"\"Class method for printing all students\"\"\"\n",
    "        for student in Student.students:\n",
    "            student.display()\n",
    "\n",
    "# 7. create an instance of `Student` and print info\n",
    "bill = Student('Bill', 'Freshman')\n",
    "bill.display()\n",
    "\n",
    "# 8. create another instance of `Student` and print info\n",
    "sally = Student('Sally', 'Junior')\n",
    "sally.display()\n",
    "\n",
    "# 9. add both students to student array which is a class var\n",
    "#    using the class method `add_student`\n",
    "Student.add_student(bill)\n",
    "Student.add_student(sally)\n",
    "\n",
    "# 10. call class method `display_students` to print info\n",
    "#     for all added students\n",
    "print('--------')\n",
    "Student.display_students()"
   ]
  },
  {
   "cell_type": "code",
   "execution_count": null,
   "id": "76a5db95-f2ba-48ef-8f1d-0aff411e52a4",
   "metadata": {},
   "outputs": [],
   "source": []
  }
 ],
 "metadata": {
  "kernelspec": {
   "display_name": "Python 3 (ipykernel)",
   "language": "python",
   "name": "python3"
  },
  "language_info": {
   "codemirror_mode": {
    "name": "ipython",
    "version": 3
   },
   "file_extension": ".py",
   "mimetype": "text/x-python",
   "name": "python",
   "nbconvert_exporter": "python",
   "pygments_lexer": "ipython3",
   "version": "3.10.4"
  }
 },
 "nbformat": 4,
 "nbformat_minor": 5
}
