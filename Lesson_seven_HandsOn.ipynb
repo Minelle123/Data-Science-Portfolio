{
 "cells": [
  {
   "cell_type": "code",
   "execution_count": 1,
   "id": "8b6ca358-b623-4534-971b-584bb43c0dcc",
   "metadata": {},
   "outputs": [
    {
     "name": "stdout",
     "output_type": "stream",
     "text": [
      "Today is: 2022-07-04 00:04:07.026573\n",
      "Time: 00:04:07.026573\n"
     ]
    }
   ],
   "source": [
    "import datetime\n",
    "\n",
    "todays_date = datetime.datetime.now()\n",
    "print(\"Today is:\", todays_date)\n",
    "\n",
    "current_time = datetime.datetime.now().time()\n",
    "print(\"Time:\", current_time)"
   ]
  },
  {
   "cell_type": "code",
   "execution_count": 2,
   "id": "e15dbe21-7c0e-4f16-97a1-19693981adb9",
   "metadata": {},
   "outputs": [
    {
     "name": "stdout",
     "output_type": "stream",
     "text": [
      "Tiny little secrets,\n",
      "Get buried in the dirt,\n",
      "And if they were dug up,\n",
      "Someone would probably get hurt.\n"
     ]
    }
   ],
   "source": [
    "poem_string = \"Tiny little secrets,\\n\"\n",
    "poem_string += \"Get buried in the dirt,\\n\"\n",
    "poem_string += \"And if they were dug up,\\n\"\n",
    "poem_string += \"Someone would probably get hurt.\"\n",
    "\n",
    "poem_file = open('poem.txt', 'w')\n",
    "poem_file.write(poem_string)\n",
    "poem_file.close()\n",
    "\n",
    "poem_file = open('poem.txt', 'r')\n",
    "print(poem_file.read())\n",
    "poem_file.close()"
   ]
  },
  {
   "cell_type": "code",
   "execution_count": null,
   "id": "806a9b60-54ba-4a56-bd35-89a54305e465",
   "metadata": {},
   "outputs": [],
   "source": []
  }
 ],
 "metadata": {
  "kernelspec": {
   "display_name": "Python 3 (ipykernel)",
   "language": "python",
   "name": "python3"
  },
  "language_info": {
   "codemirror_mode": {
    "name": "ipython",
    "version": 3
   },
   "file_extension": ".py",
   "mimetype": "text/x-python",
   "name": "python",
   "nbconvert_exporter": "python",
   "pygments_lexer": "ipython3",
   "version": "3.10.4"
  }
 },
 "nbformat": 4,
 "nbformat_minor": 5
}
