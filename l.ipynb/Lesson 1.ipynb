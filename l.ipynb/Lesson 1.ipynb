{
 "cells": [
  {
   "cell_type": "code",
   "execution_count": 1,
   "id": "0d85cf8a-dbbf-4812-a0b1-b7a7f4cdfbc8",
   "metadata": {},
   "outputs": [],
   "source": [
    "question_one = \"What is your name?\"\n",
    "question_two = \"How old are you?\"\n",
    "question_three = \"How many months is that?\""
   ]
  },
  {
   "cell_type": "code",
   "execution_count": 2,
   "id": "11e80197-3172-4c96-b7c6-6853cd6e0e84",
   "metadata": {},
   "outputs": [
    {
     "name": "stdout",
     "output_type": "stream",
     "text": [
      "What is your name?\n",
      "How old are you?\n",
      "How many months is that?\n"
     ]
    }
   ],
   "source": [
    "print(question_one)\n",
    "print(question_two)\n",
    "print(question_three)"
   ]
  },
  {
   "cell_type": "code",
   "execution_count": 3,
   "id": "31e448f5-2a59-4227-85f0-dec212fb461e",
   "metadata": {},
   "outputs": [],
   "source": [
    "answer_one = 'My name is \"Billy\"'\n",
    "answer_two = 30\n",
    "answer_three = 360"
   ]
  },
  {
   "cell_type": "code",
   "execution_count": 4,
   "id": "0f47ec7f-84f0-4a3d-a799-a945a59b1820",
   "metadata": {},
   "outputs": [
    {
     "name": "stdout",
     "output_type": "stream",
     "text": [
      "My name is \"Billy\"\n",
      "30\n",
      "360\n"
     ]
    }
   ],
   "source": [
    "print(answer_one)\n",
    "print(answer_two)\n",
    "print(answer_three)"
   ]
  },
  {
   "cell_type": "code",
   "execution_count": 5,
   "id": "b4bf3e03-55b8-4c6c-a16a-12bb3d16f5a1",
   "metadata": {},
   "outputs": [
    {
     "name": "stdout",
     "output_type": "stream",
     "text": [
      "What is your name?\n",
      "My name is \"Billy\"\n",
      "How old are you?\n",
      "30\n",
      "How many months is that?\n",
      "360\n"
     ]
    }
   ],
   "source": [
    "print(question_one)\n",
    "print(answer_one)\n",
    "print(question_two)\n",
    "print(answer_two)\n",
    "print(question_three)\n",
    "print(answer_three)"
   ]
  },
  {
   "cell_type": "code",
   "execution_count": 8,
   "id": "86068314-cd77-46be-adcf-e126f9140d7d",
   "metadata": {},
   "outputs": [],
   "source": [
    "my_string = \"Success\"\n",
    "my_integer = 34\n",
    "my_float = 1.5"
   ]
  },
  {
   "cell_type": "code",
   "execution_count": null,
   "id": "22a865d8-6210-427f-b5b4-8211f6e94d02",
   "metadata": {},
   "outputs": [],
   "source": []
  }
 ],
 "metadata": {
  "kernelspec": {
   "display_name": "Python 3 (ipykernel)",
   "language": "python",
   "name": "python3"
  },
  "language_info": {
   "codemirror_mode": {
    "name": "ipython",
    "version": 3
   },
   "file_extension": ".py",
   "mimetype": "text/x-python",
   "name": "python",
   "nbconvert_exporter": "python",
   "pygments_lexer": "ipython3",
   "version": "3.10.4"
  }
 },
 "nbformat": 4,
 "nbformat_minor": 5
}
