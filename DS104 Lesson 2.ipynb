{
 "cells": [
  {
   "cell_type": "code",
   "execution_count": 3,
   "id": "7f9e36cf",
   "metadata": {},
   "outputs": [],
   "source": [
    "import pandas as pd\n",
    "import statsmodels.api as sm"
   ]
  },
  {
   "cell_type": "code",
   "execution_count": 2,
   "id": "3c8bd622",
   "metadata": {},
   "outputs": [
    {
     "name": "stdout",
     "output_type": "stream",
     "text": [
      "Collecting statsmodels\n",
      "  Downloading statsmodels-0.13.2-cp310-cp310-win_amd64.whl (9.1 MB)\n",
      "     ---------------------------------------- 9.1/9.1 MB 6.9 MB/s eta 0:00:00\n",
      "Requirement already satisfied: pandas>=0.25 in c:\\python3\\lib\\site-packages (from statsmodels) (1.4.3)\n",
      "Requirement already satisfied: numpy>=1.17 in c:\\python3\\lib\\site-packages (from statsmodels) (1.22.3)\n",
      "Requirement already satisfied: scipy>=1.3 in c:\\python3\\lib\\site-packages (from statsmodels) (1.8.1)\n",
      "Collecting patsy>=0.5.2\n",
      "  Downloading patsy-0.5.2-py2.py3-none-any.whl (233 kB)\n",
      "     -------------------------------------- 233.7/233.7 KB 7.2 MB/s eta 0:00:00\n",
      "Requirement already satisfied: packaging>=21.3 in c:\\python3\\lib\\site-packages (from statsmodels) (21.3)\n",
      "Requirement already satisfied: pyparsing!=3.0.5,>=2.0.2 in c:\\python3\\lib\\site-packages (from packaging>=21.3->statsmodels) (3.0.8)\n",
      "Requirement already satisfied: python-dateutil>=2.8.1 in c:\\python3\\lib\\site-packages (from pandas>=0.25->statsmodels) (2.8.2)\n",
      "Requirement already satisfied: pytz>=2020.1 in c:\\python3\\lib\\site-packages (from pandas>=0.25->statsmodels) (2022.1)\n",
      "Requirement already satisfied: six in c:\\python3\\lib\\site-packages (from patsy>=0.5.2->statsmodels) (1.16.0)\n",
      "Installing collected packages: patsy, statsmodels\n",
      "Successfully installed patsy-0.5.2 statsmodels-0.13.2\n",
      "Note: you may need to restart the kernel to use updated packages.\n"
     ]
    },
    {
     "name": "stderr",
     "output_type": "stream",
     "text": [
      "WARNING: You are using pip version 22.0.4; however, version 22.2.2 is available.\n",
      "You should consider upgrading via the 'C:\\Python3\\python.exe -m pip install --upgrade pip' command.\n"
     ]
    }
   ],
   "source": [
    "pip install statsmodels"
   ]
  },
  {
   "cell_type": "code",
   "execution_count": 4,
   "id": "5aaf89c2",
   "metadata": {},
   "outputs": [],
   "source": [
    "baseball =pd.read_csv(r\"C:\\Users\\minel\\OneDrive\\Documents\\Entity Coursework\\DSO106C (Aug 1 - Aug 21)\\Lesson 2\\baseball.csv\")"
   ]
  },
  {
   "cell_type": "code",
   "execution_count": 5,
   "id": "803e5146",
   "metadata": {},
   "outputs": [
    {
     "data": {
      "text/html": [
       "<div>\n",
       "<style scoped>\n",
       "    .dataframe tbody tr th:only-of-type {\n",
       "        vertical-align: middle;\n",
       "    }\n",
       "\n",
       "    .dataframe tbody tr th {\n",
       "        vertical-align: top;\n",
       "    }\n",
       "\n",
       "    .dataframe thead th {\n",
       "        text-align: right;\n",
       "    }\n",
       "</style>\n",
       "<table border=\"1\" class=\"dataframe\">\n",
       "  <thead>\n",
       "    <tr style=\"text-align: right;\">\n",
       "      <th></th>\n",
       "      <th>Game</th>\n",
       "      <th>Team</th>\n",
       "      <th>Opp</th>\n",
       "      <th>W/L</th>\n",
       "      <th>R</th>\n",
       "      <th>RA</th>\n",
       "      <th>D/N</th>\n",
       "      <th>Att</th>\n",
       "      <th>Team.1</th>\n",
       "      <th>HR Count</th>\n",
       "    </tr>\n",
       "  </thead>\n",
       "  <tbody>\n",
       "    <tr>\n",
       "      <th>0</th>\n",
       "      <td>1</td>\n",
       "      <td>ARI</td>\n",
       "      <td>SFG</td>\n",
       "      <td>W</td>\n",
       "      <td>6</td>\n",
       "      <td>5</td>\n",
       "      <td>D</td>\n",
       "      <td>49016.0</td>\n",
       "      <td>ARI</td>\n",
       "      <td>1</td>\n",
       "    </tr>\n",
       "    <tr>\n",
       "      <th>1</th>\n",
       "      <td>1</td>\n",
       "      <td>CHC</td>\n",
       "      <td>STL</td>\n",
       "      <td>L</td>\n",
       "      <td>3</td>\n",
       "      <td>4</td>\n",
       "      <td>N</td>\n",
       "      <td>47566.0</td>\n",
       "      <td>CHC</td>\n",
       "      <td>1</td>\n",
       "    </tr>\n",
       "    <tr>\n",
       "      <th>2</th>\n",
       "      <td>1</td>\n",
       "      <td>NYY</td>\n",
       "      <td>TBR</td>\n",
       "      <td>L</td>\n",
       "      <td>3</td>\n",
       "      <td>7</td>\n",
       "      <td>D</td>\n",
       "      <td>31042.0</td>\n",
       "      <td>NYY</td>\n",
       "      <td>0</td>\n",
       "    </tr>\n",
       "    <tr>\n",
       "      <th>3</th>\n",
       "      <td>1</td>\n",
       "      <td>SFG</td>\n",
       "      <td>ARI</td>\n",
       "      <td>L</td>\n",
       "      <td>5</td>\n",
       "      <td>6</td>\n",
       "      <td>D</td>\n",
       "      <td>49016.0</td>\n",
       "      <td>SF</td>\n",
       "      <td>2</td>\n",
       "    </tr>\n",
       "    <tr>\n",
       "      <th>4</th>\n",
       "      <td>1</td>\n",
       "      <td>STL</td>\n",
       "      <td>CHC</td>\n",
       "      <td>W</td>\n",
       "      <td>4</td>\n",
       "      <td>3</td>\n",
       "      <td>N</td>\n",
       "      <td>47566.0</td>\n",
       "      <td>STL</td>\n",
       "      <td>1</td>\n",
       "    </tr>\n",
       "  </tbody>\n",
       "</table>\n",
       "</div>"
      ],
      "text/plain": [
       "   Game Team  Opp W/L  R  RA D/N      Att Team.1  HR Count\n",
       "0     1  ARI  SFG   W  6   5   D  49016.0    ARI         1\n",
       "1     1  CHC  STL   L  3   4   N  47566.0    CHC         1\n",
       "2     1  NYY  TBR   L  3   7   D  31042.0    NYY         0\n",
       "3     1  SFG  ARI   L  5   6   D  49016.0     SF         2\n",
       "4     1  STL  CHC   W  4   3   N  47566.0    STL         1"
      ]
     },
     "execution_count": 5,
     "metadata": {},
     "output_type": "execute_result"
    }
   ],
   "source": [
    "baseball.head()"
   ]
  },
  {
   "cell_type": "code",
   "execution_count": 6,
   "id": "32e28ba1",
   "metadata": {},
   "outputs": [],
   "source": [
    "def recode (series):\n",
    "    if series == \"W\":\n",
    "        return 1\n",
    "    if series == \"L\":\n",
    "        return 0\n",
    "baseball['WLr'] = baseball['W/L'].apply(recode)"
   ]
  },
  {
   "cell_type": "code",
   "execution_count": 7,
   "id": "3fdd2e08",
   "metadata": {},
   "outputs": [],
   "source": [
    "x = baseball['HR Count']\n",
    "y = baseball['WLr']"
   ]
  },
  {
   "cell_type": "code",
   "execution_count": 8,
   "id": "abdc0ae9",
   "metadata": {
    "scrolled": false
   },
   "outputs": [
    {
     "name": "stdout",
     "output_type": "stream",
     "text": [
      "Optimization terminated successfully.\n",
      "         Current function value: 0.667079\n",
      "         Iterations 5\n",
      "                         Results: Logit\n",
      "================================================================\n",
      "Model:              Logit            Pseudo R-squared: 0.038    \n",
      "Dependent Variable: WLr              AIC:              6486.0070\n",
      "Date:               2022-08-07 15:35 BIC:              6492.4958\n",
      "No. Observations:   4860             Log-Likelihood:   -3242.0  \n",
      "Df Model:           0                LL-Null:          -3368.7  \n",
      "Df Residuals:       4859             LLR p-value:      nan      \n",
      "Converged:          1.0000           Scale:            1.0000   \n",
      "No. Iterations:     5.0000                                      \n",
      "------------------------------------------------------------------\n",
      "            Coef.    Std.Err.      z      P>|z|    [0.025   0.975]\n",
      "------------------------------------------------------------------\n",
      "HR Count    0.2798     0.0184   15.2304   0.0000   0.2438   0.3158\n",
      "================================================================\n",
      "\n"
     ]
    }
   ],
   "source": [
    "logit = sm.Logit(y,x)\n",
    "results = logit.fit()\n",
    "print(results.summary2())"
   ]
  },
  {
   "cell_type": "code",
   "execution_count": null,
   "id": "2dc3c0c6",
   "metadata": {},
   "outputs": [],
   "source": [
    "gold$WinsR <- NA\n",
    "gold$WinsR[gold$W.L=='W'] <- 1\n",
    "gold$WinsR[gold$W.L=='L'] <- 0"
   ]
  },
  {
   "cell_type": "code",
   "execution_count": null,
   "id": "34403039",
   "metadata": {},
   "outputs": [],
   "source": [
    "probabilities <- predict(mylogit, type = \"response\")"
   ]
  },
  {
   "cell_type": "code",
   "execution_count": null,
   "id": "3d6466a9",
   "metadata": {},
   "outputs": [],
   "source": [
    "probabilities <- predict(mylogit, type = \"response\")\n",
    "gold$Predicted <- ifelse(probabilities > .5, \"pos\", \"neg\")\n",
    "\n"
   ]
  },
  {
   "cell_type": "code",
   "execution_count": null,
   "id": "fbdc8a55",
   "metadata": {},
   "outputs": [],
   "source": [
    "gold$PredictedR <- NA\n",
    "gold$PredictedR[gold$Predicted=='pos'] <- 1\n",
    "gold$PredictedR[gold$Predicted=='neg'] <- 0"
   ]
  },
  {
   "cell_type": "code",
   "execution_count": null,
   "id": "b4577b06",
   "metadata": {},
   "outputs": [],
   "source": [
    "gold$PredictedR <- as.factor(gold$PredictedR)\n",
    "gold$WinsR <- as.factor(gold$WinsR)"
   ]
  },
  {
   "cell_type": "code",
   "execution_count": null,
   "id": "69d6e270",
   "metadata": {},
   "outputs": [],
   "source": [
    "conf_mat <- caret::confusionMatrix(gold$PredictedR, gold$WinsR)\n",
    "conf_mat"
   ]
  }
 ],
 "metadata": {
  "kernelspec": {
   "display_name": "Python 3 (ipykernel)",
   "language": "python",
   "name": "python3"
  },
  "language_info": {
   "codemirror_mode": {
    "name": "ipython",
    "version": 3
   },
   "file_extension": ".py",
   "mimetype": "text/x-python",
   "name": "python",
   "nbconvert_exporter": "python",
   "pygments_lexer": "ipython3",
   "version": "3.10.4"
  }
 },
 "nbformat": 4,
 "nbformat_minor": 5
}
