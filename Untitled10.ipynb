{
 "cells": [
  {
   "cell_type": "code",
   "execution_count": 9,
   "id": "2642f0bc",
   "metadata": {},
   "outputs": [
    {
     "name": "stderr",
     "output_type": "stream",
     "text": [
      "Warning message:\n",
      "\"package 'gmodels' is in use and will not be installed\"\n",
      "Warning message:\n",
      "\"package 'dplyr' is in use and will not be installed\"\n",
      "Installing package into 'C:/Users/minel/OneDrive/Documents/R/win-library/4.1'\n",
      "(as 'lib' is unspecified)\n",
      "\n"
     ]
    },
    {
     "name": "stdout",
     "output_type": "stream",
     "text": [
      "package 'tidyr' successfully unpacked and MD5 sums checked\n",
      "\n",
      "The downloaded binary packages are in\n",
      "\tC:\\Users\\minel\\AppData\\Local\\Temp\\RtmpeSwjCv\\downloaded_packages\n"
     ]
    }
   ],
   "source": [
    "install.packages(\"gmodels\")\n",
    "install.packages(\"dplyr\")\n",
    "install.packages(\"tidyr\")\n",
    "library(\"gmodels\")\n",
    "library(\"dplyr\")\n",
    "library(\"tidyr\")\n"
   ]
  },
  {
   "cell_type": "code",
   "execution_count": 2,
   "id": "e124febc",
   "metadata": {},
   "outputs": [],
   "source": [
    "StarWars_Franchise <- read.csv(\"C:/Users/minel/OneDrive/Documents/Entity Coursework/DSO105C (Oct 3 - Oct 23)/Lesson 3/SW_survey_renamed.csv\")"
   ]
  },
  {
   "cell_type": "code",
   "execution_count": 3,
   "id": "1385840e",
   "metadata": {},
   "outputs": [
    {
     "name": "stderr",
     "output_type": "stream",
     "text": [
      "Warning message in chisq.test(t, correct = FALSE, ...):\n",
      "\"Chi-squared approximation may be incorrect\"\n"
     ]
    },
    {
     "name": "stdout",
     "output_type": "stream",
     "text": [
      "\n",
      "   Cell Contents\n",
      "|-------------------------|\n",
      "|                   Count |\n",
      "|         Expected Values |\n",
      "| Chi-square contribution |\n",
      "|             Row Percent |\n",
      "|          Column Percent |\n",
      "|           Total Percent |\n",
      "|            Std Residual |\n",
      "|-------------------------|\n",
      "\n",
      "Total Observations in Table:  835 \n",
      "\n",
      "                       | StarWars_Franchise$RankI \n",
      "StarWars_Franchise$Age |        1  |        2  |        3  |        4  |        5  |        6  | Row Total | \n",
      "-----------------------|-----------|-----------|-----------|-----------|-----------|-----------|-----------|\n",
      "                       |        6  |        0  |        2  |        4  |        1  |        3  |       16  | \n",
      "                       |    2.472  |    1.360  |    2.491  |    4.541  |    1.916  |    3.219  |           | \n",
      "                       |    5.036  |    1.360  |    0.097  |    0.065  |    0.438  |    0.015  |           | \n",
      "                       |   37.500% |    0.000% |   12.500% |   25.000% |    6.250% |   18.750% |    1.916% | \n",
      "                       |    4.651% |    0.000% |    1.538% |    1.688% |    1.000% |    1.786% |           | \n",
      "                       |    0.719% |    0.000% |    0.240% |    0.479% |    0.120% |    0.359% |           | \n",
      "                       |    2.244  |   -1.166  |   -0.311  |   -0.254  |   -0.662  |   -0.122  |           | \n",
      "-----------------------|-----------|-----------|-----------|-----------|-----------|-----------|-----------|\n",
      "                  > 60 |       53  |       22  |       36  |       50  |       13  |       18  |      192  | \n",
      "                       |   29.662  |   16.326  |   29.892  |   54.496  |   22.994  |   38.630  |           | \n",
      "                       |   18.362  |    1.972  |    1.248  |    0.371  |    4.344  |   11.017  |           | \n",
      "                       |   27.604% |   11.458% |   18.750% |   26.042% |    6.771% |    9.375% |   22.994% | \n",
      "                       |   41.085% |   30.986% |   27.692% |   21.097% |   13.000% |   10.714% |           | \n",
      "                       |    6.347% |    2.635% |    4.311% |    5.988% |    1.557% |    2.156% |           | \n",
      "                       |    4.285  |    1.404  |    1.117  |   -0.609  |   -2.084  |   -3.319  |           | \n",
      "-----------------------|-----------|-----------|-----------|-----------|-----------|-----------|-----------|\n",
      "                 18-29 |       21  |       15  |       20  |       42  |       33  |       49  |      180  | \n",
      "                       |   27.808  |   15.305  |   28.024  |   51.090  |   21.557  |   36.216  |           | \n",
      "                       |    1.667  |    0.006  |    2.297  |    1.617  |    6.074  |    4.513  |           | \n",
      "                       |   11.667% |    8.333% |   11.111% |   23.333% |   18.333% |   27.222% |   21.557% | \n",
      "                       |   16.279% |   21.127% |   15.385% |   17.722% |   33.000% |   29.167% |           | \n",
      "                       |    2.515% |    1.796% |    2.395% |    5.030% |    3.952% |    5.868% |           | \n",
      "                       |   -1.291  |   -0.078  |   -1.516  |   -1.272  |    2.465  |    2.124  |           | \n",
      "-----------------------|-----------|-----------|-----------|-----------|-----------|-----------|-----------|\n",
      "                 30-44 |       15  |       11  |       28  |       57  |       25  |       71  |      207  | \n",
      "                       |   31.980  |   17.601  |   32.228  |   58.753  |   24.790  |   41.648  |           | \n",
      "                       |    9.015  |    2.476  |    0.555  |    0.052  |    0.002  |   20.686  |           | \n",
      "                       |    7.246% |    5.314% |   13.527% |   27.536% |   12.077% |   34.300% |   24.790% | \n",
      "                       |   11.628% |   15.493% |   21.538% |   24.051% |   25.000% |   42.262% |           | \n",
      "                       |    1.796% |    1.317% |    3.353% |    6.826% |    2.994% |    8.503% |           | \n",
      "                       |   -3.003  |   -1.573  |   -0.745  |   -0.229  |    0.042  |    4.548  |           | \n",
      "-----------------------|-----------|-----------|-----------|-----------|-----------|-----------|-----------|\n",
      "                 45-60 |       34  |       23  |       44  |       84  |       28  |       27  |      240  | \n",
      "                       |   37.078  |   20.407  |   37.365  |   68.120  |   28.743  |   48.287  |           | \n",
      "                       |    0.255  |    0.329  |    1.178  |    3.702  |    0.019  |    9.385  |           | \n",
      "                       |   14.167% |    9.583% |   18.333% |   35.000% |   11.667% |   11.250% |   28.743% | \n",
      "                       |   26.357% |   32.394% |   33.846% |   35.443% |   28.000% |   16.071% |           | \n",
      "                       |    4.072% |    2.754% |    5.269% |   10.060% |    3.353% |    3.234% |           | \n",
      "                       |   -0.505  |    0.574  |    1.085  |    1.924  |   -0.138  |   -3.063  |           | \n",
      "-----------------------|-----------|-----------|-----------|-----------|-----------|-----------|-----------|\n",
      "          Column Total |      129  |       71  |      130  |      237  |      100  |      168  |      835  | \n",
      "                       |   15.449% |    8.503% |   15.569% |   28.383% |   11.976% |   20.120% |           | \n",
      "-----------------------|-----------|-----------|-----------|-----------|-----------|-----------|-----------|\n",
      "\n",
      " \n",
      "Statistics for All Table Factors\n",
      "\n",
      "\n",
      "Pearson's Chi-squared test \n",
      "------------------------------------------------------------\n",
      "Chi^2 =  108.1543     d.f. =  20     p =  4.257807e-14 \n",
      "\n",
      "\n",
      " \n"
     ]
    },
    {
     "ename": "ERROR",
     "evalue": "Error in fisher.test(t, alternative = \"two.sided\"): FEXACT error 501.\nThe hash table key cannot be computed because the largest key\nis larger than the largest representable int.\nThe algorithm cannot proceed.\nReduce the workspace, consider using 'simulate.p.value=TRUE' or another algorithm.\n",
     "output_type": "error",
     "traceback": [
      "Error in fisher.test(t, alternative = \"two.sided\"): FEXACT error 501.\nThe hash table key cannot be computed because the largest key\nis larger than the largest representable int.\nThe algorithm cannot proceed.\nReduce the workspace, consider using 'simulate.p.value=TRUE' or another algorithm.\nTraceback:\n",
      "1. CrossTable(StarWars_Franchise$Age, StarWars_Franchise$RankI, \n .     fisher = TRUE, chisq = TRUE, expected = TRUE, sresid = TRUE, \n .     format = \"SPSS\")",
      "2. print.statistics()",
      "3. fisher.test(t, alternative = \"two.sided\")"
     ]
    }
   ],
   "source": [
    "    CrossTable(StarWars_Franchise$Age, StarWars_Franchise$RankI, fisher=TRUE, chisq = TRUE, expected = TRUE, sresid=TRUE, format=\"SPSS\")"
   ]
  },
  {
   "cell_type": "code",
   "execution_count": 4,
   "id": "e0884311",
   "metadata": {},
   "outputs": [
    {
     "data": {
      "text/html": [
       "<table class=\"dataframe\">\n",
       "<caption>A tibble: 3 × 2</caption>\n",
       "<thead>\n",
       "\t<tr><th scope=col>FanYN</th><th scope=col>count</th></tr>\n",
       "\t<tr><th scope=col>&lt;chr&gt;</th><th scope=col>&lt;int&gt;</th></tr>\n",
       "</thead>\n",
       "<tbody>\n",
       "\t<tr><td>   </td><td>350</td></tr>\n",
       "\t<tr><td>No </td><td>284</td></tr>\n",
       "\t<tr><td>Yes</td><td>552</td></tr>\n",
       "</tbody>\n",
       "</table>\n"
      ],
      "text/latex": [
       "A tibble: 3 × 2\n",
       "\\begin{tabular}{ll}\n",
       " FanYN & count\\\\\n",
       " <chr> & <int>\\\\\n",
       "\\hline\n",
       "\t     & 350\\\\\n",
       "\t No  & 284\\\\\n",
       "\t Yes & 552\\\\\n",
       "\\end{tabular}\n"
      ],
      "text/markdown": [
       "\n",
       "A tibble: 3 × 2\n",
       "\n",
       "| FanYN &lt;chr&gt; | count &lt;int&gt; |\n",
       "|---|---|\n",
       "| <!----> | 350 |\n",
       "| No  | 284 |\n",
       "| Yes | 552 |\n",
       "\n"
      ],
      "text/plain": [
       "  FanYN count\n",
       "1       350  \n",
       "2 No    284  \n",
       "3 Yes   552  "
      ]
     },
     "metadata": {},
     "output_type": "display_data"
    }
   ],
   "source": [
    "StarWars_Franchise %>% group_by(FanYN) %>% summarize(count=n())"
   ]
  },
  {
   "cell_type": "code",
   "execution_count": 8,
   "id": "dc6a229e",
   "metadata": {},
   "outputs": [
    {
     "data": {
      "text/plain": [
       "\n",
       "\tChi-squared test for given probabilities\n",
       "\n",
       "data:  observed\n",
       "X-squared = 130.24, df = 1, p-value < 2.2e-16\n"
      ]
     },
     "metadata": {},
     "output_type": "display_data"
    }
   ],
   "source": [
    "observed = c(721, 850)\n",
    "\n",
    "expected = c(0.60, 0.40)\n",
    "\n",
    "chisq.test(x = observed, p = expected)"
   ]
  },
  {
   "cell_type": "code",
   "execution_count": null,
   "id": "f3d8e545",
   "metadata": {},
   "outputs": [],
   "source": []
  }
 ],
 "metadata": {
  "kernelspec": {
   "display_name": "R",
   "language": "R",
   "name": "ir"
  },
  "language_info": {
   "codemirror_mode": "r",
   "file_extension": ".r",
   "mimetype": "text/x-r-source",
   "name": "R",
   "pygments_lexer": "r",
   "version": "4.1.3"
  }
 },
 "nbformat": 4,
 "nbformat_minor": 5
}
