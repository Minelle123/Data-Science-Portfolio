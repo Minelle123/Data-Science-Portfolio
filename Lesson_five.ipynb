{
 "cells": [
  {
   "cell_type": "code",
   "execution_count": 1,
   "id": "a3d9aec9-00ca-4c9d-b8d4-4e0a75ad3670",
   "metadata": {},
   "outputs": [
    {
     "name": "stdout",
     "output_type": "stream",
     "text": [
      "Hello!\n"
     ]
    }
   ],
   "source": [
    "def greeting():\n",
    "    \"\"\"This function prints a greeting\"\"\"\n",
    "    print(\"Hello!\")\n",
    "\n",
    "greeting()"
   ]
  },
  {
   "cell_type": "code",
   "execution_count": 2,
   "id": "970c33d9-c120-45dc-9568-623e9cf8703a",
   "metadata": {},
   "outputs": [
    {
     "name": "stdout",
     "output_type": "stream",
     "text": [
      "Old value = 10\n",
      "New value = 11\n"
     ]
    }
   ],
   "source": [
    "def increment(value):\n",
    "    \"\"\"This function increments a value\"\"\"\n",
    "    print(\"Old value =\", value)\n",
    "    value += 1\n",
    "    print(\"New value =\", value)\n",
    "\n",
    "increment(10)"
   ]
  },
  {
   "cell_type": "code",
   "execution_count": 3,
   "id": "758da08a-e20a-4149-bfa0-13cd0ebc369b",
   "metadata": {},
   "outputs": [
    {
     "name": "stdout",
     "output_type": "stream",
     "text": [
      "The new value is 8\n"
     ]
    }
   ],
   "source": [
    "def increment(value, step_size=1):\n",
    "    \"\"\"This function increments a value\"\"\"\n",
    "    return value + step_size\n",
    "\n",
    "new_value = increment(5, 3)\n",
    "print(\"The new value is\", new_value)"
   ]
  },
  {
   "cell_type": "code",
   "execution_count": 4,
   "id": "2b881c35-ccd2-42ab-a3e8-b8fdf2181dc6",
   "metadata": {},
   "outputs": [
    {
     "name": "stdout",
     "output_type": "stream",
     "text": [
      "The sum of 10 and 15 is 25\n"
     ]
    }
   ],
   "source": [
    "def sum(x, y):\n",
    "    \"\"\"This function sums the inputs\"\"\"\n",
    "    return x + y\n",
    "\n",
    "result = sum(10, 15)\n",
    "print(\"The sum of 10 and 15 is\", result)"
   ]
  },
  {
   "cell_type": "code",
   "execution_count": 5,
   "id": "b24a470b-17ae-4ad1-919b-d10e605cfb3c",
   "metadata": {},
   "outputs": [
    {
     "name": "stdout",
     "output_type": "stream",
     "text": [
      "({'name': 'Bob', 'color': 'blue'}, {'name': 'Sally', 'color': 'red'})\n"
     ]
    }
   ],
   "source": [
    "def get_settings():\n",
    "    \"\"\"This function returns two dictionaries as a tuple\"\"\"\n",
    "    dict1 = {'name': 'Bob', 'color': 'blue'}\n",
    "    dict2 = {'name': 'Sally', 'color': 'red'}\n",
    "    return (dict1, dict2)\n",
    "\n",
    "tuple = get_settings()\n",
    "print(tuple)"
   ]
  },
  {
   "cell_type": "code",
   "execution_count": 6,
   "id": "89f16774-b7a0-40e4-98c3-5fcc14b2d915",
   "metadata": {},
   "outputs": [
    {
     "name": "stdout",
     "output_type": "stream",
     "text": [
      "Hello!\n",
      "None\n"
     ]
    }
   ],
   "source": [
    "def greeting():\n",
    "    \"\"\"This function prints a greeting\"\"\"\n",
    "    print(\"Hello!\")\n",
    "\n",
    "print(greeting())"
   ]
  },
  {
   "cell_type": "code",
   "execution_count": 7,
   "id": "6ae05291-eb35-416a-80a2-788ffbdbc31a",
   "metadata": {},
   "outputs": [
    {
     "name": "stdout",
     "output_type": "stream",
     "text": [
      "Andrew Jones\n"
     ]
    }
   ],
   "source": [
    "# this `user` variable is declared outside of the function\n",
    "user = 'Andrew Jones'\n",
    "\n",
    "def my_function(first, last):\n",
    "    # this `user` variable is declared inside of the function\n",
    "    # and is unrelated to the `user` variable declared outside of the function\n",
    "    user = first + ' ' + last\n",
    "    return user\n",
    "\n",
    "print(user)"
   ]
  },
  {
   "cell_type": "code",
   "execution_count": 8,
   "id": "702c6754-01f2-4a25-9f10-04bf5d9afd09",
   "metadata": {},
   "outputs": [
    {
     "name": "stdout",
     "output_type": "stream",
     "text": [
      "John Smith\n"
     ]
    }
   ],
   "source": [
    "print(my_function('John', 'Smith'))"
   ]
  },
  {
   "cell_type": "code",
   "execution_count": 10,
   "id": "c1bef5a7-ea93-4876-bd53-1f1571503e13",
   "metadata": {},
   "outputs": [
    {
     "name": "stdout",
     "output_type": "stream",
     "text": [
      "Andrew Jones\n"
     ]
    }
   ],
   "source": [
    "# The user variable is in global scope\n",
    "user = \"Andrew Jones\"\n",
    "\n",
    "def the_user():\n",
    "    \"\"\"Return the value of global variable user\"\"\"\n",
    "    # The global variable user is returned\n",
    "    return user\n",
    "print(the_user())"
   ]
  },
  {
   "cell_type": "code",
   "execution_count": 11,
   "id": "7bb3d6d5-c1a7-4b82-b895-b638a753562d",
   "metadata": {},
   "outputs": [
    {
     "name": "stdout",
     "output_type": "stream",
     "text": [
      "y is 25\n",
      "the new value of global y is 5\n",
      "y is now 5\n"
     ]
    }
   ],
   "source": [
    "y = 25\n",
    "\n",
    "def my_function():\n",
    "    global y\n",
    "\n",
    "    print('y is', y)\n",
    "    y = 5\n",
    "    print('the new value of global y is', y)\n",
    "\n",
    "my_function()\n",
    "print('y is now', y)"
   ]
  },
  {
   "cell_type": "code",
   "execution_count": 12,
   "id": "40e70089-5b4c-40ba-ab2c-58e8a78f9022",
   "metadata": {},
   "outputs": [
    {
     "name": "stdout",
     "output_type": "stream",
     "text": [
      "9\n"
     ]
    }
   ],
   "source": [
    "# create lambda function and assign to variable `my_lambda`\n",
    "my_lambda = lambda x, y : x + y\n",
    "\n",
    "# print the results of calling the lambda function\n",
    "print(my_lambda(4, 5))"
   ]
  },
  {
   "cell_type": "code",
   "execution_count": 13,
   "id": "c70c2fb4-a928-46e1-b267-969b909e2300",
   "metadata": {},
   "outputs": [
    {
     "name": "stdout",
     "output_type": "stream",
     "text": [
      "True\n"
     ]
    }
   ],
   "source": [
    "a = lambda x: x > 10\n",
    "\n",
    "print(a(20))"
   ]
  },
  {
   "cell_type": "code",
   "execution_count": 14,
   "id": "084ed251-fe90-49bc-af04-809cd7ab03dc",
   "metadata": {},
   "outputs": [
    {
     "name": "stdout",
     "output_type": "stream",
     "text": [
      "[1, 4, 9, 16, 25]\n"
     ]
    }
   ],
   "source": [
    "# 1. the list of numbers\n",
    "numbers = [1, 2, 3, 4, 5]\n",
    "\n",
    "# 2. the lambda function to square a number\n",
    "square = lambda x: x * x\n",
    "\n",
    "# 3. use `map` to apply the squaring lambda function to\n",
    "# every item in the list of `numbers`\n",
    "map_results = map(square, numbers)\n",
    "\n",
    "# 4. `map` returns a special type of data, but it can be converted\n",
    "# to a list using the `list` function\n",
    "results = list(map_results)\n",
    "\n",
    "# 5. print the results\n",
    "print(results)"
   ]
  },
  {
   "cell_type": "code",
   "execution_count": 15,
   "id": "3227435e-1bdb-4af8-bbf1-36e09d6564ec",
   "metadata": {},
   "outputs": [
    {
     "name": "stdout",
     "output_type": "stream",
     "text": [
      "[12, 14, 16, 18, 20]\n"
     ]
    }
   ],
   "source": [
    "# declare two lists of integers\n",
    "list_a = [1, 2, 3, 4, 5]\n",
    "list_b = [11, 12, 13, 14, 15]\n",
    "\n",
    "# call `map` with a lambda function that sums two numbers\n",
    "# the first number comes from `list_a`, the second comes from `list_b`\n",
    "map_results = map(lambda val_a, val_b: val_a + val_b, list_a, list_b)\n",
    "\n",
    "# print results (converting map result to list within print statement)\n",
    "print(list(map_results))"
   ]
  },
  {
   "cell_type": "code",
   "execution_count": 16,
   "id": "04ad85de-8cae-45d0-a867-357c39b5fdc8",
   "metadata": {},
   "outputs": [
    {
     "name": "stdout",
     "output_type": "stream",
     "text": [
      "[2, 4]\n"
     ]
    }
   ],
   "source": [
    "# 1. the list of numbers\n",
    "numbers = [1, 2, 3, 4, 5]\n",
    "\n",
    "# 2. the lambda function to return True only if the value is even\n",
    "is_even = lambda x: x % 2 == 0\n",
    "\n",
    "# 3. call `filter` using the `is_even` lambda function and the list `numbers`\n",
    "filter_results = filter(is_even, numbers)\n",
    "\n",
    "# 4. `filter` returns a special type of data like `map`, but it can be converted\n",
    "# to a list using the `list` function\n",
    "results = list(filter_results)\n",
    "\n",
    "# 5. print the results\n",
    "print(results)"
   ]
  },
  {
   "cell_type": "code",
   "execution_count": 19,
   "id": "e2141a57-7d46-44dc-9c5d-6e64ab44ce2f",
   "metadata": {},
   "outputs": [
    {
     "name": "stdout",
     "output_type": "stream",
     "text": [
      "(2.0, 5.0)\n"
     ]
    }
   ],
   "source": [
    "numbers = [[1,2,3],[4,5,6]]\n",
    "\n",
    "averages =(1 + 2 + 3)/3 , (4 + 5 + 6)/3\n",
    "print(averages)\n"
   ]
  },
  {
   "cell_type": "code",
   "execution_count": 21,
   "id": "b13a0635-2606-42ad-bda7-3099842aaabb",
   "metadata": {},
   "outputs": [
    {
     "ename": "NameError",
     "evalue": "name 'products' is not defined",
     "output_type": "error",
     "traceback": [
      "\u001b[1;31m---------------------------------------------------------------------------\u001b[0m",
      "\u001b[1;31mNameError\u001b[0m                                 Traceback (most recent call last)",
      "Input \u001b[1;32mIn [21]\u001b[0m, in \u001b[0;36m<cell line: 4>\u001b[1;34m()\u001b[0m\n\u001b[0;32m      1\u001b[0m list_a \u001b[38;5;241m=\u001b[39m [\u001b[38;5;241m4\u001b[39m, \u001b[38;5;241m6\u001b[39m, \u001b[38;5;241m8\u001b[39m]\n\u001b[0;32m      2\u001b[0m list_b \u001b[38;5;241m=\u001b[39m [\u001b[38;5;241m3\u001b[39m, \u001b[38;5;241m3\u001b[39m, \u001b[38;5;241m1\u001b[39m]\n\u001b[1;32m----> 4\u001b[0m products \u001b[38;5;241m=\u001b[39m \u001b[43mproducts\u001b[49m(\u001b[38;5;28;01mlambda\u001b[39;00m val_a, val_b: val_a \u001b[38;5;241m+\u001b[39m val_b, list_a, list_b)\n\u001b[0;32m      5\u001b[0m \u001b[38;5;28mprint\u001b[39m(\u001b[38;5;28mlist\u001b[39m(products))\n",
      "\u001b[1;31mNameError\u001b[0m: name 'products' is not defined"
     ]
    }
   ],
   "source": [
    "list_a = [4, 6, 8]\n",
    "list_b = [3, 3, 1]\n",
    "\n",
    "products = products(lambda val_a, val_b: val_a + val_b, list_a, list_b)\n",
    "print(list(products))"
   ]
  },
  {
   "cell_type": "code",
   "execution_count": 22,
   "id": "46616e1e-3d89-47ac-9bed-72b4a17c40bb",
   "metadata": {},
   "outputs": [
    {
     "name": "stdout",
     "output_type": "stream",
     "text": [
      "6\n",
      "108\n",
      "6.666666666666667\n"
     ]
    }
   ],
   "source": [
    "def sum_function(num1, num2, num3):\n",
    "    return num1 + num2 + num3\n",
    "\n",
    "print(sum_function(1, 2, 3))\n",
    "\n",
    "def product_function(number1, number2, number3):\n",
    "    return number1 * number2 * number3\n",
    "\n",
    "print(product_function(4, 3, 9))\n",
    "\n",
    "def average_function(int1, int2, int3):\n",
    "    return (int1 + int2 + int3)/3\n",
    "\n",
    "print(average_function(4, 9, 7))\n"
   ]
  },
  {
   "cell_type": "code",
   "execution_count": 23,
   "id": "04ad2ac3-095e-461c-98a2-6f016455707e",
   "metadata": {},
   "outputs": [
    {
     "name": "stdout",
     "output_type": "stream",
     "text": [
      "44\n",
      "266\n",
      "4.333333333333333\n",
      "[28.0, 20.0, 65.0, 11.0]\n"
     ]
    }
   ],
   "source": [
    "add_numbers = lambda numb1, numb2, numb3 : numb1 + numb2 + numb3\n",
    "\n",
    "print(add_numbers(22, 12, 10))\n",
    "\n",
    "multiply_numbers = lambda numbr1, numbr2, numbr3 : numbr1 * numbr2 * numbr3\n",
    "\n",
    "print(multiply_numbers(2, 7, 19))\n",
    "\n",
    "average_numbers = lambda integer1, integer2, integer3 : (integer1 + integer2 + integer3)/3\n",
    "\n",
    "print(average_numbers(2, 3, 8))\n",
    "\n",
    "# Part 3\n",
    "\n",
    "list_one = [4, 6, 88, 24]\n",
    "list_two = [17, 34, 9, 5]\n",
    "list_three = [63, 20, 98, 4]\n",
    "\n",
    "average_maker = lambda num1, num2, num3: (num1 + num2 + num3)/3\n",
    "\n",
    "map_results = map(average_maker, list_one, list_two, list_three)\n",
    "\n",
    "print(list(map_results))"
   ]
  },
  {
   "cell_type": "code",
   "execution_count": null,
   "id": "bbf70372-8f0e-43a2-874f-e4230a475adc",
   "metadata": {},
   "outputs": [],
   "source": []
  }
 ],
 "metadata": {
  "kernelspec": {
   "display_name": "Python 3 (ipykernel)",
   "language": "python",
   "name": "python3"
  },
  "language_info": {
   "codemirror_mode": {
    "name": "ipython",
    "version": 3
   },
   "file_extension": ".py",
   "mimetype": "text/x-python",
   "name": "python",
   "nbconvert_exporter": "python",
   "pygments_lexer": "ipython3",
   "version": "3.10.4"
  }
 },
 "nbformat": 4,
 "nbformat_minor": 5
}
