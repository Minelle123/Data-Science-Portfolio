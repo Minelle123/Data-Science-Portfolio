{
 "cells": [
  {
   "cell_type": "code",
   "execution_count": null,
   "id": "7c7c18c0-8d76-4e97-81c1-999da2816e56",
   "metadata": {},
   "outputs": [],
   "source": [
    "energy1 <- t(energy)\n",
    "\n",
    "energy2 <- as.data.frame(energy1)\n",
    "\n",
    "names(energy2) <- gsub(\"V\", \"Year\", names(energy2))"
   ]
  },
  {
   "cell_type": "code",
   "execution_count": null,
   "id": "852d9de2-6487-4b8f-8090-daa7e3cb5888",
   "metadata": {},
   "outputs": [],
   "source": [
    "energy1.T\n",
    "energy2 =energy.set_index('Year').T\n",
    "energy3 = energy2.2"
   ]
  },
  {
   "cell_type": "code",
   "execution_count": 6,
   "id": "09e4d315-96ef-4270-9a90-ce03b2c8b2b3",
   "metadata": {},
   "outputs": [
    {
     "ename": "SyntaxError",
     "evalue": "(unicode error) 'unicodeescape' codec can't decode bytes in position 2-3: truncated \\UXXXXXXXX escape (1611170183.py, line 3)",
     "output_type": "error",
     "traceback": [
      "\u001b[1;36m  Input \u001b[1;32mIn [6]\u001b[1;36m\u001b[0m\n\u001b[1;33m    energy = pd.read_excel('C:\\Users\\minel\\OneDrive\\Documents\\Entity Coursework\\DSO104C (Jul 11 - Jul 31\\Lesson 2')\u001b[0m\n\u001b[1;37m                                                                                                                  ^\u001b[0m\n\u001b[1;31mSyntaxError\u001b[0m\u001b[1;31m:\u001b[0m (unicode error) 'unicodeescape' codec can't decode bytes in position 2-3: truncated \\UXXXXXXXX escape\n"
     ]
    }
   ],
   "source": [
    "import pandas as pd\n",
    "\n",
    "energy = pd.read_excel('C:\\Users\\minel\\OneDrive\\Documents\\Entity Coursework\\DSO104C (Jul 11 - Jul 31\\Lesson 2')\n",
    "energy.head()\n",
    "\n",
    "energy.T\n",
    "\n",
    "energy1 = energy.set_index('Year').T\n",
    "energy1.head()"
   ]
  },
  {
   "cell_type": "code",
   "execution_count": 7,
   "id": "2d4a3b3a-49ea-4a69-a214-c48374d3102b",
   "metadata": {},
   "outputs": [
    {
     "ename": "NameError",
     "evalue": "name 'IceSkating2' is not defined",
     "output_type": "error",
     "traceback": [
      "\u001b[1;31m---------------------------------------------------------------------------\u001b[0m",
      "\u001b[1;31mNameError\u001b[0m                                 Traceback (most recent call last)",
      "Input \u001b[1;32mIn [7]\u001b[0m, in \u001b[0;36m<cell line: 1>\u001b[1;34m()\u001b[0m\n\u001b[1;32m----> 1\u001b[0m \u001b[43mIceSkating2\u001b[49m \u001b[38;5;241m<\u001b[39m\u001b[38;5;241m-\u001b[39m merge(performances, judgesAspectsUnique, by\u001b[38;5;241m=\u001b[39mc(\u001b[38;5;124m\"\u001b[39m\u001b[38;5;124mperformance_id\u001b[39m\u001b[38;5;124m\"\u001b[39m), \u001b[38;5;28mall\u001b[39m\u001b[38;5;241m=\u001b[39mTRUE)\n",
      "\u001b[1;31mNameError\u001b[0m: name 'IceSkating2' is not defined"
     ]
    }
   ],
   "source": [
    "IceSkating2 <- merge(performances, judgesAspectsUnique, by=c(\"performance_id\"), all=TRUE)"
   ]
  },
  {
   "cell_type": "code",
   "execution_count": null,
   "id": "c8551bfa-9ab6-4ce3-8a47-a3471926b1d5",
   "metadata": {},
   "outputs": [],
   "source": []
  }
 ],
 "metadata": {
  "kernelspec": {
   "display_name": "Python 3 (ipykernel)",
   "language": "python",
   "name": "python3"
  },
  "language_info": {
   "codemirror_mode": {
    "name": "ipython",
    "version": 3
   },
   "file_extension": ".py",
   "mimetype": "text/x-python",
   "name": "python",
   "nbconvert_exporter": "python",
   "pygments_lexer": "ipython3",
   "version": "3.10.4"
  }
 },
 "nbformat": 4,
 "nbformat_minor": 5
}
