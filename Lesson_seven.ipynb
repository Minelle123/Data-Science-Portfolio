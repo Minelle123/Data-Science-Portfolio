{
 "cells": [
  {
   "cell_type": "code",
   "execution_count": 1,
   "id": "1b7a981c-e1b9-4aa8-9fe2-ad8cc03b287d",
   "metadata": {},
   "outputs": [
    {
     "name": "stdout",
     "output_type": "stream",
     "text": [
      "The value of Pi is 3.14159\n",
      "The minimum number in the list is 7\n"
     ]
    }
   ],
   "source": [
    "pi = 3.14159\n",
    "pi_string = str(pi)\n",
    "print(\"The value of Pi is \" + pi_string)\n",
    "\n",
    "number_list = [33, 19, 25, 7, 18]\n",
    "min_number = min(number_list)\n",
    "print(\"The minimum number in the list is \" + str(min_number))"
   ]
  },
  {
   "cell_type": "code",
   "execution_count": 3,
   "id": "6743b981-16a3-43fb-b552-3cee5b91fd6e",
   "metadata": {},
   "outputs": [],
   "source": [
    "def scoop_icecream(size, *toppings):\n",
    "    \"\"\"Give a summary of the ice cream cone you are making.\"\"\"\n",
    "\n",
    "    print(\"\\nMaking a \" + size + \" ice cream cone with the following toppings:\")\n",
    "    for topping in toppings:\n",
    "        print(\"- \" + topping)\n"
   ]
  },
  {
   "cell_type": "code",
   "execution_count": 4,
   "id": "3e869430-b248-4ae9-b49d-8b5bad955148",
   "metadata": {},
   "outputs": [
    {
     "ename": "ModuleNotFoundError",
     "evalue": "No module named 'icecream'",
     "output_type": "error",
     "traceback": [
      "\u001b[1;31m---------------------------------------------------------------------------\u001b[0m",
      "\u001b[1;31mModuleNotFoundError\u001b[0m                       Traceback (most recent call last)",
      "Input \u001b[1;32mIn [4]\u001b[0m, in \u001b[0;36m<cell line: 1>\u001b[1;34m()\u001b[0m\n\u001b[1;32m----> 1\u001b[0m \u001b[38;5;28;01mimport\u001b[39;00m \u001b[38;5;21;01micecream\u001b[39;00m\n\u001b[0;32m      3\u001b[0m icecream\u001b[38;5;241m.\u001b[39mscoop_icecream(\u001b[38;5;124m'\u001b[39m\u001b[38;5;124msmall\u001b[39m\u001b[38;5;124m'\u001b[39m, \u001b[38;5;124m'\u001b[39m\u001b[38;5;124msprinkles\u001b[39m\u001b[38;5;124m'\u001b[39m, \u001b[38;5;124m'\u001b[39m\u001b[38;5;124mchocolate\u001b[39m\u001b[38;5;124m'\u001b[39m, \u001b[38;5;124m'\u001b[39m\u001b[38;5;124mcherries\u001b[39m\u001b[38;5;124m'\u001b[39m)\n\u001b[0;32m      4\u001b[0m icecream\u001b[38;5;241m.\u001b[39mscoop_icecream(\u001b[38;5;124m'\u001b[39m\u001b[38;5;124mlarge\u001b[39m\u001b[38;5;124m'\u001b[39m, \u001b[38;5;124m'\u001b[39m\u001b[38;5;124mpeanuts\u001b[39m\u001b[38;5;124m'\u001b[39m)\n",
      "\u001b[1;31mModuleNotFoundError\u001b[0m: No module named 'icecream'"
     ]
    }
   ],
   "source": [
    "import icecream\n",
    "\n",
    "icecream.scoop_icecream('small', 'sprinkles', 'chocolate', 'cherries')\n",
    "icecream.scoop_icecream('large', 'peanuts')"
   ]
  },
  {
   "cell_type": "code",
   "execution_count": 5,
   "id": "a65a2ff6-da17-47e7-ad7d-e7dc02d8e138",
   "metadata": {},
   "outputs": [
    {
     "name": "stdout",
     "output_type": "stream",
     "text": [
      "Python Version: 3.10.4 (tags/v3.10.4:9d38120, Mar 23 2022, 23:13:41) [MSC v.1929 64 bit (AMD64)]\n"
     ]
    }
   ],
   "source": [
    "import sys\n",
    "\n",
    "print('Python Version:', sys.version)"
   ]
  },
  {
   "cell_type": "code",
   "execution_count": 6,
   "id": "b8453ffe-9f2c-4c53-9a14-cdd34c4113ed",
   "metadata": {},
   "outputs": [
    {
     "name": "stdout",
     "output_type": "stream",
     "text": [
      "Interpreter Location: C:\\Python3\\python.exe\n"
     ]
    }
   ],
   "source": [
    "import sys\n",
    "\n",
    "print('Interpreter Location:', sys.executable)"
   ]
  },
  {
   "cell_type": "code",
   "execution_count": 7,
   "id": "bd31c294-fa3d-4535-b4ac-baef03590082",
   "metadata": {},
   "outputs": [
    {
     "name": "stdout",
     "output_type": "stream",
     "text": [
      "Keywords: \n",
      "False\n",
      "None\n",
      "True\n",
      "and\n",
      "as\n",
      "assert\n",
      "async\n",
      "await\n",
      "break\n",
      "class\n",
      "continue\n",
      "def\n",
      "del\n",
      "elif\n",
      "else\n",
      "except\n",
      "finally\n",
      "for\n",
      "from\n",
      "global\n",
      "if\n",
      "import\n",
      "in\n",
      "is\n",
      "lambda\n",
      "nonlocal\n",
      "not\n",
      "or\n",
      "pass\n",
      "raise\n",
      "return\n",
      "try\n",
      "while\n",
      "with\n",
      "yield\n"
     ]
    }
   ],
   "source": [
    "import keyword\n",
    "\n",
    "print('Keywords: ')\n",
    "for word in keyword.kwlist:\n",
    "    print(word)"
   ]
  },
  {
   "cell_type": "code",
   "execution_count": 8,
   "id": "121f2801-54c0-4092-b0b8-f6d1230ff266",
   "metadata": {},
   "outputs": [
    {
     "name": "stdout",
     "output_type": "stream",
     "text": [
      "True\n"
     ]
    }
   ],
   "source": [
    "import keyword\n",
    "\n",
    "print(keyword.iskeyword('def'))"
   ]
  },
  {
   "cell_type": "code",
   "execution_count": 9,
   "id": "efecedf4-6ed9-446d-8664-feb1b58e3c7f",
   "metadata": {},
   "outputs": [
    {
     "name": "stdout",
     "output_type": "stream",
     "text": [
      "Round the number 8.5 down:  8\n",
      "Round the number 8.5 up:  9\n",
      "5 to the power of 10 =  9765625.0\n",
      "The Square Root of 82 is:  9.055385138137417\n"
     ]
    }
   ],
   "source": [
    "# since the entire module is imported, the module name\n",
    "# must precede the function names (dot syntax)\n",
    "import math\n",
    "\n",
    "# round 8.5 down using `floor`\n",
    "print(\"Round the number 8.5 down: \", math.floor(8.5))\n",
    "\n",
    "# round 8.5 up using `ceil`\n",
    "print(\"Round the number 8.5 up: \", math.ceil(8.5))\n",
    "\n",
    "# compute 5^10 using `pow`\n",
    "print(\"5 to the power of 10 = \", math.pow(5, 10))\n",
    "\n",
    "# compute the square root of 82 using `sqrt`\n",
    "print(\"The Square Root of 82 is: \", math.sqrt(82))"
   ]
  },
  {
   "cell_type": "code",
   "execution_count": 10,
   "id": "58e98f39-d8e8-48fc-8278-4379a8b7be8d",
   "metadata": {},
   "outputs": [
    {
     "name": "stdout",
     "output_type": "stream",
     "text": [
      "A random float between 0 - 1.0:  0.5499943611425805\n"
     ]
    }
   ],
   "source": [
    "import random\n",
    "\n",
    "print(\"A random float between 0 - 1.0: \", random.random())"
   ]
  },
  {
   "cell_type": "code",
   "execution_count": 11,
   "id": "380f3c44-24bb-4a07-a7aa-74f413db9f9c",
   "metadata": {},
   "outputs": [
    {
     "name": "stdout",
     "output_type": "stream",
     "text": [
      "Your lucky numbers are:  [47, 15, 5, 27, 12, 6, 34]\n"
     ]
    }
   ],
   "source": [
    "import random\n",
    "\n",
    "numbers = random.sample(range(1, 49), 7) # The first argument given is the range from 1 to 49. The second argument is how many numbers you want to be returned from that range.\n",
    "\n",
    "print('Your lucky numbers are: ', numbers)"
   ]
  },
  {
   "cell_type": "code",
   "execution_count": null,
   "id": "234c4cb5-415a-4f39-b43a-2678ece8565f",
   "metadata": {},
   "outputs": [],
   "source": []
  }
 ],
 "metadata": {
  "kernelspec": {
   "display_name": "Python 3 (ipykernel)",
   "language": "python",
   "name": "python3"
  },
  "language_info": {
   "codemirror_mode": {
    "name": "ipython",
    "version": 3
   },
   "file_extension": ".py",
   "mimetype": "text/x-python",
   "name": "python",
   "nbconvert_exporter": "python",
   "pygments_lexer": "ipython3",
   "version": "3.10.4"
  }
 },
 "nbformat": 4,
 "nbformat_minor": 5
}
