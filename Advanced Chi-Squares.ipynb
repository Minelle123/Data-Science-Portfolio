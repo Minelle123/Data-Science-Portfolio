{
 "cells": [
  {
   "cell_type": "code",
   "execution_count": 1,
   "id": "960b9582",
   "metadata": {},
   "outputs": [
    {
     "name": "stderr",
     "output_type": "stream",
     "text": [
      "Installing package into 'C:/Users/minel/OneDrive/Documents/R/win-library/4.1'\n",
      "(as 'lib' is unspecified)\n",
      "\n"
     ]
    },
    {
     "name": "stdout",
     "output_type": "stream",
     "text": [
      "package 'gmodels' successfully unpacked and MD5 sums checked\n",
      "\n",
      "The downloaded binary packages are in\n",
      "\tC:\\Users\\minel\\AppData\\Local\\Temp\\RtmpIRtVZv\\downloaded_packages\n"
     ]
    },
    {
     "name": "stderr",
     "output_type": "stream",
     "text": [
      "Installing package into 'C:/Users/minel/OneDrive/Documents/R/win-library/4.1'\n",
      "(as 'lib' is unspecified)\n",
      "\n"
     ]
    },
    {
     "name": "stdout",
     "output_type": "stream",
     "text": [
      "package 'dplyr' successfully unpacked and MD5 sums checked\n"
     ]
    },
    {
     "name": "stderr",
     "output_type": "stream",
     "text": [
      "Warning message:\n",
      "\"cannot remove prior installation of package 'dplyr'\"\n",
      "Warning message in file.copy(savedcopy, lib, recursive = TRUE):\n",
      "\"problem copying C:\\Users\\minel\\OneDrive\\Documents\\R\\win-library\\4.1\\00LOCK\\dplyr\\libs\\x64\\dplyr.dll to C:\\Users\\minel\\OneDrive\\Documents\\R\\win-library\\4.1\\dplyr\\libs\\x64\\dplyr.dll: Permission denied\"\n",
      "Warning message:\n",
      "\"restored 'dplyr'\"\n"
     ]
    },
    {
     "name": "stdout",
     "output_type": "stream",
     "text": [
      "\n",
      "The downloaded binary packages are in\n",
      "\tC:\\Users\\minel\\AppData\\Local\\Temp\\RtmpIRtVZv\\downloaded_packages\n"
     ]
    },
    {
     "name": "stderr",
     "output_type": "stream",
     "text": [
      "Installing package into 'C:/Users/minel/OneDrive/Documents/R/win-library/4.1'\n",
      "(as 'lib' is unspecified)\n",
      "\n"
     ]
    },
    {
     "name": "stdout",
     "output_type": "stream",
     "text": [
      "package 'tidyr' successfully unpacked and MD5 sums checked\n"
     ]
    },
    {
     "name": "stderr",
     "output_type": "stream",
     "text": [
      "Warning message:\n",
      "\"cannot remove prior installation of package 'tidyr'\"\n",
      "Warning message in file.copy(savedcopy, lib, recursive = TRUE):\n",
      "\"problem copying C:\\Users\\minel\\OneDrive\\Documents\\R\\win-library\\4.1\\00LOCK\\tidyr\\libs\\x64\\tidyr.dll to C:\\Users\\minel\\OneDrive\\Documents\\R\\win-library\\4.1\\tidyr\\libs\\x64\\tidyr.dll: Permission denied\"\n",
      "Warning message:\n",
      "\"restored 'tidyr'\"\n"
     ]
    },
    {
     "name": "stdout",
     "output_type": "stream",
     "text": [
      "\n",
      "The downloaded binary packages are in\n",
      "\tC:\\Users\\minel\\AppData\\Local\\Temp\\RtmpIRtVZv\\downloaded_packages\n"
     ]
    },
    {
     "name": "stderr",
     "output_type": "stream",
     "text": [
      "\n",
      "Attaching package: 'dplyr'\n",
      "\n",
      "\n",
      "The following objects are masked from 'package:stats':\n",
      "\n",
      "    filter, lag\n",
      "\n",
      "\n",
      "The following objects are masked from 'package:base':\n",
      "\n",
      "    intersect, setdiff, setequal, union\n",
      "\n",
      "\n"
     ]
    }
   ],
   "source": [
    "install.packages(\"gmodels\")\n",
    "install.packages(\"dplyr\")\n",
    "install.packages(\"tidyr\")\n",
    "library(\"gmodels\")\n",
    "library(\"dplyr\")\n",
    "library(\"tidyr\")\n"
   ]
  },
  {
   "cell_type": "code",
   "execution_count": 2,
   "id": "484e0b22",
   "metadata": {},
   "outputs": [],
   "source": [
    "loans <- read.csv(\"C:/Users/minel/OneDrive/Documents/Entity Coursework/DSO105C (Oct 3 - Oct 23)/Lesson 3/loans_dictionary.csv\")"
   ]
  },
  {
   "cell_type": "code",
   "execution_count": 4,
   "id": "a834d977",
   "metadata": {},
   "outputs": [
    {
     "data": {
      "text/html": [
       "<table class=\"dataframe\">\n",
       "<caption>A tibble: 116 × 2</caption>\n",
       "<thead>\n",
       "\t<tr><th scope=col>LoanStatNew</th><th scope=col>count</th></tr>\n",
       "\t<tr><th scope=col>&lt;chr&gt;</th><th scope=col>&lt;int&gt;</th></tr>\n",
       "</thead>\n",
       "<tbody>\n",
       "\t<tr><td>                          </td><td>2</td></tr>\n",
       "\t<tr><td>acc_now_delinq            </td><td>1</td></tr>\n",
       "\t<tr><td>acc_open_past_24mths      </td><td>1</td></tr>\n",
       "\t<tr><td>addr_state                </td><td>1</td></tr>\n",
       "\t<tr><td>all_util                  </td><td>1</td></tr>\n",
       "\t<tr><td>annual_inc                </td><td>1</td></tr>\n",
       "\t<tr><td>annual_inc_joint          </td><td>1</td></tr>\n",
       "\t<tr><td>application_type          </td><td>1</td></tr>\n",
       "\t<tr><td>avg_cur_bal               </td><td>1</td></tr>\n",
       "\t<tr><td>bc_open_to_buy            </td><td>1</td></tr>\n",
       "\t<tr><td>bc_util                   </td><td>1</td></tr>\n",
       "\t<tr><td>chargeoff_within_12_mths  </td><td>1</td></tr>\n",
       "\t<tr><td>collection_recovery_fee   </td><td>1</td></tr>\n",
       "\t<tr><td>collections_12_mths_ex_med</td><td>1</td></tr>\n",
       "\t<tr><td>delinq_2yrs               </td><td>1</td></tr>\n",
       "\t<tr><td>delinq_amnt               </td><td>1</td></tr>\n",
       "\t<tr><td>desc                      </td><td>1</td></tr>\n",
       "\t<tr><td>dti                       </td><td>1</td></tr>\n",
       "\t<tr><td>dti_joint                 </td><td>1</td></tr>\n",
       "\t<tr><td>earliest_cr_line          </td><td>1</td></tr>\n",
       "\t<tr><td>emp_length                </td><td>1</td></tr>\n",
       "\t<tr><td>emp_title                 </td><td>1</td></tr>\n",
       "\t<tr><td>fico_range_high           </td><td>1</td></tr>\n",
       "\t<tr><td>fico_range_low            </td><td>1</td></tr>\n",
       "\t<tr><td>funded_amnt               </td><td>1</td></tr>\n",
       "\t<tr><td>funded_amnt_inv           </td><td>1</td></tr>\n",
       "\t<tr><td>grade                     </td><td>1</td></tr>\n",
       "\t<tr><td>home_ownership            </td><td>1</td></tr>\n",
       "\t<tr><td>id                        </td><td>1</td></tr>\n",
       "\t<tr><td>il_util                   </td><td>1</td></tr>\n",
       "\t<tr><td>...</td><td>...</td></tr>\n",
       "\t<tr><td>pub_rec                   </td><td>1</td></tr>\n",
       "\t<tr><td>pub_rec_bankruptcies      </td><td>1</td></tr>\n",
       "\t<tr><td>purpose                   </td><td>1</td></tr>\n",
       "\t<tr><td>pymnt_plan                </td><td>1</td></tr>\n",
       "\t<tr><td>recoveries                </td><td>1</td></tr>\n",
       "\t<tr><td>revol_bal                 </td><td>1</td></tr>\n",
       "\t<tr><td>revol_util                </td><td>1</td></tr>\n",
       "\t<tr><td>sub_grade                 </td><td>1</td></tr>\n",
       "\t<tr><td>tax_liens                 </td><td>1</td></tr>\n",
       "\t<tr><td>term                      </td><td>1</td></tr>\n",
       "\t<tr><td>title                     </td><td>1</td></tr>\n",
       "\t<tr><td>tot_coll_amt              </td><td>1</td></tr>\n",
       "\t<tr><td>tot_cur_bal               </td><td>1</td></tr>\n",
       "\t<tr><td>tot_hi_cred_lim           </td><td>1</td></tr>\n",
       "\t<tr><td>total_acc                 </td><td>1</td></tr>\n",
       "\t<tr><td>total_bal_ex_mort         </td><td>1</td></tr>\n",
       "\t<tr><td>total_bal_il              </td><td>1</td></tr>\n",
       "\t<tr><td>total_bc_limit            </td><td>1</td></tr>\n",
       "\t<tr><td>total_cu_tl               </td><td>1</td></tr>\n",
       "\t<tr><td>total_il_high_credit_limit</td><td>1</td></tr>\n",
       "\t<tr><td>total_pymnt               </td><td>1</td></tr>\n",
       "\t<tr><td>total_pymnt_inv           </td><td>1</td></tr>\n",
       "\t<tr><td>total_rec_int             </td><td>1</td></tr>\n",
       "\t<tr><td>total_rec_late_fee        </td><td>1</td></tr>\n",
       "\t<tr><td>total_rec_prncp           </td><td>1</td></tr>\n",
       "\t<tr><td>total_rev_hi_lim          </td><td>1</td></tr>\n",
       "\t<tr><td>url                       </td><td>1</td></tr>\n",
       "\t<tr><td>verification_status       </td><td>1</td></tr>\n",
       "\t<tr><td>verified_status_joint     </td><td>1</td></tr>\n",
       "\t<tr><td>zip_code                  </td><td>1</td></tr>\n",
       "</tbody>\n",
       "</table>\n"
      ],
      "text/latex": [
       "A tibble: 116 × 2\n",
       "\\begin{tabular}{ll}\n",
       " LoanStatNew & count\\\\\n",
       " <chr> & <int>\\\\\n",
       "\\hline\n",
       "\t                            & 2\\\\\n",
       "\t acc\\_now\\_delinq             & 1\\\\\n",
       "\t acc\\_open\\_past\\_24mths       & 1\\\\\n",
       "\t addr\\_state                 & 1\\\\\n",
       "\t all\\_util                   & 1\\\\\n",
       "\t annual\\_inc                 & 1\\\\\n",
       "\t annual\\_inc\\_joint           & 1\\\\\n",
       "\t application\\_type           & 1\\\\\n",
       "\t avg\\_cur\\_bal                & 1\\\\\n",
       "\t bc\\_open\\_to\\_buy             & 1\\\\\n",
       "\t bc\\_util                    & 1\\\\\n",
       "\t chargeoff\\_within\\_12\\_mths   & 1\\\\\n",
       "\t collection\\_recovery\\_fee    & 1\\\\\n",
       "\t collections\\_12\\_mths\\_ex\\_med & 1\\\\\n",
       "\t delinq\\_2yrs                & 1\\\\\n",
       "\t delinq\\_amnt                & 1\\\\\n",
       "\t desc                       & 1\\\\\n",
       "\t dti                        & 1\\\\\n",
       "\t dti\\_joint                  & 1\\\\\n",
       "\t earliest\\_cr\\_line           & 1\\\\\n",
       "\t emp\\_length                 & 1\\\\\n",
       "\t emp\\_title                  & 1\\\\\n",
       "\t fico\\_range\\_high            & 1\\\\\n",
       "\t fico\\_range\\_low             & 1\\\\\n",
       "\t funded\\_amnt                & 1\\\\\n",
       "\t funded\\_amnt\\_inv            & 1\\\\\n",
       "\t grade                      & 1\\\\\n",
       "\t home\\_ownership             & 1\\\\\n",
       "\t id                         & 1\\\\\n",
       "\t il\\_util                    & 1\\\\\n",
       "\t ... & ...\\\\\n",
       "\t pub\\_rec                    & 1\\\\\n",
       "\t pub\\_rec\\_bankruptcies       & 1\\\\\n",
       "\t purpose                    & 1\\\\\n",
       "\t pymnt\\_plan                 & 1\\\\\n",
       "\t recoveries                 & 1\\\\\n",
       "\t revol\\_bal                  & 1\\\\\n",
       "\t revol\\_util                 & 1\\\\\n",
       "\t sub\\_grade                  & 1\\\\\n",
       "\t tax\\_liens                  & 1\\\\\n",
       "\t term                       & 1\\\\\n",
       "\t title                      & 1\\\\\n",
       "\t tot\\_coll\\_amt               & 1\\\\\n",
       "\t tot\\_cur\\_bal                & 1\\\\\n",
       "\t tot\\_hi\\_cred\\_lim            & 1\\\\\n",
       "\t total\\_acc                  & 1\\\\\n",
       "\t total\\_bal\\_ex\\_mort          & 1\\\\\n",
       "\t total\\_bal\\_il               & 1\\\\\n",
       "\t total\\_bc\\_limit             & 1\\\\\n",
       "\t total\\_cu\\_tl                & 1\\\\\n",
       "\t total\\_il\\_high\\_credit\\_limit & 1\\\\\n",
       "\t total\\_pymnt                & 1\\\\\n",
       "\t total\\_pymnt\\_inv            & 1\\\\\n",
       "\t total\\_rec\\_int              & 1\\\\\n",
       "\t total\\_rec\\_late\\_fee         & 1\\\\\n",
       "\t total\\_rec\\_prncp            & 1\\\\\n",
       "\t total\\_rev\\_hi\\_lim           & 1\\\\\n",
       "\t url                        & 1\\\\\n",
       "\t verification\\_status        & 1\\\\\n",
       "\t verified\\_status\\_joint      & 1\\\\\n",
       "\t zip\\_code                   & 1\\\\\n",
       "\\end{tabular}\n"
      ],
      "text/markdown": [
       "\n",
       "A tibble: 116 × 2\n",
       "\n",
       "| LoanStatNew &lt;chr&gt; | count &lt;int&gt; |\n",
       "|---|---|\n",
       "| <!----> | 2 |\n",
       "| acc_now_delinq             | 1 |\n",
       "| acc_open_past_24mths       | 1 |\n",
       "| addr_state                 | 1 |\n",
       "| all_util                   | 1 |\n",
       "| annual_inc                 | 1 |\n",
       "| annual_inc_joint           | 1 |\n",
       "| application_type           | 1 |\n",
       "| avg_cur_bal                | 1 |\n",
       "| bc_open_to_buy             | 1 |\n",
       "| bc_util                    | 1 |\n",
       "| chargeoff_within_12_mths   | 1 |\n",
       "| collection_recovery_fee    | 1 |\n",
       "| collections_12_mths_ex_med | 1 |\n",
       "| delinq_2yrs                | 1 |\n",
       "| delinq_amnt                | 1 |\n",
       "| desc                       | 1 |\n",
       "| dti                        | 1 |\n",
       "| dti_joint                  | 1 |\n",
       "| earliest_cr_line           | 1 |\n",
       "| emp_length                 | 1 |\n",
       "| emp_title                  | 1 |\n",
       "| fico_range_high            | 1 |\n",
       "| fico_range_low             | 1 |\n",
       "| funded_amnt                | 1 |\n",
       "| funded_amnt_inv            | 1 |\n",
       "| grade                      | 1 |\n",
       "| home_ownership             | 1 |\n",
       "| id                         | 1 |\n",
       "| il_util                    | 1 |\n",
       "| ... | ... |\n",
       "| pub_rec                    | 1 |\n",
       "| pub_rec_bankruptcies       | 1 |\n",
       "| purpose                    | 1 |\n",
       "| pymnt_plan                 | 1 |\n",
       "| recoveries                 | 1 |\n",
       "| revol_bal                  | 1 |\n",
       "| revol_util                 | 1 |\n",
       "| sub_grade                  | 1 |\n",
       "| tax_liens                  | 1 |\n",
       "| term                       | 1 |\n",
       "| title                      | 1 |\n",
       "| tot_coll_amt               | 1 |\n",
       "| tot_cur_bal                | 1 |\n",
       "| tot_hi_cred_lim            | 1 |\n",
       "| total_acc                  | 1 |\n",
       "| total_bal_ex_mort          | 1 |\n",
       "| total_bal_il               | 1 |\n",
       "| total_bc_limit             | 1 |\n",
       "| total_cu_tl                | 1 |\n",
       "| total_il_high_credit_limit | 1 |\n",
       "| total_pymnt                | 1 |\n",
       "| total_pymnt_inv            | 1 |\n",
       "| total_rec_int              | 1 |\n",
       "| total_rec_late_fee         | 1 |\n",
       "| total_rec_prncp            | 1 |\n",
       "| total_rev_hi_lim           | 1 |\n",
       "| url                        | 1 |\n",
       "| verification_status        | 1 |\n",
       "| verified_status_joint      | 1 |\n",
       "| zip_code                   | 1 |\n",
       "\n"
      ],
      "text/plain": [
       "    LoanStatNew                count\n",
       "1                              2    \n",
       "2   acc_now_delinq             1    \n",
       "3   acc_open_past_24mths       1    \n",
       "4   addr_state                 1    \n",
       "5   all_util                   1    \n",
       "6   annual_inc                 1    \n",
       "7   annual_inc_joint           1    \n",
       "8   application_type           1    \n",
       "9   avg_cur_bal                1    \n",
       "10  bc_open_to_buy             1    \n",
       "11  bc_util                    1    \n",
       "12  chargeoff_within_12_mths   1    \n",
       "13  collection_recovery_fee    1    \n",
       "14  collections_12_mths_ex_med 1    \n",
       "15  delinq_2yrs                1    \n",
       "16  delinq_amnt                1    \n",
       "17  desc                       1    \n",
       "18  dti                        1    \n",
       "19  dti_joint                  1    \n",
       "20  earliest_cr_line           1    \n",
       "21  emp_length                 1    \n",
       "22  emp_title                  1    \n",
       "23  fico_range_high            1    \n",
       "24  fico_range_low             1    \n",
       "25  funded_amnt                1    \n",
       "26  funded_amnt_inv            1    \n",
       "27  grade                      1    \n",
       "28  home_ownership             1    \n",
       "29  id                         1    \n",
       "30  il_util                    1    \n",
       "... ...                        ...  \n",
       "87  pub_rec                    1    \n",
       "88  pub_rec_bankruptcies       1    \n",
       "89  purpose                    1    \n",
       "90  pymnt_plan                 1    \n",
       "91  recoveries                 1    \n",
       "92  revol_bal                  1    \n",
       "93  revol_util                 1    \n",
       "94  sub_grade                  1    \n",
       "95  tax_liens                  1    \n",
       "96  term                       1    \n",
       "97  title                      1    \n",
       "98  tot_coll_amt               1    \n",
       "99  tot_cur_bal                1    \n",
       "100 tot_hi_cred_lim            1    \n",
       "101 total_acc                  1    \n",
       "102 total_bal_ex_mort          1    \n",
       "103 total_bal_il               1    \n",
       "104 total_bc_limit             1    \n",
       "105 total_cu_tl                1    \n",
       "106 total_il_high_credit_limit 1    \n",
       "107 total_pymnt                1    \n",
       "108 total_pymnt_inv            1    \n",
       "109 total_rec_int              1    \n",
       "110 total_rec_late_fee         1    \n",
       "111 total_rec_prncp            1    \n",
       "112 total_rev_hi_lim           1    \n",
       "113 url                        1    \n",
       "114 verification_status        1    \n",
       "115 verified_status_joint      1    \n",
       "116 zip_code                   1    "
      ]
     },
     "metadata": {},
     "output_type": "display_data"
    }
   ],
   "source": [
    "loans %>% group_by(LoanStatNew) %>% summarize(count=n())"
   ]
  },
  {
   "cell_type": "code",
   "execution_count": 5,
   "id": "5894714c",
   "metadata": {},
   "outputs": [
    {
     "name": "stdout",
     "output_type": "stream",
     "text": [
      "'data.frame':\t117 obs. of  11 variables:\n",
      " $ LoanStatNew: chr  \"acc_now_delinq\" \"acc_open_past_24mths\" \"addr_state\" \"all_util\" ...\n",
      " $ Description: chr  \"The number of accounts on which the borrower is now delinquent.\" \"Number of trades opened in past 24 months.\" \"The state provided by the borrower in the loan application\" \"Balance to credit limit on all trades\" ...\n",
      " $ X          : logi  NA NA NA NA NA NA ...\n",
      " $ X.1        : logi  NA NA NA NA NA NA ...\n",
      " $ X.2        : logi  NA NA NA NA NA NA ...\n",
      " $ X.3        : logi  NA NA NA NA NA NA ...\n",
      " $ X.4        : logi  NA NA NA NA NA NA ...\n",
      " $ X.5        : logi  NA NA NA NA NA NA ...\n",
      " $ X.6        : logi  NA NA NA NA NA NA ...\n",
      " $ X.7        : logi  NA NA NA NA NA NA ...\n",
      " $ X.8        : logi  NA NA NA NA NA NA ...\n"
     ]
    }
   ],
   "source": [
    "str(loans)\n"
   ]
  },
  {
   "cell_type": "code",
   "execution_count": 6,
   "id": "c4b9b415",
   "metadata": {},
   "outputs": [
    {
     "ename": "ERROR",
     "evalue": "Error in `$<-.data.frame`(`*tmp*`, DateR, value = structure(numeric(0), class = \"Date\")): replacement has 0 rows, data has 117\n",
     "output_type": "error",
     "traceback": [
      "Error in `$<-.data.frame`(`*tmp*`, DateR, value = structure(numeric(0), class = \"Date\")): replacement has 0 rows, data has 117\nTraceback:\n",
      "1. `$<-`(`*tmp*`, DateR, value = structure(numeric(0), class = \"Date\"))",
      "2. `$<-.data.frame`(`*tmp*`, DateR, value = structure(numeric(0), class = \"Date\"))",
      "3. stop(sprintf(ngettext(N, \"replacement has %d row, data has %d\", \n .     \"replacement has %d rows, data has %d\"), N, nrows), domain = NA)"
     ]
    }
   ],
   "source": [
    "loans$DateR <- as.Date(paste(loans$Date), \"%m/%d/%Y\")"
   ]
  }
 ],
 "metadata": {
  "kernelspec": {
   "display_name": "R",
   "language": "R",
   "name": "ir"
  },
  "language_info": {
   "codemirror_mode": "r",
   "file_extension": ".r",
   "mimetype": "text/x-r-source",
   "name": "R",
   "pygments_lexer": "r",
   "version": "4.1.3"
  }
 },
 "nbformat": 4,
 "nbformat_minor": 5
}
