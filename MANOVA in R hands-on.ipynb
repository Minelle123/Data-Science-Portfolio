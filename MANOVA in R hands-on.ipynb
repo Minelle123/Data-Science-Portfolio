{
 "cells": [
  {
   "cell_type": "code",
   "execution_count": 1,
   "id": "7b0b2067",
   "metadata": {},
   "outputs": [
    {
     "name": "stderr",
     "output_type": "stream",
     "text": [
      "Installing package into 'C:/Users/minel/OneDrive/Documents/R/win-library/4.1'\n",
      "(as 'lib' is unspecified)\n",
      "\n"
     ]
    },
    {
     "name": "stdout",
     "output_type": "stream",
     "text": [
      "package 'mvnormtest' successfully unpacked and MD5 sums checked\n",
      "\n",
      "The downloaded binary packages are in\n",
      "\tC:\\Users\\minel\\AppData\\Local\\Temp\\Rtmpcr6xz9\\downloaded_packages\n"
     ]
    }
   ],
   "source": [
    "install.packages(\"mvnormtest\")"
   ]
  },
  {
   "cell_type": "code",
   "execution_count": 2,
   "id": "3e6ba68d",
   "metadata": {},
   "outputs": [
    {
     "name": "stderr",
     "output_type": "stream",
     "text": [
      "Loading required package: carData\n",
      "\n"
     ]
    }
   ],
   "source": [
    "library('mvnormtest')\n",
    "library('car')"
   ]
  },
  {
   "cell_type": "code",
   "execution_count": 1,
   "id": "31dd6d4d",
   "metadata": {},
   "outputs": [],
   "source": [
    "heartAttack <- read.csv(\"C:/Users/minel/OneDrive/Documents/Entity Coursework/DSO105C (Oct 3 - Oct 23)/Lesson 9/heartAttacks.csv\")"
   ]
  },
  {
   "cell_type": "code",
   "execution_count": 4,
   "id": "c70fe2c2",
   "metadata": {},
   "outputs": [
    {
     "name": "stdout",
     "output_type": "stream",
     "text": [
      " chr [1:323750] \"0\" \"220\" \"1\" \"1283\" \"52375\" \"1205\" \"453\" \"8233\" \"6240.57\" ...\n",
      " chr [1:323750] \"0\" \"3\" \"1\" \"14\" \"224\" \"16\" \"40\" \"58\" \"43\" \"0\" \"100\" \"0\" ...\n"
     ]
    }
   ],
   "source": [
    "str(kickstarter$pledged)\n",
    "str(kickstarter$backers)\n"
   ]
  },
  {
   "cell_type": "code",
   "execution_count": 6,
   "id": "716b9706",
   "metadata": {},
   "outputs": [],
   "source": [
    "kickstarter$pledged <- as.numeric(kickstarter$pledged)\n",
    "kickstarter$backers <- as.numeric(kickstarter$backers)"
   ]
  },
  {
   "cell_type": "code",
   "execution_count": 7,
   "id": "83b0cc49",
   "metadata": {},
   "outputs": [],
   "source": [
    "keeps <- c(\"pledged\", \"backers\")\n",
    "kickstarter1 <- kickstarter[keeps]"
   ]
  },
  {
   "cell_type": "code",
   "execution_count": 10,
   "id": "61e13ca9",
   "metadata": {},
   "outputs": [],
   "source": [
    "kickstarter2 <- kickstarter1[1:5000,]"
   ]
  },
  {
   "cell_type": "code",
   "execution_count": 11,
   "id": "8f728cd4",
   "metadata": {},
   "outputs": [
    {
     "ename": "ERROR",
     "evalue": "Error in t(kickstarter4): object 'kickstarter4' not found\n",
     "output_type": "error",
     "traceback": [
      "Error in t(kickstarter4): object 'kickstarter4' not found\nTraceback:\n",
      "1. mshapiro.test(t(kickstarter4))",
      "2. t(kickstarter4)"
     ]
    }
   ],
   "source": [
    "mshapiro.test(t(kickstarter4))\n"
   ]
  },
  {
   "cell_type": "code",
   "execution_count": 12,
   "id": "133b7665",
   "metadata": {},
   "outputs": [
    {
     "name": "stderr",
     "output_type": "stream",
     "text": [
      "Warning message in leveneTest.default(kickstarter$pledged, kickstarter$country, :\n",
      "\"kickstarter$country coerced to factor.\"\n"
     ]
    },
    {
     "data": {
      "text/html": [
       "<table class=\"dataframe\">\n",
       "<caption>A anova: 2 × 3</caption>\n",
       "<thead>\n",
       "\t<tr><th></th><th scope=col>Df</th><th scope=col>F value</th><th scope=col>Pr(&gt;F)</th></tr>\n",
       "\t<tr><th></th><th scope=col>&lt;int&gt;</th><th scope=col>&lt;dbl&gt;</th><th scope=col>&lt;dbl&gt;</th></tr>\n",
       "</thead>\n",
       "<tbody>\n",
       "\t<tr><th scope=row>group</th><td>    23</td><td>22.13075</td><td>5.661519e-93</td></tr>\n",
       "\t<tr><th scope=row> </th><td>323102</td><td>      NA</td><td>          NA</td></tr>\n",
       "</tbody>\n",
       "</table>\n"
      ],
      "text/latex": [
       "A anova: 2 × 3\n",
       "\\begin{tabular}{r|lll}\n",
       "  & Df & F value & Pr(>F)\\\\\n",
       "  & <int> & <dbl> & <dbl>\\\\\n",
       "\\hline\n",
       "\tgroup &     23 & 22.13075 & 5.661519e-93\\\\\n",
       "\t  & 323102 &       NA &           NA\\\\\n",
       "\\end{tabular}\n"
      ],
      "text/markdown": [
       "\n",
       "A anova: 2 × 3\n",
       "\n",
       "| <!--/--> | Df &lt;int&gt; | F value &lt;dbl&gt; | Pr(&gt;F) &lt;dbl&gt; |\n",
       "|---|---|---|---|\n",
       "| group |     23 | 22.13075 | 5.661519e-93 |\n",
       "| <!----> | 323102 |       NA |           NA |\n",
       "\n"
      ],
      "text/plain": [
       "      Df     F value  Pr(>F)      \n",
       "group     23 22.13075 5.661519e-93\n",
       "      323102       NA           NA"
      ]
     },
     "metadata": {},
     "output_type": "display_data"
    }
   ],
   "source": [
    "leveneTest(kickstarter$pledged, kickstarter$country, data=kickstarter)"
   ]
  },
  {
   "cell_type": "code",
   "execution_count": 13,
   "id": "27ab1a7f",
   "metadata": {},
   "outputs": [
    {
     "name": "stderr",
     "output_type": "stream",
     "text": [
      "Warning message in leveneTest.default(kickstarter$backers, kickstarter$country, :\n",
      "\"kickstarter$country coerced to factor.\"\n"
     ]
    },
    {
     "data": {
      "text/html": [
       "<table class=\"dataframe\">\n",
       "<caption>A anova: 2 × 3</caption>\n",
       "<thead>\n",
       "\t<tr><th></th><th scope=col>Df</th><th scope=col>F value</th><th scope=col>Pr(&gt;F)</th></tr>\n",
       "\t<tr><th></th><th scope=col>&lt;int&gt;</th><th scope=col>&lt;dbl&gt;</th><th scope=col>&lt;dbl&gt;</th></tr>\n",
       "</thead>\n",
       "<tbody>\n",
       "\t<tr><th scope=row>group</th><td>    24</td><td>189.1995</td><td> 0</td></tr>\n",
       "\t<tr><th scope=row> </th><td>323102</td><td>      NA</td><td>NA</td></tr>\n",
       "</tbody>\n",
       "</table>\n"
      ],
      "text/latex": [
       "A anova: 2 × 3\n",
       "\\begin{tabular}{r|lll}\n",
       "  & Df & F value & Pr(>F)\\\\\n",
       "  & <int> & <dbl> & <dbl>\\\\\n",
       "\\hline\n",
       "\tgroup &     24 & 189.1995 &  0\\\\\n",
       "\t  & 323102 &       NA & NA\\\\\n",
       "\\end{tabular}\n"
      ],
      "text/markdown": [
       "\n",
       "A anova: 2 × 3\n",
       "\n",
       "| <!--/--> | Df &lt;int&gt; | F value &lt;dbl&gt; | Pr(&gt;F) &lt;dbl&gt; |\n",
       "|---|---|---|---|\n",
       "| group |     24 | 189.1995 |  0 |\n",
       "| <!----> | 323102 |       NA | NA |\n",
       "\n"
      ],
      "text/plain": [
       "      Df     F value  Pr(>F)\n",
       "group     24 189.1995  0    \n",
       "      323102       NA NA    "
      ]
     },
     "metadata": {},
     "output_type": "display_data"
    }
   ],
   "source": [
    "leveneTest(kickstarter$backers, kickstarter$country, data=kickstarter)"
   ]
  },
  {
   "cell_type": "code",
   "execution_count": 14,
   "id": "d881111d",
   "metadata": {},
   "outputs": [
    {
     "data": {
      "text/plain": [
       "\n",
       "\tPearson's product-moment correlation\n",
       "\n",
       "data:  kickstarter$pledged and kickstarter$backers\n",
       "t = 615.89, df = 323124, p-value < 2.2e-16\n",
       "alternative hypothesis: true correlation is not equal to 0\n",
       "95 percent confidence interval:\n",
       " 0.7332546 0.7364268\n",
       "sample estimates:\n",
       "      cor \n",
       "0.7348447 \n"
      ]
     },
     "metadata": {},
     "output_type": "display_data"
    }
   ],
   "source": [
    "cor.test(kickstarter$pledged, kickstarter$backers, method=\"pearson\", use=\"complete.obs\")"
   ]
  },
  {
   "cell_type": "code",
   "execution_count": 15,
   "id": "c43060f8",
   "metadata": {},
   "outputs": [
    {
     "data": {
      "text/plain": [
       "              Df   Pillai approx F num Df den Df    Pr(>F)    \n",
       "country       23 0.032996   235.65     46 646204 < 2.2e-16 ***\n",
       "Residuals 323102                                              \n",
       "---\n",
       "Signif. codes:  0 '***' 0.001 '**' 0.01 '*' 0.05 '.' 0.1 ' ' 1"
      ]
     },
     "metadata": {},
     "output_type": "display_data"
    }
   ],
   "source": [
    "MANOVA <- manova(cbind(pledged, backers) ~ country, data = kickstarter)\n",
    "summary(MANOVA)"
   ]
  },
  {
   "cell_type": "code",
   "execution_count": 16,
   "id": "4c3fb582",
   "metadata": {},
   "outputs": [
    {
     "data": {
      "text/plain": [
       " Response pledged :\n",
       "                Df     Sum Sq    Mean Sq F value    Pr(>F)    \n",
       "country         23 4.1367e+12 1.7985e+11  22.445 < 2.2e-16 ***\n",
       "Residuals   323102 2.5891e+15 8.0133e+09                      \n",
       "---\n",
       "Signif. codes:  0 '***' 0.001 '**' 0.01 '*' 0.05 '.' 0.1 ' ' 1\n",
       "\n",
       " Response backers :\n",
       "                Df     Sum Sq   Mean Sq F value    Pr(>F)    \n",
       "country         23 4.0433e+09 175796074  198.45 < 2.2e-16 ***\n",
       "Residuals   323102 2.8622e+11    885848                      \n",
       "---\n",
       "Signif. codes:  0 '***' 0.001 '**' 0.01 '*' 0.05 '.' 0.1 ' ' 1\n",
       "\n",
       "624 observations deleted due to missingness"
      ]
     },
     "metadata": {},
     "output_type": "display_data"
    }
   ],
   "source": [
    "summary.aov(MANOVA, test = \"wilks\")"
   ]
  },
  {
   "cell_type": "code",
   "execution_count": null,
   "id": "b92e7877",
   "metadata": {},
   "outputs": [],
   "source": []
  }
 ],
 "metadata": {
  "kernelspec": {
   "display_name": "R",
   "language": "R",
   "name": "ir"
  },
  "language_info": {
   "codemirror_mode": "r",
   "file_extension": ".r",
   "mimetype": "text/x-r-source",
   "name": "R",
   "pygments_lexer": "r",
   "version": "4.1.3"
  }
 },
 "nbformat": 4,
 "nbformat_minor": 5
}
