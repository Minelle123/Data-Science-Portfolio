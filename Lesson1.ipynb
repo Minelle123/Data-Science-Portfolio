{
 "cells": [
  {
   "cell_type": "code",
   "execution_count": 1,
   "id": "dca19358-d9f4-4455-9c27-6807b16c97c3",
   "metadata": {},
   "outputs": [
    {
     "name": "stdout",
     "output_type": "stream",
     "text": [
      "Hello World\n"
     ]
    }
   ],
   "source": [
    "print(\"Hello World\")"
   ]
  },
  {
   "cell_type": "code",
   "execution_count": 3,
   "id": "e685dc09-8339-435d-9a2a-f0b0c80cdfb4",
   "metadata": {},
   "outputs": [
    {
     "name": "stdout",
     "output_type": "stream",
     "text": [
      "Hello World\n"
     ]
    }
   ],
   "source": [
    "my_message = \"Hello World\"\n",
    "print(my_message)"
   ]
  },
  {
   "cell_type": "code",
   "execution_count": 4,
   "id": "18b51abe-b973-42e9-8aad-41e4f6b48fe2",
   "metadata": {},
   "outputs": [
    {
     "name": "stdout",
     "output_type": "stream",
     "text": [
      "Samanta\n"
     ]
    }
   ],
   "source": [
    "my_message = \"Samanta\"\n",
    "print(my_message)"
   ]
  },
  {
   "cell_type": "code",
   "execution_count": 5,
   "id": "bd43bda4-b75e-47fa-935e-9c820ad3c199",
   "metadata": {},
   "outputs": [
    {
     "name": "stdout",
     "output_type": "stream",
     "text": [
      "cat\n"
     ]
    }
   ],
   "source": [
    "animal_type = \"cat\"\n",
    "print(animal_type)"
   ]
  },
  {
   "cell_type": "code",
   "execution_count": 6,
   "id": "0baa821c-5bfd-4d06-ac5a-82dcacd936e1",
   "metadata": {},
   "outputs": [
    {
     "name": "stdout",
     "output_type": "stream",
     "text": [
      "34\n"
     ]
    }
   ],
   "source": [
    "human_age = 34\n",
    "print(human_age)"
   ]
  },
  {
   "cell_type": "code",
   "execution_count": 7,
   "id": "87ff9f48-929a-4755-8e44-d6a0e22ead55",
   "metadata": {},
   "outputs": [
    {
     "name": "stdout",
     "output_type": "stream",
     "text": [
      "bright and sunny\n"
     ]
    }
   ],
   "source": [
    "weather = \"bright and sunny\"\n",
    "print(weather)"
   ]
  },
  {
   "cell_type": "code",
   "execution_count": 8,
   "id": "f75e6499-881d-4f5c-9032-7e492958c1b3",
   "metadata": {},
   "outputs": [
    {
     "name": "stdout",
     "output_type": "stream",
     "text": [
      "4\n"
     ]
    }
   ],
   "source": [
    "add_two_numbers = 2 + 2\n",
    "print(add_two_numbers)"
   ]
  },
  {
   "cell_type": "code",
   "execution_count": 9,
   "id": "ffdb5833-1efd-4e80-8083-7daf822cabd5",
   "metadata": {},
   "outputs": [
    {
     "name": "stdout",
     "output_type": "stream",
     "text": [
      "1782\n"
     ]
    }
   ],
   "source": [
    "multiply_two_numbers = 33 * 54\n",
    "print(multiply_two_numbers)"
   ]
  },
  {
   "cell_type": "code",
   "execution_count": 10,
   "id": "3142013e-62d4-4346-839f-248f6dc6f1d5",
   "metadata": {},
   "outputs": [
    {
     "name": "stdout",
     "output_type": "stream",
     "text": [
      "158598\n"
     ]
    }
   ],
   "source": [
    "multiply_three_numbers = 33 * 54 * 89\n",
    "print(multiply_three_numbers)"
   ]
  },
  {
   "cell_type": "code",
   "execution_count": 12,
   "id": "78728222-dd33-4f6c-9884-b811cc4d9a59",
   "metadata": {},
   "outputs": [
    {
     "name": "stdout",
     "output_type": "stream",
     "text": [
      "0.5\n"
     ]
    }
   ],
   "source": [
    "add_two_float_numbers = 0.1 + 0.4\n",
    "print(add_two_float_numbers)"
   ]
  },
  {
   "cell_type": "code",
   "execution_count": 13,
   "id": "326aabf1-ca9d-4397-807f-4f1776bbcfd0",
   "metadata": {},
   "outputs": [
    {
     "name": "stdout",
     "output_type": "stream",
     "text": [
      "0.30000000000000004\n"
     ]
    }
   ],
   "source": [
    "multiply_two_float_numbers = 3 * 0.1\n",
    "print(multiply_two_float_numbers)"
   ]
  },
  {
   "cell_type": "code",
   "execution_count": null,
   "id": "fa540fda-e7fb-4f55-8112-fcab905ea561",
   "metadata": {},
   "outputs": [],
   "source": []
  }
 ],
 "metadata": {
  "kernelspec": {
   "display_name": "Python 3 (ipykernel)",
   "language": "python",
   "name": "python3"
  },
  "language_info": {
   "codemirror_mode": {
    "name": "ipython",
    "version": 3
   },
   "file_extension": ".py",
   "mimetype": "text/x-python",
   "name": "python",
   "nbconvert_exporter": "python",
   "pygments_lexer": "ipython3",
   "version": "3.10.4"
  }
 },
 "nbformat": 4,
 "nbformat_minor": 5
}
