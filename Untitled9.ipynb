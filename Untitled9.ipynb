{
 "cells": [
  {
   "cell_type": "code",
   "execution_count": null,
   "id": "0db020a3",
   "metadata": {},
   "outputs": [],
   "source": [
    "library(\"caret\")\n",
    "library(\"magrittr\")\n",
    "library(\"dplyr\")\n",
    "library(\"tidyr\")\n",
    "library(\"lmtest\")\n",
    "library(\"popbio\")\n",
    "library(\"e1071\")"
   ]
  },
  {
   "cell_type": "code",
   "execution_count": null,
   "id": "039e19fe",
   "metadata": {},
   "outputs": [],
   "source": []
  },
  {
   "cell_type": "code",
   "execution_count": null,
   "id": "6c53887e",
   "metadata": {},
   "outputs": [],
   "source": [
    "gold = read.csv(r\"C:\\Users\\minel\\Downloads\\minerals\")"
   ]
  },
  {
   "cell_type": "code",
   "execution_count": null,
   "id": "e9851de1",
   "metadata": {},
   "outputs": [],
   "source": [
    "gold.head()"
   ]
  },
  {
   "cell_type": "code",
   "execution_count": null,
   "id": "854b2feb",
   "metadata": {},
   "outputs": [],
   "source": [
    "gold$WinsR <- NA\n",
    "gold$WinsR[gold$W.L=='W'] <- 1\n",
    "gold$WinsR[gold$W.L=='L'] <- 0"
   ]
  },
  {
   "cell_type": "code",
   "execution_count": null,
   "id": "9a558bb5",
   "metadata": {},
   "outputs": [],
   "source": [
    "probabilities <- predict(mylogit, type = \"response\")"
   ]
  },
  {
   "cell_type": "code",
   "execution_count": null,
   "id": "301c16a1",
   "metadata": {},
   "outputs": [],
   "source": [
    "probabilities <- predict(mylogit, type = \"response\")\n",
    "gold$Predicted <- ifelse(probabilities > .5, \"pos\", \"neg\")"
   ]
  },
  {
   "cell_type": "code",
   "execution_count": null,
   "id": "8d8d8646",
   "metadata": {},
   "outputs": [],
   "source": [
    "gold$PredictedR <- NA\n",
    "gold$PredictedR[gold$Predicted=='pos'] <- 1\n",
    "gold$PredictedR[gold$Predicted=='neg'] <- 0"
   ]
  },
  {
   "cell_type": "code",
   "execution_count": null,
   "id": "a834c322",
   "metadata": {},
   "outputs": [],
   "source": [
    "gold$PredictedR <- as.factor(gold$PredictedR)\n",
    "gold$WinsR <- as.factor(gold$WinsR)"
   ]
  },
  {
   "cell_type": "code",
   "execution_count": null,
   "id": "91f6cb81",
   "metadata": {},
   "outputs": [],
   "source": [
    "conf_mat <- caret::confusionMatrix(gold$PredictedR, gold$WinsR)\n",
    "conf_mat"
   ]
  }
 ],
 "metadata": {
  "kernelspec": {
   "display_name": "R",
   "language": "R",
   "name": "ir"
  },
  "language_info": {
   "codemirror_mode": "r",
   "file_extension": ".r",
   "mimetype": "text/x-r-source",
   "name": "R",
   "pygments_lexer": "r",
   "version": "4.1.3"
  }
 },
 "nbformat": 4,
 "nbformat_minor": 5
}
