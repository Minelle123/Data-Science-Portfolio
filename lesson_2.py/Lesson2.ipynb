{
 "cells": [
  {
   "cell_type": "code",
   "execution_count": 1,
   "id": "400959db-9d2f-4680-8ebc-edbbd38f3f0e",
   "metadata": {},
   "outputs": [],
   "source": [
    "a = 15\n",
    "b  = 5\n",
    "c = 0"
   ]
  },
  {
   "cell_type": "code",
   "execution_count": 2,
   "id": "77f71bf6-ab66-4fa3-a064-bb87de375378",
   "metadata": {},
   "outputs": [
    {
     "name": "stdout",
     "output_type": "stream",
     "text": [
      "1. C = 20\n"
     ]
    }
   ],
   "source": [
    "c = a + b\n",
    "print(\"1. C =\",c)"
   ]
  },
  {
   "cell_type": "code",
   "execution_count": 3,
   "id": "98a8d6ad-cf85-48c5-a591-41abe88260cc",
   "metadata": {},
   "outputs": [
    {
     "name": "stdout",
     "output_type": "stream",
     "text": [
      "2. C = 35\n"
     ]
    }
   ],
   "source": [
    "c += a\n",
    "print(\"2. C =\", c)"
   ]
  },
  {
   "cell_type": "code",
   "execution_count": 4,
   "id": "bbf58761-fc69-4bb8-95dd-1c8025844e13",
   "metadata": {},
   "outputs": [
    {
     "name": "stdout",
     "output_type": "stream",
     "text": [
      "3. C = 525\n"
     ]
    }
   ],
   "source": [
    "c *= a\n",
    "print(\"3. C =\", c)"
   ]
  },
  {
   "cell_type": "code",
   "execution_count": 5,
   "id": "ef5f28fa-5e38-4103-8e72-34ef7d861f6a",
   "metadata": {},
   "outputs": [
    {
     "name": "stdout",
     "output_type": "stream",
     "text": [
      "4. C = 35.0\n"
     ]
    }
   ],
   "source": [
    "c /= a\n",
    "print(\"4. C =\", c)"
   ]
  },
  {
   "cell_type": "code",
   "execution_count": 6,
   "id": "685ffc37-8f44-4531-b884-47ba817cc74f",
   "metadata": {},
   "outputs": [
    {
     "name": "stdout",
     "output_type": "stream",
     "text": [
      "5. C= 5.0\n"
     ]
    }
   ],
   "source": [
    "c %= a\n",
    "print(\"5. C=\", c)"
   ]
  },
  {
   "cell_type": "code",
   "execution_count": 7,
   "id": "bc921a72-c2b8-48c3-ac53-2e14ca6796d9",
   "metadata": {},
   "outputs": [
    {
     "name": "stdout",
     "output_type": "stream",
     "text": [
      "6. C = 1.0\n"
     ]
    }
   ],
   "source": [
    "c //= b\n",
    "print(\"6. C =\", c)"
   ]
  },
  {
   "cell_type": "code",
   "execution_count": 8,
   "id": "1c82fd6e-4fcc-40bd-ab7b-0de85c0b3d92",
   "metadata": {},
   "outputs": [
    {
     "name": "stdout",
     "output_type": "stream",
     "text": [
      "7. C = 32768\n"
     ]
    }
   ],
   "source": [
    "c = 2\n",
    "c **= a\n",
    "print(\"7. C =\", c)"
   ]
  },
  {
   "cell_type": "code",
   "execution_count": 1,
   "id": "e175bd5e-3333-484f-a5af-fd45cd42a847",
   "metadata": {},
   "outputs": [],
   "source": [
    "my_burger_price = 15\n",
    "is_fifteen_dollaars = my_burger_price == 15\n",
    "#is_fifteen_dollars = `True` - price equals 15"
   ]
  },
  {
   "cell_type": "code",
   "execution_count": 2,
   "id": "e4806ebf-77f6-4716-ad63-6a086b35be06",
   "metadata": {},
   "outputs": [],
   "source": [
    "is_not_twenty_dollars = my_burger_price != 20\n",
    "#is_not_twenty_dollars = `True` - price does not equal 20"
   ]
  },
  {
   "cell_type": "code",
   "execution_count": 3,
   "id": "8ff7ce83-ade6-41d6-bd59-3a7a00363877",
   "metadata": {},
   "outputs": [],
   "source": [
    "is_affordable = my_burger_price <= 10\n",
    "# is_affordable = `False` - price is NOT less than or equal to 10\n"
   ]
  },
  {
   "cell_type": "code",
   "execution_count": 4,
   "id": "73d5a5c3-2708-4420-8ecb-f00a33b03e34",
   "metadata": {},
   "outputs": [],
   "source": [
    "is_pricey = my_burger_price >= 15\n",
    "# is_pricey = `True` - price is greater than or equal to 15"
   ]
  },
  {
   "cell_type": "code",
   "execution_count": 5,
   "id": "7ea388c7-48ed-4676-aa15-e80d9e554785",
   "metadata": {},
   "outputs": [],
   "source": [
    "your_burger_price = 20"
   ]
  },
  {
   "cell_type": "code",
   "execution_count": 6,
   "id": "7b8734b7-d70a-43cf-a87b-02f7cd865359",
   "metadata": {},
   "outputs": [],
   "source": [
    "my_burger_costs_more = my_burger_price > your_burger_price\n",
    "# my_burger_costs_more = `False` - your price is greater than mine"
   ]
  },
  {
   "cell_type": "code",
   "execution_count": 7,
   "id": "5915fdce-2857-449a-b93e-64924e7ce416",
   "metadata": {},
   "outputs": [],
   "source": [
    "my_burger_costs_less = my_burger_price < your_burger_price\n",
    "# my_burger_costs_less = `True` - my price is less than yours"
   ]
  },
  {
   "cell_type": "code",
   "execution_count": 8,
   "id": "0af1884e-2092-48fb-8034-ffbe4b616435",
   "metadata": {},
   "outputs": [
    {
     "name": "stdout",
     "output_type": "stream",
     "text": [
      "False\n",
      "True\n",
      "True\n",
      "---\n",
      "False\n",
      "False\n"
     ]
    }
   ],
   "source": [
    "my_name = \"Sally\"\n",
    "your_name = \"Billy\"\n",
    "some_name = \"Sally\"\n",
    "print(my_name == your_name)\n",
    "print(my_name != your_name)\n",
    "print(some_name == my_name)\n",
    "\n",
    "print(\"---\")\n",
    "\n",
    "ny_name = \"Joe\" # uppercase j\n",
    "some_name = \"joe\" # lowercase j\n",
    "\n",
    "print(my_name == some_name)\n",
    "print(my_name.upper() == some_name.upper())"
   ]
  },
  {
   "cell_type": "code",
   "execution_count": 9,
   "id": "26a489ea-f9ba-4fc1-b5f4-630e728c6afc",
   "metadata": {},
   "outputs": [
    {
     "name": "stdout",
     "output_type": "stream",
     "text": [
      "False\n"
     ]
    }
   ],
   "source": [
    "# details of the person who wants to watch the movie\n",
    "person_age = 17\n",
    "person_money = 25\n",
    "\n",
    "# the requirements to watch the movie\n",
    "age_restriction = 18\n",
    "movie_price = 10\n",
    "\n",
    "# conditions\n",
    "is_old_enough = person_age >= age_restriction\n",
    "has_enough_money = person_money >= movie_price\n",
    "\n",
    "# two conditions combined using 'and'\n",
    "can_watch_movie = is_old_enough and has_enough_money\n",
    "print(can_watch_movie)\n",
    "\n",
    "# the output is False, because the person's age is less than the required age\n"
   ]
  },
  {
   "cell_type": "code",
   "execution_count": 10,
   "id": "135a014c-53bc-49bd-8ffc-608d97c319e5",
   "metadata": {},
   "outputs": [],
   "source": [
    "# multiple conditions\n",
    "result = (10 > 3) and (3 < 9) and (\"this\" != \"that\")"
   ]
  },
  {
   "cell_type": "code",
   "execution_count": 11,
   "id": "1de524d5-4a19-4647-9cbb-6088c008c47c",
   "metadata": {},
   "outputs": [
    {
     "name": "stdout",
     "output_type": "stream",
     "text": [
      "True\n"
     ]
    }
   ],
   "source": [
    "amount_of_money = 10\n",
    "is_a_friend = True\n",
    "\n",
    "can_hangout_with_me = amount_of_money >= 25 or is_a_friend\n",
    "print(can_hangout_with_me)"
   ]
  },
  {
   "cell_type": "code",
   "execution_count": 12,
   "id": "7dd1aa21-9667-417d-b2f5-00812d93aa82",
   "metadata": {},
   "outputs": [
    {
     "name": "stdout",
     "output_type": "stream",
     "text": [
      "True\n"
     ]
    }
   ],
   "source": [
    "person_age = 12\n",
    "is_old_enough = person_age >= 18\n",
    "\n",
    "must_leave = not is_old_enough\n",
    "print(must_leave)"
   ]
  },
  {
   "cell_type": "code",
   "execution_count": 14,
   "id": "b3b09fd8-d078-492d-b33b-e42498d06649",
   "metadata": {},
   "outputs": [],
   "source": [
    "settings_sound_on = True\n",
    "turn_sound_off = not settings_sound_on\n"
   ]
  },
  {
   "cell_type": "code",
   "execution_count": 15,
   "id": "5cc0793c-2dd8-4361-903d-2f34527ea20f",
   "metadata": {},
   "outputs": [
    {
     "name": "stdout",
     "output_type": "stream",
     "text": [
      "True\n"
     ]
    }
   ],
   "source": [
    "my_age = 17\n",
    "my_money = 7\n",
    "is_friend = True\n",
    "has_food = False\n",
    "\n",
    "can_watch_movie = not has_food and ((my_age >= 18 and my_money >= 15) or (is_friend and my_money >= 5))\n",
    "\n",
    "print(can_watch_movie)"
   ]
  },
  {
   "cell_type": "code",
   "execution_count": 16,
   "id": "55530373-0550-4274-80ee-79840ecd51d6",
   "metadata": {},
   "outputs": [
    {
     "name": "stdout",
     "output_type": "stream",
     "text": [
      "This person can watch the movie\n"
     ]
    }
   ],
   "source": [
    "person_money = 12\n",
    "\n",
    "if person_money >= 10:\n",
    "  print(\"This person can watch the movie\")"
   ]
  },
  {
   "cell_type": "code",
   "execution_count": 17,
   "id": "d9d219b7-3f05-43cf-a34d-04ad2fad3201",
   "metadata": {},
   "outputs": [
    {
     "name": "stdout",
     "output_type": "stream",
     "text": [
      "This person can watch the movie\n"
     ]
    }
   ],
   "source": [
    "person_money = 12\n",
    "\n",
    "if person_money >= 10:\n",
    "  print(\"This person can watch the movie\")"
   ]
  },
  {
   "cell_type": "code",
   "execution_count": 18,
   "id": "a8966990-3d97-4bf4-9233-af22a2ba3340",
   "metadata": {},
   "outputs": [
    {
     "name": "stdout",
     "output_type": "stream",
     "text": [
      "Sorry, but you don't have enough money\n"
     ]
    }
   ],
   "source": [
    "person_money = 8\n",
    "\n",
    "if person_money >= 10:\n",
    "  print(\"This person can watch the movie\")\n",
    "else:\n",
    "  print(\"Sorry, but you don't have enough money\")"
   ]
  },
  {
   "cell_type": "code",
   "execution_count": 19,
   "id": "940f5514-0870-47c5-8bab-e4ff1577103e",
   "metadata": {},
   "outputs": [
    {
     "name": "stdout",
     "output_type": "stream",
     "text": [
      "I can watch an R-rated movie\n"
     ]
    }
   ],
   "source": [
    "person_age = 18\n",
    "\n",
    "if person_age >= 18:\n",
    "  print(\"I can watch an R-rated movie\")\n",
    "elif person_age >= 13:\n",
    "  print(\"I can watch a PG13-rated movie\")\n",
    "else:\n",
    "  print(\"I can watch a G-rated movie\")"
   ]
  },
  {
   "cell_type": "code",
   "execution_count": 20,
   "id": "c761fc5a-6b43-4bee-bf43-de09a89d7462",
   "metadata": {},
   "outputs": [
    {
     "name": "stdout",
     "output_type": "stream",
     "text": [
      "I can watch a PG13-rated movie\n"
     ]
    }
   ],
   "source": [
    "person_age = 18\n",
    "\n",
    "if person_age >= 13:\n",
    "  print(\"I can watch a PG13-rated movie\")\n",
    "elif person_age >= 18:\n",
    "  print(\"I can watch an R-rated movie\")\n",
    "else:\n",
    "  print(\"I can watch a G-rated movie\")"
   ]
  },
  {
   "cell_type": "code",
   "execution_count": 21,
   "id": "3d47952e-7053-4661-85e9-37266c5dd7de",
   "metadata": {},
   "outputs": [
    {
     "name": "stdout",
     "output_type": "stream",
     "text": [
      "I can watch a G-rated movie\n"
     ]
    }
   ],
   "source": [
    "person_age = 5\n",
    "\n",
    "if person_age >= 18:\n",
    "  print(\"I can watch an R-rated movie\")\n",
    "elif person_age >= 13:\n",
    "  print(\"I can watch a PG13-rated movie\")\n",
    "else:\n",
    "  print(\"I can watch a G-rated movie\")"
   ]
  },
  {
   "cell_type": "code",
   "execution_count": 22,
   "id": "58f8c97f-f793-4241-9846-d18db375d366",
   "metadata": {},
   "outputs": [
    {
     "name": "stdout",
     "output_type": "stream",
     "text": [
      "I can watch a PG13-rated movie\n",
      "I can drive!\n"
     ]
    }
   ],
   "source": [
    "person_age = 16\n",
    "\n",
    "# first if/elif/else block\n",
    "if person_age >= 18:\n",
    "  print(\"I can watch an R-rated movie\")\n",
    "elif person_age >= 13:\n",
    "  print(\"I can watch a PG13-rated movie\")\n",
    "else:\n",
    "  print(\"I can watch a G-rated movie\")\n",
    "\n",
    "# second if/else block\n",
    "if person_age >= 16:\n",
    "  print(\"I can drive!\")\n",
    "else:\n",
    "  print(\"I need to walk\")"
   ]
  },
  {
   "cell_type": "code",
   "execution_count": 23,
   "id": "db48888e-9afe-4bbf-ae11-dbb540735730",
   "metadata": {},
   "outputs": [
    {
     "name": "stdout",
     "output_type": "stream",
     "text": [
      "I can watch an R-rated movie\n",
      "I can drive!\n"
     ]
    }
   ],
   "source": [
    "person_age = 18\n",
    "\n",
    "if person_age >= 18:\n",
    "  print(\"I can watch an R-rated movie\")\n",
    "  print(\"I can drive!\")\n",
    "elif person_age >= 16:\n",
    "  print(\"I can watch a PG13-rated movie\")\n",
    "  print(\"I can drive!\")\n",
    "else:\n",
    "  print(\"I need my mommy\")"
   ]
  },
  {
   "cell_type": "code",
   "execution_count": 24,
   "id": "d3b2bf67-d280-4fee-807d-938d49b354b6",
   "metadata": {},
   "outputs": [
    {
     "name": "stdout",
     "output_type": "stream",
     "text": [
      "Mom can take me to see a PG13-rated movie\n"
     ]
    }
   ],
   "source": [
    "person_age = 15\n",
    "has_car = False\n",
    "mom_can_drive = True\n",
    "outcome = \"\"\n",
    "\n",
    "if person_age >= 18 and has_car:\n",
    "  outcome = \"I can go and see an R-rated movie\"\n",
    "elif person_age >= 13 and mom_can_drive:\n",
    "  outcome = \"Mom can take me to see a PG13-rated movie\"\n",
    "else:\n",
    "  outcome = \"I'm stuck at home today\"\n",
    "\n",
    "print(outcome)"
   ]
  },
  {
   "cell_type": "code",
   "execution_count": 25,
   "id": "04e316f7-6d27-46ac-aa28-cbd333946368",
   "metadata": {},
   "outputs": [
    {
     "name": "stdout",
     "output_type": "stream",
     "text": [
      "November 11, 1991\n"
     ]
    }
   ],
   "source": [
    "day = \"11\"\n",
    "year = \"1991\"\n",
    "month = \"November\"\n",
    "\n",
    "my_birthday = month + \" \" + day + \", \" + year\n",
    "\n",
    "print(my_birthday)"
   ]
  },
  {
   "cell_type": "code",
   "execution_count": 26,
   "id": "efd7daa5-d04a-4e9d-922c-a09ea7ffca2f",
   "metadata": {},
   "outputs": [
    {
     "name": "stdout",
     "output_type": "stream",
     "text": [
      "HAPPY BIRTHDAY TO YOU\n"
     ]
    }
   ],
   "source": [
    "first = \"happy\"\n",
    "second = \"birthday\"\n",
    "third = \"to\"\n",
    "fourth = \"you\"\n",
    "\n",
    "final = \"happy birthday to you\"\n",
    "\n",
    "print(final.upper())"
   ]
  },
  {
   "cell_type": "code",
   "execution_count": 27,
   "id": "afc0b6d3-878c-43fb-9137-566752fedd92",
   "metadata": {},
   "outputs": [
    {
     "name": "stdout",
     "output_type": "stream",
     "text": [
      "Permitted with a parent\n"
     ]
    }
   ],
   "source": [
    "person_age = 15\n",
    "\n",
    "if person_age >= 10:\n",
    "  print(\"Permitted with a parent\")"
   ]
  },
  {
   "cell_type": "code",
   "execution_count": 28,
   "id": "ed13c95f-aa63-4755-b850-634894533826",
   "metadata": {},
   "outputs": [
    {
     "name": "stdout",
     "output_type": "stream",
     "text": [
      "Not permitted\n"
     ]
    }
   ],
   "source": [
    "person_age = 15\n",
    "\n",
    "if person_age >= 10:\n",
    "  print(\"Not permitted\")\n",
    "elif person_age >= 15:\n",
    "  print(\"Permitted with a parent\")\n",
    "else:\n",
    "  print(\"Permitted with anyone over 18\")"
   ]
  },
  {
   "cell_type": "code",
   "execution_count": 29,
   "id": "82231440-b603-4b9e-9880-76de070e8c26",
   "metadata": {},
   "outputs": [
    {
     "name": "stdout",
     "output_type": "stream",
     "text": [
      "Permitted with a parent\n"
     ]
    }
   ],
   "source": [
    "person_age = 15\n",
    "\n",
    "if person_age >= 15:\n",
    "  print(\"Permitted with a parent\")\n",
    "elif person_age >= 18:\n",
    "  print(\"Permitted with anyone over 18e\")\n",
    "else:\n",
    "  print(\" permitted to attend alone\")"
   ]
  },
  {
   "cell_type": "code",
   "execution_count": null,
   "id": "487f8a9a-1f7a-44c6-b008-1a69c672ebb8",
   "metadata": {},
   "outputs": [],
   "source": []
  }
 ],
 "metadata": {
  "kernelspec": {
   "display_name": "Python 3 (ipykernel)",
   "language": "python",
   "name": "python3"
  },
  "language_info": {
   "codemirror_mode": {
    "name": "ipython",
    "version": 3
   },
   "file_extension": ".py",
   "mimetype": "text/x-python",
   "name": "python",
   "nbconvert_exporter": "python",
   "pygments_lexer": "ipython3",
   "version": "3.10.4"
  }
 },
 "nbformat": 4,
 "nbformat_minor": 5
}
