{
 "cells": [
  {
   "cell_type": "code",
   "execution_count": 2,
   "id": "e3f06614-af27-41ce-82f7-2ae1c351ed57",
   "metadata": {},
   "outputs": [
    {
     "name": "stdout",
     "output_type": "stream",
     "text": [
      "Hello Samanta\n"
     ]
    }
   ],
   "source": [
    "print(\"Hello Samanta\")"
   ]
  },
  {
   "cell_type": "code",
   "execution_count": 3,
   "id": "62b032b0-d2c8-4a39-b352-ea6dc7ca87f5",
   "metadata": {},
   "outputs": [
    {
     "name": "stdout",
     "output_type": "stream",
     "text": [
      "Jamila\n",
      "20\n",
      "3.14\n",
      "[1, 2, 3, 4]\n"
     ]
    }
   ],
   "source": [
    "name, age = \"Jamila\", 20\n",
    "pi = 3.14\n",
    "number = [1, 2, 3, 4]\n",
    "print(name)\n",
    "print(age)\n",
    "print(pi)\n",
    "print(number)"
   ]
  },
  {
   "cell_type": "code",
   "execution_count": 11,
   "id": "56e6c518-3f98-4753-bbe9-6f515297df16",
   "metadata": {},
   "outputs": [
    {
     "name": "stdout",
     "output_type": "stream",
     "text": [
      "<class 'str'>\n",
      "<class 'int'>\n",
      "<class 'list'>\n",
      "<class 'float'>\n",
      "<class 'bool'>\n"
     ]
    }
   ],
   "source": [
    "brand = \"Amigoscode\"\n",
    "age = 2\n",
    "numbers = []\n",
    "pi = 3.14\n",
    "isAdult = True\n",
    "print(type(brand))\n",
    "print(type(age))\n",
    "print(type(numbers))\n",
    "print(type(pi))\n",
    "print(type(isAdult))"
   ]
  },
  {
   "cell_type": "code",
   "execution_count": null,
   "id": "1d2a9d15-8bf7-4ec0-bfa6-98f663d90f8b",
   "metadata": {},
   "outputs": [],
   "source": []
  }
 ],
 "metadata": {
  "kernelspec": {
   "display_name": "Python 3 (ipykernel)",
   "language": "python",
   "name": "python3"
  },
  "language_info": {
   "codemirror_mode": {
    "name": "ipython",
    "version": 3
   },
   "file_extension": ".py",
   "mimetype": "text/x-python",
   "name": "python",
   "nbconvert_exporter": "python",
   "pygments_lexer": "ipython3",
   "version": "3.10.4"
  }
 },
 "nbformat": 4,
 "nbformat_minor": 5
}
