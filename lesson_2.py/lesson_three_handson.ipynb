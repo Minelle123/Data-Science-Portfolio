{
 "cells": [
  {
   "cell_type": "code",
   "execution_count": 1,
   "id": "d784fafa-76e3-4bcc-a65d-69b71351dfa8",
   "metadata": {},
   "outputs": [],
   "source": [
    "my_message = \"Split these words for me\"\n",
    "split_at_spaces = my_message.split()"
   ]
  },
  {
   "cell_type": "code",
   "execution_count": 2,
   "id": "74cb3c4c-a11c-47c7-b6ae-8b66fc1d141a",
   "metadata": {},
   "outputs": [
    {
     "name": "stdout",
     "output_type": "stream",
     "text": [
      "['String', 3, 7.5, 'Hello world']\n"
     ]
    }
   ],
   "source": [
    "another_variable = \"Hello world\"\n",
    "my_list = [\"String\", 3, 7.5, another_variable]\n",
    "\n",
    "print(my_list)"
   ]
  },
  {
   "cell_type": "code",
   "execution_count": 3,
   "id": "572ae3ad-bc3f-4f1b-b56e-d173eda8bb79",
   "metadata": {},
   "outputs": [
    {
     "name": "stdout",
     "output_type": "stream",
     "text": [
      "['Earth', 'Mars', 'Saturn', 'Venus']\n"
     ]
    }
   ],
   "source": [
    "planets = ['Earth', 'Mars', 'Saturn', 'Venus']\n",
    "print(planets)"
   ]
  },
  {
   "cell_type": "code",
   "execution_count": 4,
   "id": "ba0335ae-ee7d-43f3-8479-d00bd5bf92a6",
   "metadata": {},
   "outputs": [
    {
     "name": "stdout",
     "output_type": "stream",
     "text": [
      "[1, 2, 3, 4, 5, 6, 7, 8, 9, 10]\n"
     ]
    }
   ],
   "source": [
    "numbers = [1, 2, 3, 4, 5, 6, 7, 8, 9, 10]\n",
    "print(numbers)"
   ]
  },
  {
   "cell_type": "code",
   "execution_count": 7,
   "id": "177acdb5-dd8c-4303-bf3b-6f985f1a155d",
   "metadata": {},
   "outputs": [
    {
     "name": "stdout",
     "output_type": "stream",
     "text": [
      "['a', 'b', 'c', 'd']\n"
     ]
    }
   ],
   "source": [
    "alphabets = [\"a\", \"b\",\"c\", \"d\",]\n",
    "print(alphabets)"
   ]
  },
  {
   "cell_type": "code",
   "execution_count": 8,
   "id": "6f754284-5b3b-4b69-b31d-249ba504594e",
   "metadata": {},
   "outputs": [
    {
     "name": "stdout",
     "output_type": "stream",
     "text": [
      "['Angela', 'Arlene', 'Diane', 'Samanta']\n"
     ]
    }
   ],
   "source": [
    "sisters = [\"Angela\", \"Arlene\", \"Diane\", \"Samanta\"]\n",
    "print(sisters)"
   ]
  },
  {
   "cell_type": "code",
   "execution_count": 9,
   "id": "a1ce8109-6638-481d-b6b4-e1fcaa566159",
   "metadata": {},
   "outputs": [
    {
     "name": "stdout",
     "output_type": "stream",
     "text": [
      "['Janelle', 'Nicole', 'Alyssa', 'Jaydia', 'Jennay', \"Ma'Loni\"]\n"
     ]
    }
   ],
   "source": [
    "nieces = [\"Janelle\", \"Nicole\", \"Alyssa\", \"Jaydia\", \"Jennay\", \"Ma'Loni\"]\n",
    "print(nieces)"
   ]
  },
  {
   "cell_type": "code",
   "execution_count": 10,
   "id": "e1db7cbb-30d2-4ad7-a715-61517aa3c5b6",
   "metadata": {},
   "outputs": [
    {
     "name": "stdout",
     "output_type": "stream",
     "text": [
      "['Charles', 'Travis', 'Marcus']\n"
     ]
    }
   ],
   "source": [
    "nephews = [\"Charles\", \"Travis\", \"Marcus\"]\n",
    "print(nephews)"
   ]
  },
  {
   "cell_type": "code",
   "execution_count": 11,
   "id": "05501ce4-bf33-409f-b160-2d2d9bfeedd2",
   "metadata": {},
   "outputs": [
    {
     "name": "stdout",
     "output_type": "stream",
     "text": [
      "['Earth', ['United States', 'Canada', 'Mexico'], [1, 2, 3]]\n"
     ]
    }
   ],
   "source": [
    "our_world = ['Earth', ['United States', 'Canada', 'Mexico'], [1, 2, 3]]\n",
    "print(our_world)"
   ]
  },
  {
   "cell_type": "code",
   "execution_count": 12,
   "id": "02f46273-074b-4877-9502-f5bc9fa2287c",
   "metadata": {},
   "outputs": [],
   "source": [
    "my_empty_list = []"
   ]
  },
  {
   "cell_type": "code",
   "execution_count": 13,
   "id": "8d3e08f3-0013-421f-a394-fd13865df190",
   "metadata": {},
   "outputs": [
    {
     "name": "stdout",
     "output_type": "stream",
     "text": [
      "('doctor', 'nurse', 'PA')\n"
     ]
    }
   ],
   "source": [
    "my_tuple = ('doctor', 'nurse', 'PA')\n",
    "print(my_tuple)"
   ]
  },
  {
   "cell_type": "code",
   "execution_count": 14,
   "id": "c87ec2da-b0ef-4bb6-9799-e7eaebb5bcb7",
   "metadata": {},
   "outputs": [],
   "source": [
    "empty_tuple = ()"
   ]
  },
  {
   "cell_type": "code",
   "execution_count": 15,
   "id": "64aa3905-507d-4ee7-a487-d5857012001b",
   "metadata": {},
   "outputs": [
    {
     "name": "stdout",
     "output_type": "stream",
     "text": [
      "('just me',)\n"
     ]
    }
   ],
   "source": [
    "one_item_tuple = ('just me',)\n",
    "print(one_item_tuple)"
   ]
  },
  {
   "cell_type": "code",
   "execution_count": 16,
   "id": "b09be411-fe28-4ade-9a5e-a1c1edd24dac",
   "metadata": {},
   "outputs": [],
   "source": [
    "# you've already seen a string tuple\n",
    "string_tuple = (\"this\", \"contains\", \"string\", \"values\")\n",
    "\n",
    "# you can, of course, create tuples with numbers\n",
    "number_tuple = (23, 23.5, 9, 144)\n",
    "\n",
    "# like lists, you can create tuples with a mix of types\n",
    "mixed_tuple = (\"Bob\", 33, \"Sally\", 29, \"Spike\", 8)"
   ]
  },
  {
   "cell_type": "code",
   "execution_count": 17,
   "id": "a8305970-29d2-4bc4-bbcc-fb1cea188fa6",
   "metadata": {},
   "outputs": [
    {
     "name": "stdout",
     "output_type": "stream",
     "text": [
      "4\n"
     ]
    }
   ],
   "source": [
    "colors_list = ['red', 'green', 'blue', 'yellow']\n",
    "num_colors = len(colors_list)\n",
    "print(num_colors)"
   ]
  },
  {
   "cell_type": "code",
   "execution_count": 18,
   "id": "553ae262-f350-4312-9496-7d81d2172088",
   "metadata": {},
   "outputs": [
    {
     "name": "stdout",
     "output_type": "stream",
     "text": [
      "blue\n"
     ]
    }
   ],
   "source": [
    "# print the third item of the list\n",
    "colors_list = ['red', 'green', 'blue', 'yellow']\n",
    "print(colors_list[2])"
   ]
  },
  {
   "cell_type": "code",
   "execution_count": 19,
   "id": "4161e789-3dda-4584-b3e8-8a7f1ef32ab3",
   "metadata": {},
   "outputs": [
    {
     "name": "stdout",
     "output_type": "stream",
     "text": [
      "33\n"
     ]
    }
   ],
   "source": [
    "# print the second item of the tuple\n",
    "numbers_tuple = (22, 33, 44, 55)\n",
    "print(numbers_tuple[1])"
   ]
  },
  {
   "cell_type": "code",
   "execution_count": 20,
   "id": "fa5ad31a-564c-480a-ade9-a619de5d1719",
   "metadata": {},
   "outputs": [
    {
     "name": "stdout",
     "output_type": "stream",
     "text": [
      "yellow\n",
      "55\n"
     ]
    }
   ],
   "source": [
    "# print the last item of the list\n",
    "colors_list = ['red', 'green', 'blue', 'yellow']\n",
    "print(colors_list[-1])\n",
    "\n",
    "# print the last item of the tuple\n",
    "numbers_tuple = (22, 33, 44, 55)\n",
    "print(numbers_tuple[-1])"
   ]
  },
  {
   "cell_type": "code",
   "execution_count": 21,
   "id": "4af96ab4-4329-4856-adfb-966b25c363f8",
   "metadata": {},
   "outputs": [
    {
     "name": "stdout",
     "output_type": "stream",
     "text": [
      "yellow\n",
      "blue\n",
      "green\n"
     ]
    }
   ],
   "source": [
    "colors_list = ['red', 'green', 'blue', 'yellow']\n",
    "\n",
    "# access the last item with index `-1`\n",
    "first_from_end = colors_list[-1]\n",
    "\n",
    "# access the next-to-last item with index `-2`\n",
    "second_from_end = colors_list[-2]\n",
    "\n",
    "# access the second from the last item with index `-3`\n",
    "third_from_end = colors_list[-3]\n",
    "\n",
    "print(first_from_end)\n",
    "print(second_from_end)\n",
    "print(third_from_end)"
   ]
  },
  {
   "cell_type": "code",
   "execution_count": 22,
   "id": "7f103cd5-b13b-4b5e-84d9-b1a82ce42446",
   "metadata": {},
   "outputs": [
    {
     "name": "stdout",
     "output_type": "stream",
     "text": [
      "['red', 'green', 'blue']\n",
      "['green', 'blue']\n"
     ]
    }
   ],
   "source": [
    "colors_list = ['red', 'green', 'blue', 'yellow']\n",
    "\n",
    "# get the first three items\n",
    "first_three_items = colors_list[0:3]\n",
    "\n",
    "# get the middle two items\n",
    "middle_two_items = colors_list[1:3]\n",
    "\n",
    "print(first_three_items)\n",
    "print(middle_two_items)"
   ]
  },
  {
   "cell_type": "code",
   "execution_count": 23,
   "id": "bf884c28-d61b-4a5c-9ebd-19011c241dec",
   "metadata": {},
   "outputs": [
    {
     "name": "stdout",
     "output_type": "stream",
     "text": [
      "['Sally', 'Robert', 'Mary', 'Steven']\n"
     ]
    }
   ],
   "source": [
    "# the starting list\n",
    "contacts = ['Sally', 'Bob', 'Mary', 'Steven']\n",
    "\n",
    "# Bob prefers to go by \"Robert\"\n",
    "# Bob is at index 1 in the list\n",
    "contacts[1] = \"Robert\"\n",
    "\n",
    "print(contacts)"
   ]
  },
  {
   "cell_type": "code",
   "execution_count": 24,
   "id": "50e6cf60-0c35-42e1-a79b-3cd1efb2cefb",
   "metadata": {},
   "outputs": [
    {
     "name": "stdout",
     "output_type": "stream",
     "text": [
      "['white', 'white', 'white', 'white']\n",
      "['red', 'green', 'blue', 'yellow']\n",
      "['red', 'green', 'blue', 'purple']\n"
     ]
    }
   ],
   "source": [
    "colors_list = ['white', 'white', 'white', 'white']\n",
    "print(colors_list)\n",
    "\n",
    "colors_list[0] = 'red'\n",
    "colors_list[1] = 'green'\n",
    "colors_list[2] = 'blue'\n",
    "colors_list[3] = 'yellow'\n",
    "print(colors_list)\n",
    "\n",
    "colors_list[-1] = 'purple'\n",
    "print(colors_list)"
   ]
  },
  {
   "cell_type": "code",
   "execution_count": 25,
   "id": "f6879be2-93c3-44f2-805a-6a2f74d8dc35",
   "metadata": {},
   "outputs": [
    {
     "name": "stdout",
     "output_type": "stream",
     "text": [
      "['Hello', 'there', 'Bob']\n",
      "['Hello', 'there', 'Bob', 'and', 'Sally']\n"
     ]
    }
   ],
   "source": [
    "my_string = \"Hello there Bob\"\n",
    "\n",
    "# splits string into list using space as the delimiter/separator\n",
    "my_string_items = my_string.split()\n",
    "print(my_string_items)\n",
    "\n",
    "# but we forgot Sally!\n",
    "# add 'and' and 'Sally' to the list\n",
    "my_string_items.append(\"and\")\n",
    "my_string_items.append(\"Sally\")\n",
    "\n",
    "print(my_string_items)"
   ]
  },
  {
   "cell_type": "code",
   "execution_count": 26,
   "id": "70694571-4fb8-4f8b-82d6-7dd3f6704e58",
   "metadata": {},
   "outputs": [
    {
     "name": "stdout",
     "output_type": "stream",
     "text": [
      "[1, 2, 3, 4, 5, 6, 'seven']\n"
     ]
    }
   ],
   "source": [
    "numbers = [1, 2, 3, 4, 5]\n",
    "\n",
    "# add 6 to the end\n",
    "numbers.append(6)\n",
    "\n",
    "# add 'seven' to the end\n",
    "numbers.append('seven')\n",
    "print(numbers)"
   ]
  },
  {
   "cell_type": "code",
   "execution_count": 27,
   "id": "f11abb99-6cf1-47e8-8164-3ec0e0866269",
   "metadata": {},
   "outputs": [
    {
     "name": "stdout",
     "output_type": "stream",
     "text": [
      "[1, 2, 4]\n"
     ]
    }
   ],
   "source": [
    "numbers = [1, 2, 3, 4]\n",
    "\n",
    "# delete item at index 2\n",
    "del numbers[2]\n",
    "print(numbers)"
   ]
  },
  {
   "cell_type": "code",
   "execution_count": 28,
   "id": "e7350768-e9c4-45df-9ad1-f1d2e97ef31b",
   "metadata": {},
   "outputs": [
    {
     "name": "stdout",
     "output_type": "stream",
     "text": [
      "[2, 4]\n",
      "[2]\n"
     ]
    }
   ],
   "source": [
    "# delete the first item\n",
    "del numbers[0]\n",
    "print(numbers)\n",
    "\n",
    "# delete the last item\n",
    "del numbers[-1]\n",
    "print(numbers)"
   ]
  },
  {
   "cell_type": "code",
   "execution_count": 29,
   "id": "61aa3bc8-a7b7-465b-beff-a58bba322006",
   "metadata": {},
   "outputs": [
    {
     "name": "stdout",
     "output_type": "stream",
     "text": [
      "['red', 'blue', 'green']\n"
     ]
    }
   ],
   "source": [
    "colors = ['red', 'blue', 'yellow', 'green']\n",
    "colors.remove('yellow')\n",
    "print(colors)"
   ]
  },
  {
   "cell_type": "code",
   "execution_count": 30,
   "id": "a3b42f3e-8944-4d87-b05b-59834c5a693f",
   "metadata": {},
   "outputs": [
    {
     "name": "stdout",
     "output_type": "stream",
     "text": [
      "['blue', 'red', 'green']\n"
     ]
    }
   ],
   "source": [
    "colors = ['red', 'blue', 'red', 'green']\n",
    "colors.remove('red')\n",
    "print(colors)"
   ]
  },
  {
   "cell_type": "code",
   "execution_count": 31,
   "id": "0bffc808-9616-4196-9abe-82e6658f533d",
   "metadata": {},
   "outputs": [
    {
     "name": "stdout",
     "output_type": "stream",
     "text": [
      "['Hello', 'there', 'Bob']\n",
      "['Hello', 'there', 'Bob', 'and', 'Sally']\n"
     ]
    }
   ],
   "source": [
    "my_string = \"Hello there Bob\"\n",
    "\n",
    "# splits string into list using space as the delimiter/separator\n",
    "my_string_items = my_string.split()\n",
    "print(my_string_items)\n",
    "\n",
    "# but we forgot Sally!\n",
    "# add 'and' and 'Sally' to the list\n",
    "my_string_items.append(\"and\")\n",
    "my_string_items.append(\"Sally\")\n",
    "\n",
    "print(my_string_items)"
   ]
  },
  {
   "cell_type": "code",
   "execution_count": 32,
   "id": "55b118de-cc1c-4414-b3c2-407337f489bb",
   "metadata": {},
   "outputs": [
    {
     "name": "stdout",
     "output_type": "stream",
     "text": [
      "['Sally', 'Robert', 'Mary', 'Steven']\n"
     ]
    }
   ],
   "source": [
    "# the starting list\n",
    "contacts = ['Sally', 'Bob', 'Mary', 'Steven']\n",
    "\n",
    "# Bob prefers to go by \"Robert\"\n",
    "# Bob is at index 1 in the list\n",
    "contacts[1] = \"Robert\"\n",
    "\n",
    "print(contacts)"
   ]
  },
  {
   "cell_type": "code",
   "execution_count": 37,
   "id": "519c4849-8db0-462a-a4ed-0399b6287e91",
   "metadata": {},
   "outputs": [
    {
     "name": "stdout",
     "output_type": "stream",
     "text": [
      "['green', 'white', 'green', 'yellow', 'yellw', 'white']\n"
     ]
    }
   ],
   "source": [
    "colors = ['green', 'white', 'green', 'yellw', 'yellw', 'white']\n",
    "colors[3] = \"yellow\"\n",
    "print(colors)"
   ]
  },
  {
   "cell_type": "code",
   "execution_count": 1,
   "id": "59cda2a6-e549-4d72-bbf2-89c93ef225af",
   "metadata": {},
   "outputs": [
    {
     "name": "stdout",
     "output_type": "stream",
     "text": [
      "[1, 2, 3, 4, 5, 6, 7, 8, 9, 10]\n"
     ]
    }
   ],
   "source": [
    "numbers = list(range(1, 11))\n",
    "print(numbers)"
   ]
  },
  {
   "cell_type": "code",
   "execution_count": 2,
   "id": "4d73869d-0af2-4277-b5b9-58b70c5cf3e9",
   "metadata": {},
   "outputs": [],
   "source": [
    "the_range = range(1, 11)\n",
    "numbers = list(the_range)"
   ]
  },
  {
   "cell_type": "code",
   "execution_count": 3,
   "id": "263f0b26-fc3b-461b-867a-e429a96cfafb",
   "metadata": {},
   "outputs": [
    {
     "name": "stdout",
     "output_type": "stream",
     "text": [
      "[0, 1, 2, 3, 4]\n"
     ]
    }
   ],
   "source": [
    "no_start_range = range(5)\n",
    "numbers = list(no_start_range)\n",
    "print(numbers)"
   ]
  },
  {
   "cell_type": "code",
   "execution_count": 4,
   "id": "ba5a02c1-ff50-44c2-9acd-4a3936e87949",
   "metadata": {},
   "outputs": [
    {
     "name": "stdout",
     "output_type": "stream",
     "text": [
      "[2, 4, 6, 8, 10]\n"
     ]
    }
   ],
   "source": [
    "inc_by_2_range = range(2, 11, 2)\n",
    "numbers = list(inc_by_2_range)\n",
    "print(numbers)"
   ]
  },
  {
   "cell_type": "code",
   "execution_count": 5,
   "id": "5c641064-e2e1-44b4-bb7e-0650cfc3d20e",
   "metadata": {},
   "outputs": [
    {
     "name": "stdout",
     "output_type": "stream",
     "text": [
      "[0, 10, 20, 30, 40, 50, 60, 70, 80, 90, 100]\n"
     ]
    }
   ],
   "source": [
    "inc_by_10_range = range(0, 101, 10)\n",
    "numbers = list(inc_by_10_range)\n",
    "print(numbers)"
   ]
  },
  {
   "cell_type": "code",
   "execution_count": 6,
   "id": "08838070-3001-4a62-9e28-40bc973ed68f",
   "metadata": {},
   "outputs": [
    {
     "name": "stdout",
     "output_type": "stream",
     "text": [
      "[1, 2, 3, 6, 9, 10]\n",
      "['bird', 'cat', 'dog']\n"
     ]
    }
   ],
   "source": [
    "numbers = [2, 6, 3, 9, 1, 10]\n",
    "strings = ['dog', 'cat', 'bird']\n",
    "\n",
    "#sort numerically\n",
    "numbers.sort()\n",
    "\n",
    "# sort alphabetically\n",
    "strings.sort()\n",
    "\n",
    "print(numbers)\n",
    "print(strings)"
   ]
  },
  {
   "cell_type": "code",
   "execution_count": 7,
   "id": "09eebfb6-1d92-40b6-83b0-66a1d83c0a64",
   "metadata": {},
   "outputs": [
    {
     "name": "stdout",
     "output_type": "stream",
     "text": [
      "[10, 9, 6, 3, 2, 1]\n"
     ]
    }
   ],
   "source": [
    "numbers = [2, 6, 3, 9, 1, 10]\n",
    "numbers.sort(reverse=True)\n",
    "print(numbers)"
   ]
  },
  {
   "cell_type": "code",
   "execution_count": 8,
   "id": "3644286c-7c7b-4a22-9468-1fb9abc21615",
   "metadata": {},
   "outputs": [
    {
     "name": "stdout",
     "output_type": "stream",
     "text": [
      "This is the original set of numbers: \n",
      "[2, 6, 3, 9, 1, 10]\n",
      "This is the sorted set of numbers: \n",
      "[1, 2, 3, 6, 9, 10]\n",
      "This is the original set of numbers again: \n",
      "[2, 6, 3, 9, 1, 10]\n"
     ]
    }
   ],
   "source": [
    "numbers = [2, 6, 3, 9, 1, 10]\n",
    "\n",
    "print(\"This is the original set of numbers: \")\n",
    "print(numbers)\n",
    "\n",
    "print(\"This is the sorted set of numbers: \")\n",
    "print(sorted(numbers))\n",
    "\n",
    "print(\"This is the original set of numbers again: \")\n",
    "print(numbers)"
   ]
  },
  {
   "cell_type": "code",
   "execution_count": 9,
   "id": "15da39d7-0284-4528-a8a3-068689282956",
   "metadata": {},
   "outputs": [
    {
     "name": "stdout",
     "output_type": "stream",
     "text": [
      "['USA', 'Canada', 'England', 'Ireland']\n"
     ]
    }
   ],
   "source": [
    "countries = ['USA', 'Canada', 'England', 'Ireland']\n",
    "print(countries)"
   ]
  },
  {
   "cell_type": "code",
   "execution_count": 10,
   "id": "fe7a9c80-b0f3-4015-b273-ef884693ff5f",
   "metadata": {},
   "outputs": [
    {
     "name": "stdout",
     "output_type": "stream",
     "text": [
      "USA\n",
      "Canada\n",
      "England\n",
      "Ireland\n"
     ]
    }
   ],
   "source": [
    "countries = ['USA', 'Canada', 'England', 'Ireland']\n",
    "\n",
    "# loop through list of countries using `for` loop\n",
    "for country in countries:\n",
    "    print(country)"
   ]
  },
  {
   "cell_type": "code",
   "execution_count": 11,
   "id": "06283c0e-dbf0-454d-abcc-84fb779f0c2c",
   "metadata": {},
   "outputs": [
    {
     "name": "stdout",
     "output_type": "stream",
     "text": [
      "Ignoring the odd number:  1\n",
      "Ignoring the odd number:  3\n",
      "Ignoring the odd number:  5\n",
      "[2, 4]\n"
     ]
    }
   ],
   "source": [
    "# 1. a list of numbers from 1-5\n",
    "all_numbers = [1, 2, 3, 4, 5]\n",
    "\n",
    "# 2. an empty list that will store even numbers\n",
    "even_numbers = []\n",
    "\n",
    "# 3. loop through `all_numbers` and add the even\n",
    "# numbers to the `even_numbers` list\n",
    "for the_number in all_numbers:\n",
    "    # 4. if the number is even, add to `even_numbers`\n",
    "    if the_number % 2 == 0:\n",
    "        even_numbers.append(the_number)\n",
    "    else:\n",
    "        print(\"Ignoring the odd number: \", the_number)\n",
    "\n",
    "# 5. print out `even_numbers`\n",
    "print(even_numbers)"
   ]
  },
  {
   "cell_type": "code",
   "execution_count": 12,
   "id": "4cef1f5a-e6f3-4f08-884e-baaa0ea6f502",
   "metadata": {},
   "outputs": [
    {
     "name": "stdout",
     "output_type": "stream",
     "text": [
      "1\n",
      "2\n",
      "3\n",
      "4\n",
      "5\n"
     ]
    }
   ],
   "source": [
    "a_number = 1\n",
    "while a_number <= 5:\n",
    "  print(a_number)\n",
    "  a_number += 1"
   ]
  },
  {
   "cell_type": "code",
   "execution_count": 13,
   "id": "54402e52-2476-4746-b0f1-02774f8640df",
   "metadata": {},
   "outputs": [
    {
     "name": "stdout",
     "output_type": "stream",
     "text": [
      "Ignoring the odd number:  1\n",
      "Ignoring the odd number:  3\n",
      "Ignoring the odd number:  5\n",
      "[2, 4]\n"
     ]
    }
   ],
   "source": [
    "all_numbers = [1, 2, 3, 4, 5]\n",
    "even_numbers = []\n",
    "\n",
    "# use a while loop to iterate over the list\n",
    "current_position = 0\n",
    "while current_position < len(all_numbers):\n",
    "    the_number = all_numbers[current_position]\n",
    "    if the_number % 2 == 0:\n",
    "        even_numbers.append(the_number)\n",
    "    else:\n",
    "        print(\"Ignoring the odd number: \", the_number)\n",
    "    current_position += 1\n",
    "\n",
    "print(even_numbers)"
   ]
  },
  {
   "cell_type": "code",
   "execution_count": 14,
   "id": "543f60b5-c762-478b-9b6d-52370f094b66",
   "metadata": {},
   "outputs": [
    {
     "name": "stdout",
     "output_type": "stream",
     "text": [
      "Current letter: S\n",
      "Current letter: a\n",
      "The loop is over.\n"
     ]
    }
   ],
   "source": [
    "for letter in \"Sally\":\n",
    "  if letter == \"l\":\n",
    "    break\n",
    "  print(\"Current letter: \" + letter)\n",
    "\n",
    "print(\"The loop is over.\")"
   ]
  },
  {
   "cell_type": "code",
   "execution_count": 15,
   "id": "5be45b78-6941-4159-95a5-74d28218a084",
   "metadata": {},
   "outputs": [
    {
     "name": "stdout",
     "output_type": "stream",
     "text": [
      "Current number value is: 7\n",
      "Current number value is: 6\n",
      "Current number value is: 5\n",
      "The loop is over.\n"
     ]
    }
   ],
   "source": [
    "a_number = 7\n",
    "\n",
    "while a_number > 0:\n",
    "    print(\"Current number value is:\", a_number)\n",
    "    a_number -= 1\n",
    "    if a_number == 4:\n",
    "        break\n",
    "\n",
    "print(\"The loop is over.\")"
   ]
  },
  {
   "cell_type": "code",
   "execution_count": 16,
   "id": "ba11b6f0-5a15-48a1-84fb-3efd79ac6c90",
   "metadata": {},
   "outputs": [
    {
     "name": "stdout",
     "output_type": "stream",
     "text": [
      "Found Mary!\n"
     ]
    }
   ],
   "source": [
    "everyone = ['Sally', 'Billy', 'Mary', 'Bob']\n",
    "looking_for = 'Mary'\n",
    "\n",
    "for person in everyone:\n",
    "    if person != looking_for:\n",
    "        continue\n",
    "    print(\"Found \" + looking_for + \"!\")"
   ]
  },
  {
   "cell_type": "code",
   "execution_count": 17,
   "id": "fe813d62-74ab-4fe1-b7c4-a789650bac4d",
   "metadata": {},
   "outputs": [
    {
     "name": "stdout",
     "output_type": "stream",
     "text": [
      "Where is Kurt today?\n",
      "Where is David today?\n",
      "Where is Katherine today?\n"
     ]
    }
   ],
   "source": [
    "list_of_names = ['Kurt', 'David', 'Katherine']\n",
    "\n",
    "for name in list_of_names:\n",
    "    print(\"Where is \" + name + \" today?\")\n"
   ]
  },
  {
   "cell_type": "code",
   "execution_count": 18,
   "id": "b739c01a-6720-4a1a-9109-6fc38b6807bf",
   "metadata": {},
   "outputs": [
    {
     "name": "stdout",
     "output_type": "stream",
     "text": [
      "Toyota\n",
      "Rose\n",
      "Elephant\n",
      "Lion\n"
     ]
    }
   ],
   "source": [
    "my_favorite_cars = [\"BMW\", \"Toyota\", \"Mazda\"]\n",
    "my_favorite_flowers = [\"Rose\", \"Sunflower\", \"Tulip\", \"Daisy\"]\n",
    "my_favorite_animals = [\"Cat\", \"Dog\", \"Giraffe\", \"Elephant\", \"Lion\"]\n",
    "\n",
    "my_favorite_things = my_favorite_cars + my_favorite_flowers + my_favorite_animals\n",
    "\n",
    "for thing in my_favorite_things:\n",
    "    if len(thing) % 2 == 0:\n",
    "        print(thing)"
   ]
  },
  {
   "cell_type": "code",
   "execution_count": 19,
   "id": "3b28f42e-cf70-4533-b027-8c04c60444d2",
   "metadata": {},
   "outputs": [
    {
     "name": "stdout",
     "output_type": "stream",
     "text": [
      "1\n",
      "2\n",
      "Zip\n",
      "4\n",
      "Zap\n",
      "Zip\n",
      "7\n",
      "8\n",
      "Zip\n",
      "Zap\n",
      "11\n",
      "Zip\n",
      "13\n",
      "14\n",
      "ZipZap\n",
      "16\n",
      "17\n",
      "Zip\n",
      "19\n",
      "Zap\n"
     ]
    }
   ],
   "source": [
    "number_range = [1, 2, 3, 4, 5, 6, 7, 8, 9, 10, 11, 12, 13, 14, 15, 16, 17, 18, 19, 20]\n",
    "\n",
    "for number in number_range:\n",
    "    if number % 3 == 0 and number % 5 == 0:\n",
    "        print('ZipZap')\n",
    "    elif number % 3 == 0:\n",
    "        print('Zip')\n",
    "    elif number % 5 == 0:\n",
    "        print('Zap')\n",
    "    else:\n",
    "        print(number)"
   ]
  },
  {
   "cell_type": "code",
   "execution_count": null,
   "id": "e2424fa4-796b-460f-8616-8edb43c6440b",
   "metadata": {},
   "outputs": [],
   "source": []
  }
 ],
 "metadata": {
  "kernelspec": {
   "display_name": "Python 3 (ipykernel)",
   "language": "python",
   "name": "python3"
  },
  "language_info": {
   "codemirror_mode": {
    "name": "ipython",
    "version": 3
   },
   "file_extension": ".py",
   "mimetype": "text/x-python",
   "name": "python",
   "nbconvert_exporter": "python",
   "pygments_lexer": "ipython3",
   "version": "3.10.4"
  }
 },
 "nbformat": 4,
 "nbformat_minor": 5
}
