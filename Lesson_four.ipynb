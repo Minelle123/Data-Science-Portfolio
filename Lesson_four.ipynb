{
 "cells": [
  {
   "cell_type": "code",
   "execution_count": 1,
   "id": "4ef95c0f-584f-4cf4-b1aa-cce01bb1a085",
   "metadata": {},
   "outputs": [
    {
     "name": "stdout",
     "output_type": "stream",
     "text": [
      "{'name': 'john', 'age': 19, 'hometown': 'Phoenix'}\n"
     ]
    }
   ],
   "source": [
    "new_dict = dict(name='john' , age=19, hometown='Phoenix')\n",
    "print(new_dict)"
   ]
  },
  {
   "cell_type": "code",
   "execution_count": 3,
   "id": "a91dbd87-248e-4bac-8cd1-78c133b8d554",
   "metadata": {},
   "outputs": [
    {
     "name": "stdout",
     "output_type": "stream",
     "text": [
      "{1: 'John', 2: 'Andrew'}\n"
     ]
    }
   ],
   "source": [
    "dictionary = dict([(1, 'John'), (2, \"Andrew\")])\n",
    "print(dictionary)"
   ]
  },
  {
   "cell_type": "code",
   "execution_count": 5,
   "id": "df10d0d5-908c-4a1d-8654-020251464821",
   "metadata": {},
   "outputs": [
    {
     "name": "stdout",
     "output_type": "stream",
     "text": [
      "{'name': 'Angela', 'age': 60, 'hometown': 'Basseterre'}\n"
     ]
    }
   ],
   "source": [
    "oldest_sister = dict(name='Angela', age=60, hometown='Basseterre')\n",
    "print(oldest_sister)               "
   ]
  },
  {
   "cell_type": "code",
   "execution_count": 6,
   "id": "80ddc9b9-514f-4925-a942-1aa9f06aa96b",
   "metadata": {},
   "outputs": [
    {
     "name": "stdout",
     "output_type": "stream",
     "text": [
      "{'name': 'Alice', 'age': 53, 'hometown': 'Basseterre'}\n"
     ]
    }
   ],
   "source": [
    "second_oldest = dict(name='Alice', age=53, hometown='Basseterre')\n",
    "print(second_oldest)"
   ]
  },
  {
   "cell_type": "code",
   "execution_count": 8,
   "id": "aecb94f7-374c-42a3-a020-a9208cdeec2e",
   "metadata": {},
   "outputs": [
    {
     "name": "stdout",
     "output_type": "stream",
     "text": [
      "{'name': 'Wanda', 'age': 52, 'hometown': 'Basseterre'}\n"
     ]
    }
   ],
   "source": [
    "third_oldest = dict(name='Wanda', age=52, hometown='Basseterre')\n",
    "print(third_oldest)"
   ]
  },
  {
   "cell_type": "code",
   "execution_count": 9,
   "id": "acf212d5-660c-4d50-863b-f13a40bb5f43",
   "metadata": {},
   "outputs": [
    {
     "name": "stdout",
     "output_type": "stream",
     "text": [
      "{'name': 'Samanta', 'age': 34, 'hometown': 'Rio Piedras'}\n"
     ]
    }
   ],
   "source": [
    "youngest = dict(name='Samanta', age=34, hometown='Rio Piedras')\n",
    "print(youngest)"
   ]
  },
  {
   "cell_type": "code",
   "execution_count": 11,
   "id": "3ef69bc4-4c20-4adc-be1d-024a08e759c8",
   "metadata": {},
   "outputs": [
    {
     "name": "stdout",
     "output_type": "stream",
     "text": [
      "{1: 'Angela', 2: 'Alice', 3: 'Wanda', 4: 'Samanta'}\n"
     ]
    }
   ],
   "source": [
    "sisters = dict([(1, 'Angela'), (2, 'Alice'), (3, 'Wanda'), (4, 'Samanta')])\n",
    "print(sisters)"
   ]
  },
  {
   "cell_type": "code",
   "execution_count": 13,
   "id": "6caab925-944a-47b7-95da-cadae692cf04",
   "metadata": {},
   "outputs": [
    {
     "ename": "NameError",
     "evalue": "name 'favotite_sister' is not defined",
     "output_type": "error",
     "traceback": [
      "\u001b[1;31m---------------------------------------------------------------------------\u001b[0m",
      "\u001b[1;31mNameError\u001b[0m                                 Traceback (most recent call last)",
      "Input \u001b[1;32mIn [13]\u001b[0m, in \u001b[0;36m<cell line: 7>\u001b[1;34m()\u001b[0m\n\u001b[0;32m      1\u001b[0m favorite_sister \u001b[38;5;241m=\u001b[39m {\n\u001b[0;32m      2\u001b[0m \u001b[38;5;124m'\u001b[39m\u001b[38;5;124mfirst_name\u001b[39m\u001b[38;5;124m'\u001b[39m: \u001b[38;5;124m'\u001b[39m\u001b[38;5;124mAlice\u001b[39m\u001b[38;5;124m'\u001b[39m,\n\u001b[0;32m      3\u001b[0m \u001b[38;5;124m'\u001b[39m\u001b[38;5;124mlast_name\u001b[39m\u001b[38;5;124m'\u001b[39m: \u001b[38;5;124m'\u001b[39m\u001b[38;5;124mFrancis\u001b[39m\u001b[38;5;124m'\u001b[39m,\n\u001b[0;32m      4\u001b[0m \u001b[38;5;124m'\u001b[39m\u001b[38;5;124mphone_number\u001b[39m\u001b[38;5;124m'\u001b[39m: \u001b[38;5;124m'\u001b[39m\u001b[38;5;124m(869)123-4567\u001b[39m\u001b[38;5;124m'\u001b[39m,\n\u001b[0;32m      5\u001b[0m \u001b[38;5;124m'\u001b[39m\u001b[38;5;124mcurrent_location\u001b[39m\u001b[38;5;124m'\u001b[39m: \u001b[38;5;124m'\u001b[39m\u001b[38;5;124mSt. Kitts\u001b[39m\u001b[38;5;124m'\u001b[39m\n\u001b[0;32m      6\u001b[0m }\n\u001b[1;32m----> 7\u001b[0m \u001b[38;5;28mprint\u001b[39m(\u001b[43mfavotite_sister\u001b[49m)\n",
      "\u001b[1;31mNameError\u001b[0m: name 'favotite_sister' is not defined"
     ]
    }
   ],
   "source": [
    "favorite_sister = {\n",
    "'first_name': 'Alice',\n",
    "'last_name': 'Francis',\n",
    "'phone_number': '(869)123-4567',\n",
    "'current_location': 'St. Kitts'\n",
    "}\n",
    "print(favotite_sister)"
   ]
  },
  {
   "cell_type": "code",
   "execution_count": 14,
   "id": "a0fb8b98-d0a1-4856-a9b7-5325db2dc8d9",
   "metadata": {},
   "outputs": [],
   "source": [
    "contact = {\n",
    "    'first_name': 'Henry',\n",
    "    'last_name': 'Poldark',\n",
    "    'phone_number': '(123)-456-7890',\n",
    "    'street': 'N 90th St',\n",
    "    'city': 'Scottsdale',\n",
    "    'state': 'Arizona',\n",
    "    'zip_code': '85258'\n",
    "}"
   ]
  },
  {
   "cell_type": "code",
   "execution_count": 15,
   "id": "7e007be7-48bd-498c-b67c-85b4b3842065",
   "metadata": {},
   "outputs": [
    {
     "name": "stdout",
     "output_type": "stream",
     "text": [
      "Andrew\n",
      "29\n"
     ]
    }
   ],
   "source": [
    "person = {'name': 'Andrew', 'age': 29, 'city': 'Scottsdale', 'state': 'AZ'}\n",
    "print(person['name'])\n",
    "print(person['age'])"
   ]
  },
  {
   "cell_type": "code",
   "execution_count": 16,
   "id": "5f1925f3-0207-4af7-8aa9-6da56151affe",
   "metadata": {},
   "outputs": [
    {
     "name": "stdout",
     "output_type": "stream",
     "text": [
      "dict_keys(['name', 'program', 'id'])\n"
     ]
    }
   ],
   "source": [
    "student = {'name': 'Andrew', 'program': 'Software Development', 'id': 110272}\n",
    "the_keys = student.keys()\n",
    "print(the_keys)"
   ]
  },
  {
   "cell_type": "code",
   "execution_count": 17,
   "id": "f3893eec-99b0-4133-a143-e40dce640955",
   "metadata": {},
   "outputs": [
    {
     "name": "stdout",
     "output_type": "stream",
     "text": [
      "dict_values(['Andrew', 'Software Development', 110272])\n"
     ]
    }
   ],
   "source": [
    "student = {'name': 'Andrew', 'program': 'Software Development', 'id': 110272}\n",
    "values = student.values()\n",
    "print(values)"
   ]
  },
  {
   "cell_type": "code",
   "execution_count": 18,
   "id": "fcdeb6e1-0913-4988-958b-5ac4557aff36",
   "metadata": {},
   "outputs": [
    {
     "name": "stdout",
     "output_type": "stream",
     "text": [
      "dict_items([('name', 'Andrew'), ('program', 'Software Development'), ('id', 110272)])\n"
     ]
    }
   ],
   "source": [
    "student = {'name': 'Andrew', 'program': 'Software Development', 'id': 110272}\n",
    "print(student.items())"
   ]
  },
  {
   "cell_type": "code",
   "execution_count": 19,
   "id": "e1159c34-e5dd-4155-ba74-d5ea9e513c30",
   "metadata": {},
   "outputs": [
    {
     "name": "stdout",
     "output_type": "stream",
     "text": [
      "Name :  Andrew\n",
      "Occupation :  Software Engineer\n",
      "Salary :  None\n",
      "Address :  I live in a box\n"
     ]
    }
   ],
   "source": [
    "contact = {'name': 'Andrew', 'occupation': 'Software Engineer'}\n",
    "\n",
    "print(\"Name : \", contact.get('name'))\n",
    "print(\"Occupation : \", contact.get('occupation'))\n",
    "print(\"Salary : \", contact.get('salary'))\n",
    "print(\"Address : \", contact.get('address', \"I live in a box\"))"
   ]
  },
  {
   "cell_type": "code",
   "execution_count": 1,
   "id": "8d01fe3f-df8a-4d5e-8e7c-090a594aebf0",
   "metadata": {},
   "outputs": [],
   "source": [
    "address = {'state': 'AZ', 'city': 'Scottsdale'}\n",
    "address['street'] = 'N 90th St'"
   ]
  },
  {
   "cell_type": "code",
   "execution_count": 2,
   "id": "d4bb9343-5d6e-4e3b-a5f9-a132e313e7ac",
   "metadata": {},
   "outputs": [],
   "source": [
    "address = {'state': 'AZ', 'city': 'Scottsdale', 'street': 'N 90th St'}\n",
    "\n",
    "address['state'] = 'Arizona'"
   ]
  },
  {
   "cell_type": "code",
   "execution_count": 3,
   "id": "d5a6419e-7780-4125-8892-7944f18412d5",
   "metadata": {},
   "outputs": [
    {
     "name": "stdout",
     "output_type": "stream",
     "text": [
      "{'first_name': 'Andrew', 'last_name': 'Stefanik', 'street': 'N 90th St', 'city': 'Scottsdale', 'state': 'Arizona', 'zip_code': '85258'}\n"
     ]
    }
   ],
   "source": [
    "# the contact dictionary\n",
    "contact = {\n",
    "    'first_name': 'Andrew',\n",
    "    'last_name': 'Stefanik',\n",
    "    'phone_number': '(123)-456-7890',\n",
    "    'street': 'N 90th St',\n",
    "    'city': 'Scottsdale',\n",
    "    'state': 'Arizona',\n",
    "    'zip_code': '85258'\n",
    "}\n",
    "\n",
    "# remove the `phone_number` from `contact`\n",
    "del contact['phone_number']\n",
    "\n",
    "print(contact)"
   ]
  },
  {
   "cell_type": "code",
   "execution_count": 4,
   "id": "55d8007e-c062-4432-832f-371d90a41cf8",
   "metadata": {},
   "outputs": [],
   "source": [
    "contact = {\n",
    "    'first_name': 'Andrew',\n",
    "    'last_name': 'Stefanik',\n",
    "}\n",
    "\n",
    "# deletes the entire dictionary\n",
    "del contact"
   ]
  },
  {
   "cell_type": "code",
   "execution_count": 5,
   "id": "8b0587e0-c9e5-4522-b05f-1187e96c79d8",
   "metadata": {},
   "outputs": [
    {
     "name": "stdout",
     "output_type": "stream",
     "text": [
      "Key = name \tValue = Andrew\n",
      "Key = email \tValue = andrew@email.com\n",
      "Key = username \tValue = andrewUser\n"
     ]
    }
   ],
   "source": [
    "user = {'name': 'Andrew', 'email': 'andrew@email.com', 'username': 'andrewUser'}\n",
    "\n",
    "for key, value in user.items():\n",
    "    print(\"Key =\", key, \"\\tValue =\", value)"
   ]
  },
  {
   "cell_type": "code",
   "execution_count": 6,
   "id": "93eee40a-5669-4301-8173-40a9e186030e",
   "metadata": {},
   "outputs": [
    {
     "name": "stdout",
     "output_type": "stream",
     "text": [
      "Key = name \tValue = Andrew\n",
      "Key = email \tValue = andrew@email.com\n",
      "Key = username \tValue = andrewUser\n"
     ]
    }
   ],
   "source": [
    "user = {'name': 'Andrew', 'email': 'andrew@email.com', 'username': 'andrewUser'}\n",
    "\n",
    "for key in user.keys():\n",
    "    print(\"Key =\", key, \"\\tValue =\", user[key])\n"
   ]
  },
  {
   "cell_type": "code",
   "execution_count": 7,
   "id": "89a21cd9-e533-4704-b376-ac204d5ec7f1",
   "metadata": {},
   "outputs": [
    {
     "name": "stdout",
     "output_type": "stream",
     "text": [
      "Value = Andrew\n",
      "Value = andrew@email.com\n",
      "Value = andrewUser\n"
     ]
    }
   ],
   "source": [
    "user = {'name': 'Andrew', 'email': 'andrew@email.com', 'username': 'andrewUser'}\n",
    "\n",
    "for value in user.values():\n",
    "    print(\"Value =\", value)"
   ]
  },
  {
   "cell_type": "code",
   "execution_count": 8,
   "id": "e2c40350-499f-442b-a9f2-200cf3634b9f",
   "metadata": {},
   "outputs": [
    {
     "name": "stdout",
     "output_type": "stream",
     "text": [
      "{'name': 'Andrew', 'phone': '(123)-222-2325'}\n",
      "{'name': 'Mike', 'phone': '(113)-452-9825'}\n",
      "{'name': 'David', 'phone': '(323)-933-2054'}\n"
     ]
    }
   ],
   "source": [
    "contact_0 = {'name': 'Andrew', 'phone': '(123)-222-2325'}\n",
    "contact_1 = {'name': 'Mike', 'phone': '(113)-452-9825'}\n",
    "contact_2 = {'name': 'David', 'phone': '(323)-933-2054'}\n",
    "address_book = [contact_0, contact_1, contact_2]\n",
    "for contact in address_book:\n",
    "    print(contact)"
   ]
  },
  {
   "cell_type": "code",
   "execution_count": 9,
   "id": "370229b7-2359-46a6-88c6-0b2dff3d55e4",
   "metadata": {},
   "outputs": [
    {
     "name": "stdout",
     "output_type": "stream",
     "text": [
      "{'name': 'Andrew', 'phone': '(123)-222-2325', 'address': {'street': '123 Tuple St', 'city': 'Scottsdale', 'state': 'AZ'}}\n"
     ]
    }
   ],
   "source": [
    "contact = {'name': 'Andrew', 'phone': '(123)-222-2325'}\n",
    "address = {'street': '123 Tuple St', 'city': 'Scottsdale', 'state': 'AZ'}\n",
    "\n",
    "# add `address` dictionary to `contact` dictionary\n",
    "# with key 'address'\n",
    "contact['address'] = address\n",
    "print(contact)"
   ]
  },
  {
   "cell_type": "code",
   "execution_count": 10,
   "id": "23454f6b-fd4c-4160-9dc9-13e962f72a3e",
   "metadata": {},
   "outputs": [],
   "source": [
    "people = {\n",
    "    'person1': {\n",
    "        'name': 'Sally Sue',\n",
    "        'city': 'Phoenix'\n",
    "    },\n",
    "    'person2': {\n",
    "        'name': 'Billy Bob',\n",
    "        'city': 'Scottsdale'\n",
    "    },\n",
    "    'person3': {\n",
    "        'name': 'Rover',\n",
    "        'city': 'Zappa'\n",
    "    }\n",
    "}\n",
    "greetings = []\n",
    "for person in people.values():\n",
    "    greeting = \"Hello \" + person['name'] + \" from \" + person['city']\n",
    "    greetings.append(greeting)"
   ]
  },
  {
   "cell_type": "code",
   "execution_count": 11,
   "id": "d2e78276-9906-4e82-b0ee-a4d946bb7f16",
   "metadata": {},
   "outputs": [
    {
     "name": "stdout",
     "output_type": "stream",
     "text": [
      "Key = type \tValue = cat\n",
      "Key = color \tValue = Tortoise Shell\n",
      "Key = Nickname \tValue = Palnut\n",
      "Key = Owner \tValue = Olivia\n"
     ]
    }
   ],
   "source": [
    "pets_name = {'type': 'cat', 'color': 'White and Black', 'Nickname': 'Birchy', 'Owner': 'Kurt'}\n",
    "pets_name = {'type': 'cat', 'color': 'Tortoise Shell', 'Nickname': 'Palnut', 'Owner': 'Olivia'}\n",
    "\n",
    "for key in pets_name.keys():\n",
    "    print(\"Key =\", key, \"\\tValue =\", pets_name[key])"
   ]
  },
  {
   "cell_type": "code",
   "execution_count": 13,
   "id": "ac4661d5-689c-46ba-b306-9e2ff8c9552c",
   "metadata": {},
   "outputs": [
    {
     "ename": "TypeError",
     "evalue": "'tuple' object does not support item assignment",
     "output_type": "error",
     "traceback": [
      "\u001b[1;31m---------------------------------------------------------------------------\u001b[0m",
      "\u001b[1;31mTypeError\u001b[0m                                 Traceback (most recent call last)",
      "Input \u001b[1;32mIn [13]\u001b[0m, in \u001b[0;36m<cell line: 5>\u001b[1;34m()\u001b[0m\n\u001b[0;32m      2\u001b[0m france \u001b[38;5;241m=\u001b[39m {\u001b[38;5;124m'\u001b[39m\u001b[38;5;124mCapital\u001b[39m\u001b[38;5;124m'\u001b[39m: \u001b[38;5;124m'\u001b[39m\u001b[38;5;124mParis\u001b[39m\u001b[38;5;124m'\u001b[39m},\n\u001b[0;32m      3\u001b[0m belgium \u001b[38;5;241m=\u001b[39m {\u001b[38;5;124m'\u001b[39m\u001b[38;5;124mCapital\u001b[39m\u001b[38;5;124m'\u001b[39m: \u001b[38;5;124m'\u001b[39m\u001b[38;5;124mBrussels\u001b[39m\u001b[38;5;124m'\u001b[39m}\n\u001b[1;32m----> 5\u001b[0m england[\u001b[38;5;124m'\u001b[39m\u001b[38;5;124mPopulation\u001b[39m\u001b[38;5;124m'\u001b[39m] \u001b[38;5;241m=\u001b[39m \u001b[38;5;124m'\u001b[39m\u001b[38;5;124m53.01 million\u001b[39m\u001b[38;5;124m'\u001b[39m\n\u001b[0;32m      6\u001b[0m france[\u001b[38;5;124m'\u001b[39m\u001b[38;5;124mPopulation\u001b[39m\u001b[38;5;124m'\u001b[39m] \u001b[38;5;241m=\u001b[39m \u001b[38;5;124m'\u001b[39m\u001b[38;5;124m66.9 million\u001b[39m\u001b[38;5;124m'\u001b[39m\n\u001b[0;32m      7\u001b[0m belgium[\u001b[38;5;124m'\u001b[39m\u001b[38;5;124mpopulation\u001b[39m\u001b[38;5;124m'\u001b[39m] \u001b[38;5;241m=\u001b[39m \u001b[38;5;124m'\u001b[39m\u001b[38;5;124m11.35 million\u001b[39m\u001b[38;5;124m'\u001b[39m\n",
      "\u001b[1;31mTypeError\u001b[0m: 'tuple' object does not support item assignment"
     ]
    }
   ],
   "source": [
    "england = {'Capital': 'London'},\n",
    "france = {'Capital': 'Paris'},\n",
    "belgium = {'Capital': 'Brussels'}\n",
    "\n",
    "england['Population'] = '53.01 million'\n",
    "france['Population'] = '66.9 million'\n",
    "belgium['population'] = '11.35 million'\n",
    "\n",
    "print(england)\n",
    "print(france)\n",
    "print(belgium)"
   ]
  },
  {
   "cell_type": "code",
   "execution_count": 4,
   "id": "2865e48a-aa69-4282-b4a4-eb6c44ade9f6",
   "metadata": {},
   "outputs": [
    {
     "ename": "SyntaxError",
     "evalue": "':' expected after dictionary key (848134882.py, line 6)",
     "output_type": "error",
     "traceback": [
      "\u001b[1;36m  Input \u001b[1;32mIn [4]\u001b[1;36m\u001b[0m\n\u001b[1;33m    'topping': 'extra cheese', 'sausage', 'bacon'\u001b[0m\n\u001b[1;37m                                       ^\u001b[0m\n\u001b[1;31mSyntaxError\u001b[0m\u001b[1;31m:\u001b[0m ':' expected after dictionary key\n"
     ]
    }
   ],
   "source": [
    "pizza_order = {\n",
    "    'Customer': {\n",
    "        'name': 'Andrew' ,\n",
    "        'size pizza': 'small',\n",
    "        'crust': 'thin-crust', \n",
    "        'topping': 'extra cheese', 'sausage', 'bacon'\n",
    "    } \n",
    "}\n",
    "\n",
    "thank_you = []\n",
    "for Customer in pizza_order.values():\n",
    "    thank_you= \"Thank you for your order \" + Customer['name'] + \" from \" + pizza size['small'] + \" from \" + crust['thin-crust'] + \" from \" + toppings['extra cheese', 'sausage', 'bacon']\n",
    "    thank_you.append(thank_you)\n",
    "    \n",
    "    "
   ]
  },
  {
   "cell_type": "code",
   "execution_count": null,
   "id": "728cb2a7-dc7c-4474-aa49-20d98bf659e8",
   "metadata": {},
   "outputs": [],
   "source": []
  }
 ],
 "metadata": {
  "kernelspec": {
   "display_name": "Python 3 (ipykernel)",
   "language": "python",
   "name": "python3"
  },
  "language_info": {
   "codemirror_mode": {
    "name": "ipython",
    "version": 3
   },
   "file_extension": ".py",
   "mimetype": "text/x-python",
   "name": "python",
   "nbconvert_exporter": "python",
   "pygments_lexer": "ipython3",
   "version": "3.10.4"
  }
 },
 "nbformat": 4,
 "nbformat_minor": 5
}
