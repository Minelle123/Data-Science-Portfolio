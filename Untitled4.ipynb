{
 "cells": [
  {
   "cell_type": "code",
   "execution_count": 5,
   "id": "39f3354d-1995-4ba2-9211-3e18f4998021",
   "metadata": {},
   "outputs": [],
   "source": [
    "import pandas as pd\n"
   ]
  },
  {
   "cell_type": "code",
   "execution_count": null,
   "id": "cc0adc4e-b6f4-46f3-b355-a6b4fff8586b",
   "metadata": {},
   "outputs": [],
   "source": [
    "fake$StoryType = \" \"\n",
    "FakeNews1 <- FakeNews[, 2:4]"
   ]
  },
  {
   "cell_type": "code",
   "execution_count": null,
   "id": "033d556a-bdd5-4892-b38e-7f430049a99e",
   "metadata": {},
   "outputs": [],
   "source": [
    "library(\"tidyr\")\n",
    "FakeNews2 <- separate(FakeNews1, url, c(\"Website\", \"Domain\"), sep=\"_\")"
   ]
  },
  {
   "cell_type": "code",
   "execution_count": null,
   "id": "8df492a4-c7d9-4bd3-b852-426fabccd536",
   "metadata": {},
   "outputs": [],
   "source": [
    "FakeNews3 <- unite(FakeNews2, FullSiteName, Website, Domain, sep = \"_\")"
   ]
  },
  {
   "cell_type": "code",
   "execution_count": null,
   "id": "4abb08d4-837b-43ae-9fb3-fc3b462329cc",
   "metadata": {},
   "outputs": [],
   "source": [
    "FakeNews4 <- FakeNews3[1:10,]"
   ]
  },
  {
   "cell_type": "code",
   "execution_count": 6,
   "id": "1a3e21ea-196c-44c0-8c91-fdcd41f09988",
   "metadata": {},
   "outputs": [
    {
     "ename": "SyntaxError",
     "evalue": "(unicode error) 'unicodeescape' codec can't decode bytes in position 2-3: truncated \\UXXXXXXXX escape (1598597037.py, line 3)",
     "output_type": "error",
     "traceback": [
      "\u001b[1;36m  Input \u001b[1;32mIn [6]\u001b[1;36m\u001b[0m\n\u001b[1;33m    FakeNews = pd.read_excel('C:\\Users\\minel\\OneDrive\\Documents\\Entity Coursework\\DS109 Python\\DSO104C (Jul 11 - Jul 31)\\Lesson 1')\u001b[0m\n\u001b[1;37m                                                                                                                                  ^\u001b[0m\n\u001b[1;31mSyntaxError\u001b[0m\u001b[1;31m:\u001b[0m (unicode error) 'unicodeescape' codec can't decode bytes in position 2-3: truncated \\UXXXXXXXX escape\n"
     ]
    }
   ],
   "source": [
    "import pandas as pd\n",
    "\n",
    "FakeNews = pd.read_excel('C:\\Users\\minel\\OneDrive\\Documents\\Entity Coursework\\DS109 Python\\DSO104C (Jul 11 - Jul 31)\\Lesson 1')\n",
    "FakeNews.head()\n",
    "\n",
    "#Add a column labeled StoryType and fill it with Fake\n",
    "\n",
    "FakeNews['StoryType'] = \"Fake\"\n",
    "FakeNews.head()\n",
    "\n",
    "#Remove the when column\n",
    "\n",
    "FakeNews.drop(['when'], axis=1, inplace=True)\n",
    "FakeNews.head()\n",
    "\n",
    "#Separate the URL column into Website and Domain\n",
    "\n",
    "FakeNews1 = FakeNews['url'].str.split('_', expand=True).rename(columns = lambda x: \"URL\"+str(x+1))\n",
    "FakeNews1.head()\n",
    "\n",
    "FakeNews2 = pd.concat([FakeNews, FakeNews1], axis=1)\n",
    "FakeNews2.head()\n",
    "\n",
    "FakeNews2.drop(['url'], axis=1, inplace=True)\n",
    "FakeNews2.head()\n",
    "\n",
    "#Put back together the domain column\n",
    "\n",
    "FakeNews2['url'] = FakeNews2[\"URL1\"] + \"_\" + FakeNews2[\"URL2\"].map(str)\n",
    "FakeNews2.head()\n",
    "\n",
    "FakeNews2.drop(['URL1', 'URL2'], axis=1, inplace=True)\n",
    "FakeNews2.head()\n",
    "\n",
    "#Keep only the first ten rows of the data\n",
    "FakeNews3 = FakeNews2[:10]\n",
    "FakeNews3"
   ]
  },
  {
   "cell_type": "code",
   "execution_count": null,
   "id": "e57cac7e-2f54-4abe-af1e-380ea47e034c",
   "metadata": {},
   "outputs": [],
   "source": []
  }
 ],
 "metadata": {
  "kernelspec": {
   "display_name": "Python 3 (ipykernel)",
   "language": "python",
   "name": "python3"
  },
  "language_info": {
   "codemirror_mode": {
    "name": "ipython",
    "version": 3
   },
   "file_extension": ".py",
   "mimetype": "text/x-python",
   "name": "python",
   "nbconvert_exporter": "python",
   "pygments_lexer": "ipython3",
   "version": "3.10.4"
  }
 },
 "nbformat": 4,
 "nbformat_minor": 5
}
