{
 "cells": [
  {
   "cell_type": "code",
   "execution_count": 1,
   "id": "5e44e3df",
   "metadata": {},
   "outputs": [
    {
     "name": "stderr",
     "output_type": "stream",
     "text": [
      "Loading required package: carData\n",
      "\n"
     ]
    }
   ],
   "source": [
    "library('mvnormtest')\n",
    "library('car')"
   ]
  },
  {
   "cell_type": "code",
   "execution_count": 2,
   "id": "502ac76b",
   "metadata": {},
   "outputs": [],
   "source": [
    "heartAttack <- read.csv(\"C:/Users/minel/OneDrive/Documents/Entity Coursework/DSO105C (Oct 3 - Oct 23)/Lesson 9/heartAttacks.csv\")"
   ]
  },
  {
   "cell_type": "code",
   "execution_count": 3,
   "id": "c640c8d1",
   "metadata": {},
   "outputs": [
    {
     "name": "stdout",
     "output_type": "stream",
     "text": [
      " int [1:303] 145 130 130 120 120 140 140 120 172 150 ...\n",
      " int [1:303] 233 250 204 236 354 192 294 263 199 168 ...\n"
     ]
    }
   ],
   "source": [
    "str(heartAttack$trestbps)\n",
    "str(heartAttack$chol)"
   ]
  },
  {
   "cell_type": "markdown",
   "id": "258187f7",
   "metadata": {},
   "source": [
    "# change to numeric data type"
   ]
  },
  {
   "cell_type": "code",
   "execution_count": 4,
   "id": "458318b4",
   "metadata": {},
   "outputs": [],
   "source": [
    "heartAttack$trestbps <- as.numeric(heartAttack$trestbps)\n",
    "heartAttack$chol <- as.numeric(heartAttack$chol)\n",
    "heartAttack$sex <- as.numeric(heartAttack$sex)\n"
   ]
  },
  {
   "cell_type": "markdown",
   "id": "f9731baf",
   "metadata": {},
   "source": [
    "# change to factor "
   ]
  },
  {
   "cell_type": "code",
   "execution_count": 5,
   "id": "68bbe0c6",
   "metadata": {},
   "outputs": [],
   "source": [
    "heartAttack$sex <- as.character(heartAttack$sex)\n",
    "heartAttack$sex <- as.factor(heartAttack$sex)\n"
   ]
  },
  {
   "cell_type": "markdown",
   "id": "ef1a046c",
   "metadata": {},
   "source": [
    "# feature selection"
   ]
  },
  {
   "cell_type": "code",
   "execution_count": 6,
   "id": "40f71423",
   "metadata": {},
   "outputs": [],
   "source": [
    "keeps <- c(\"sex\", \"trestbps\", \"chol\")\n",
    "heartAttack <- heartAttack[keeps]"
   ]
  },
  {
   "cell_type": "markdown",
   "id": "c668d63c",
   "metadata": {},
   "source": [
    "# Assumption Sample Size"
   ]
  },
  {
   "cell_type": "code",
   "execution_count": 7,
   "id": "f6110213",
   "metadata": {},
   "outputs": [],
   "source": [
    "library(plyr)"
   ]
  },
  {
   "cell_type": "code",
   "execution_count": 10,
   "id": "680ea830",
   "metadata": {},
   "outputs": [],
   "source": [
    "heartAttack2 <- heartAttack[1:5000,]"
   ]
  },
  {
   "cell_type": "code",
   "execution_count": 13,
   "id": "2dc9c335",
   "metadata": {},
   "outputs": [],
   "source": [
    "keeps1 <- c(\"trestbps\", \"chol\")\n",
    "heartAttack2 <- heartAttack[keeps1]"
   ]
  },
  {
   "cell_type": "code",
   "execution_count": 14,
   "id": "ccb6daef",
   "metadata": {},
   "outputs": [
    {
     "data": {
      "text/plain": [
       "\n",
       "\tShapiro-Wilk normality test\n",
       "\n",
       "data:  Z\n",
       "W = 0.94568, p-value = 3.93e-09\n"
      ]
     },
     "metadata": {},
     "output_type": "display_data"
    }
   ],
   "source": [
    "mshapiro.test(t(heartAttack2))  "
   ]
  },
  {
   "cell_type": "code",
   "execution_count": 15,
   "id": "ba19aab4",
   "metadata": {},
   "outputs": [
    {
     "data": {
      "text/html": [
       "<table class=\"dataframe\">\n",
       "<caption>A anova: 2 × 3</caption>\n",
       "<thead>\n",
       "\t<tr><th></th><th scope=col>Df</th><th scope=col>F value</th><th scope=col>Pr(&gt;F)</th></tr>\n",
       "\t<tr><th></th><th scope=col>&lt;int&gt;</th><th scope=col>&lt;dbl&gt;</th><th scope=col>&lt;dbl&gt;</th></tr>\n",
       "</thead>\n",
       "<tbody>\n",
       "\t<tr><th scope=row>group</th><td>  1</td><td>1.359311</td><td>0.24458</td></tr>\n",
       "\t<tr><th scope=row> </th><td>301</td><td>      NA</td><td>     NA</td></tr>\n",
       "</tbody>\n",
       "</table>\n"
      ],
      "text/latex": [
       "A anova: 2 × 3\n",
       "\\begin{tabular}{r|lll}\n",
       "  & Df & F value & Pr(>F)\\\\\n",
       "  & <int> & <dbl> & <dbl>\\\\\n",
       "\\hline\n",
       "\tgroup &   1 & 1.359311 & 0.24458\\\\\n",
       "\t  & 301 &       NA &      NA\\\\\n",
       "\\end{tabular}\n"
      ],
      "text/markdown": [
       "\n",
       "A anova: 2 × 3\n",
       "\n",
       "| <!--/--> | Df &lt;int&gt; | F value &lt;dbl&gt; | Pr(&gt;F) &lt;dbl&gt; |\n",
       "|---|---|---|---|\n",
       "| group |   1 | 1.359311 | 0.24458 |\n",
       "| <!----> | 301 |       NA |      NA |\n",
       "\n"
      ],
      "text/plain": [
       "      Df  F value  Pr(>F) \n",
       "group   1 1.359311 0.24458\n",
       "      301       NA      NA"
      ]
     },
     "metadata": {},
     "output_type": "display_data"
    }
   ],
   "source": [
    "leveneTest(trestbps ~ sex, data=heartAttack)"
   ]
  },
  {
   "cell_type": "code",
   "execution_count": 16,
   "id": "69779e54",
   "metadata": {},
   "outputs": [
    {
     "data": {
      "text/html": [
       "<table class=\"dataframe\">\n",
       "<caption>A anova: 2 × 3</caption>\n",
       "<thead>\n",
       "\t<tr><th></th><th scope=col>Df</th><th scope=col>F value</th><th scope=col>Pr(&gt;F)</th></tr>\n",
       "\t<tr><th></th><th scope=col>&lt;int&gt;</th><th scope=col>&lt;dbl&gt;</th><th scope=col>&lt;dbl&gt;</th></tr>\n",
       "</thead>\n",
       "<tbody>\n",
       "\t<tr><th scope=row>group</th><td>  1</td><td>11.37598</td><td>0.0008413142</td></tr>\n",
       "\t<tr><th scope=row> </th><td>301</td><td>      NA</td><td>          NA</td></tr>\n",
       "</tbody>\n",
       "</table>\n"
      ],
      "text/latex": [
       "A anova: 2 × 3\n",
       "\\begin{tabular}{r|lll}\n",
       "  & Df & F value & Pr(>F)\\\\\n",
       "  & <int> & <dbl> & <dbl>\\\\\n",
       "\\hline\n",
       "\tgroup &   1 & 11.37598 & 0.0008413142\\\\\n",
       "\t  & 301 &       NA &           NA\\\\\n",
       "\\end{tabular}\n"
      ],
      "text/markdown": [
       "\n",
       "A anova: 2 × 3\n",
       "\n",
       "| <!--/--> | Df &lt;int&gt; | F value &lt;dbl&gt; | Pr(&gt;F) &lt;dbl&gt; |\n",
       "|---|---|---|---|\n",
       "| group |   1 | 11.37598 | 0.0008413142 |\n",
       "| <!----> | 301 |       NA |           NA |\n",
       "\n"
      ],
      "text/plain": [
       "      Df  F value  Pr(>F)      \n",
       "group   1 11.37598 0.0008413142\n",
       "      301       NA           NA"
      ]
     },
     "metadata": {},
     "output_type": "display_data"
    }
   ],
   "source": [
    "leveneTest(chol ~ sex, data=heartAttack) "
   ]
  },
  {
   "cell_type": "code",
   "execution_count": 17,
   "id": "8f154721",
   "metadata": {},
   "outputs": [
    {
     "data": {
      "text/plain": [
       "\n",
       "\tPearson's product-moment correlation\n",
       "\n",
       "data:  heartAttack$trestbps and heartAttack$chol\n",
       "t = 2.1534, df = 301, p-value = 0.03208\n",
       "alternative hypothesis: true correlation is not equal to 0\n",
       "95 percent confidence interval:\n",
       " 0.01064389 0.23262366\n",
       "sample estimates:\n",
       "      cor \n",
       "0.1231742 \n"
      ]
     },
     "metadata": {},
     "output_type": "display_data"
    }
   ],
   "source": [
    "cor.test(heartAttack$trestbps, heartAttack$chol, method=\"pearson\", use=\"complete.obs\")"
   ]
  },
  {
   "cell_type": "code",
   "execution_count": 18,
   "id": "8a212591",
   "metadata": {},
   "outputs": [],
   "source": [
    "MANOVA <- manova(cbind(trestbps, chol) ~ sex, data = heartAttack)"
   ]
  },
  {
   "cell_type": "code",
   "execution_count": 19,
   "id": "6c189b8f",
   "metadata": {},
   "outputs": [
    {
     "data": {
      "text/plain": [
       "           Df   Pillai approx F num Df den Df   Pr(>F)   \n",
       "sex         1 0.040235   6.2882      2    300 0.002112 **\n",
       "Residuals 301                                            \n",
       "---\n",
       "Signif. codes:  0 '***' 0.001 '**' 0.01 '*' 0.05 '.' 0.1 ' ' 1"
      ]
     },
     "metadata": {},
     "output_type": "display_data"
    }
   ],
   "source": [
    "summary(MANOVA)"
   ]
  },
  {
   "cell_type": "code",
   "execution_count": 20,
   "id": "7f175763",
   "metadata": {},
   "outputs": [
    {
     "data": {
      "text/plain": [
       " Response trestbps :\n",
       "             Df Sum Sq Mean Sq F value Pr(>F)\n",
       "sex           1    299  299.36  0.9732 0.3247\n",
       "Residuals   301  92592  307.61               \n",
       "\n",
       " Response chol :\n",
       "             Df Sum Sq Mean Sq F value  Pr(>F)    \n",
       "sex           1  31778   31778  12.271 0.00053 ***\n",
       "Residuals   301 779523    2590                    \n",
       "---\n",
       "Signif. codes:  0 '***' 0.001 '**' 0.01 '*' 0.05 '.' 0.1 ' ' 1\n"
      ]
     },
     "metadata": {},
     "output_type": "display_data"
    }
   ],
   "source": [
    "summary.aov(MANOVA, test = 'wilks')"
   ]
  },
  {
   "cell_type": "code",
   "execution_count": null,
   "id": "874489f8",
   "metadata": {},
   "outputs": [],
   "source": []
  }
 ],
 "metadata": {
  "kernelspec": {
   "display_name": "R",
   "language": "R",
   "name": "ir"
  },
  "language_info": {
   "codemirror_mode": "r",
   "file_extension": ".r",
   "mimetype": "text/x-r-source",
   "name": "R",
   "pygments_lexer": "r",
   "version": "4.1.3"
  }
 },
 "nbformat": 4,
 "nbformat_minor": 5
}
