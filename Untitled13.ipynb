{
 "cells": [
  {
   "cell_type": "markdown",
   "id": "a6e1cafc",
   "metadata": {},
   "source": [
    "# Scenario 1"
   ]
  },
  {
   "cell_type": "code",
   "execution_count": 1,
   "id": "9c78f7c0",
   "metadata": {},
   "outputs": [
    {
     "data": {
      "text/plain": [
       "\n",
       "\t1-sample proportions test without continuity correction\n",
       "\n",
       "data:  28 out of 94, null probability 0.16\n",
       "X-squared = 13.295, df = 1, p-value = 0.0002661\n",
       "alternative hypothesis: true p is not equal to 0.16\n",
       "95 percent confidence interval:\n",
       " 0.2148444 0.3967721\n",
       "sample estimates:\n",
       "        p \n",
       "0.2978723 \n"
      ]
     },
     "metadata": {},
     "output_type": "display_data"
    }
   ],
   "source": [
    "prop.test(x = 28, n = 94, p = .16, alternative = \"two.sided\", correct = FALSE)"
   ]
  },
  {
   "cell_type": "code",
   "execution_count": 2,
   "id": "88b10f6e",
   "metadata": {},
   "outputs": [
    {
     "data": {
      "text/plain": [
       "\n",
       "\t2-sample test for equality of proportions with continuity correction\n",
       "\n",
       "data:  c(8, 16) out of c(28, 94)\n",
       "X-squared = 1.1637, df = 1, p-value = 0.2807\n",
       "alternative hypothesis: two.sided\n",
       "95 percent confidence interval:\n",
       " -0.0914436  0.3224466\n",
       "sample estimates:\n",
       "   prop 1    prop 2 \n",
       "0.2857143 0.1702128 \n"
      ]
     },
     "metadata": {},
     "output_type": "display_data"
    }
   ],
   "source": [
    "prop.test(x = c(8, 16), n = c(28, 94),\n",
    "          alternative = \"two.sided\")"
   ]
  },
  {
   "cell_type": "markdown",
   "id": "98808373",
   "metadata": {},
   "source": [
    "# Scenario 2"
   ]
  },
  {
   "cell_type": "code",
   "execution_count": 18,
   "id": "f64f3ccf",
   "metadata": {},
   "outputs": [],
   "source": [
    "library('gmodels')"
   ]
  },
  {
   "cell_type": "code",
   "execution_count": 19,
   "id": "752ea468",
   "metadata": {},
   "outputs": [],
   "source": [
    "df2 <- read.csv(\"C:/Users/minel/OneDrive/Documents/Entity Coursework/DSO105C (Oct 3 - Oct 23)/Final Project/antiseptics.csv\")"
   ]
  },
  {
   "cell_type": "code",
   "execution_count": 20,
   "id": "543b1b7f",
   "metadata": {},
   "outputs": [],
   "source": [
    "df2.expanded <- df2[rep(row.names(df2), df2$Number.of.applications), 1:2]"
   ]
  },
  {
   "cell_type": "code",
   "execution_count": 21,
   "id": "81345280",
   "metadata": {},
   "outputs": [
    {
     "ename": "ERROR",
     "evalue": "Error in chisq.test(t, correct = FALSE): at least one entry of 'x' must be positive\n",
     "output_type": "error",
     "traceback": [
      "Error in chisq.test(t, correct = FALSE): at least one entry of 'x' must be positive\nTraceback:\n",
      "1. CrossTable(df2$Antiseptic_Type, df2$Number_of_Apllication, fisher = TRUE, \n .     chisq = TRUE, expected = TRUE, sresid = TRUE, format = \"SPSS\")",
      "2. suppressWarnings(chisq.test(t, correct = FALSE))",
      "3. withCallingHandlers(expr, warning = function(w) if (inherits(w, \n .     classes)) tryInvokeRestart(\"muffleWarning\"))",
      "4. chisq.test(t, correct = FALSE)",
      "5. stop(\"at least one entry of 'x' must be positive\")"
     ]
    }
   ],
   "source": [
    "CrossTable(df2$Antiseptic_Type, df2$Number_of_Apllication, fisher=TRUE, chisq = TRUE, expected = TRUE, sresid=TRUE, format=\"SPSS\")"
   ]
  },
  {
   "cell_type": "markdown",
   "id": "7e260b10",
   "metadata": {},
   "source": [
    "# Scenario 3"
   ]
  },
  {
   "cell_type": "code",
   "execution_count": 22,
   "id": "700c7215",
   "metadata": {},
   "outputs": [
    {
     "name": "stderr",
     "output_type": "stream",
     "text": [
      "\n",
      "Attaching package: 'dplyr'\n",
      "\n",
      "\n",
      "The following objects are masked from 'package:stats':\n",
      "\n",
      "    filter, lag\n",
      "\n",
      "\n",
      "The following objects are masked from 'package:base':\n",
      "\n",
      "    intersect, setdiff, setequal, union\n",
      "\n",
      "\n",
      "Loading required package: carData\n",
      "\n",
      "\n",
      "Attaching package: 'car'\n",
      "\n",
      "\n",
      "The following object is masked from 'package:dplyr':\n",
      "\n",
      "    recode\n",
      "\n",
      "\n"
     ]
    }
   ],
   "source": [
    "library(\"dplyr\")\n",
    "library(\"rcompanion\")\n",
    "library(\"car\")"
   ]
  },
  {
   "cell_type": "code",
   "execution_count": 29,
   "id": "ac55285a",
   "metadata": {},
   "outputs": [],
   "source": [
    "savings <- read.csv(\"C:/Users/minel/OneDrive/Documents/Entity Coursework/DSO105C (Oct 3 - Oct 23)/Final Project/savings.csv\")"
   ]
  },
  {
   "cell_type": "code",
   "execution_count": 30,
   "id": "2c9ab3f2",
   "metadata": {},
   "outputs": [
    {
     "ename": "ERROR",
     "evalue": "Error in gather(savings, key = \"Group\", value = \"Price\"): could not find function \"gather\"\n",
     "output_type": "error",
     "traceback": [
      "Error in gather(savings, key = \"Group\", value = \"Price\"): could not find function \"gather\"\nTraceback:\n"
     ]
    }
   ],
   "source": [
    "savings.reformat <- gather(savings, key=\"Group\", value=\"Price\")"
   ]
  },
  {
   "cell_type": "code",
   "execution_count": 31,
   "id": "e3ff63dd",
   "metadata": {},
   "outputs": [
    {
     "ename": "ERROR",
     "evalue": "\u001b[1m\u001b[33mError\u001b[39m in \u001b[1m\u001b[1m`filter()`:\u001b[22m\n\u001b[1m\u001b[22m\u001b[33m!\u001b[39m Problem while computing `..1 = Category %in% c(\"Group A\", \"Group B\", \"Group C\", \"Group D\")`.\n\u001b[1mCaused by error in \u001b[1m\u001b[1m`Category %in% c(\"Group A\", \"Group B\", \"Group C\", \"Group D\")`:\u001b[22m\n\u001b[33m!\u001b[39m object 'Category' not found\n",
     "output_type": "error",
     "traceback": [
      "\u001b[1m\u001b[33mError\u001b[39m in \u001b[1m\u001b[1m`filter()`:\u001b[22m\n\u001b[1m\u001b[22m\u001b[33m!\u001b[39m Problem while computing `..1 = Category %in% c(\"Group A\", \"Group B\", \"Group C\", \"Group D\")`.\n\u001b[1mCaused by error in \u001b[1m\u001b[1m`Category %in% c(\"Group A\", \"Group B\", \"Group C\", \"Group D\")`:\u001b[22m\n\u001b[33m!\u001b[39m object 'Category' not found\nTraceback:\n",
      "1. na.omit(savings %>% filter(Category %in% c(\"Group A\", \"Group B\", \n .     \"Group C\", \"Group D\")))",
      "2. savings %>% filter(Category %in% c(\"Group A\", \"Group B\", \"Group C\", \n .     \"Group D\"))",
      "3. filter(., Category %in% c(\"Group A\", \"Group B\", \"Group C\", \"Group D\"))",
      "4. filter.data.frame(., Category %in% c(\"Group A\", \"Group B\", \"Group C\", \n .     \"Group D\"))",
      "5. filter_rows(.data, ..., caller_env = caller_env())",
      "6. filter_eval(dots, mask = mask, error_call = error_call)",
      "7. withCallingHandlers({\n .     mask$eval_all_filter(dots, env_filter)\n . }, error = function(e) {\n .     local_error_context(dots = dots, .index = env_filter$current_expression, \n .         mask = mask)\n .     bullets <- c(cnd_bullet_header(\"computing\"), filter_bullets(e))\n .     abort(bullets, call = error_call, parent = skip_internal_condition(e))\n . })",
      "8. mask$eval_all_filter(dots, env_filter)",
      "9. Category %in% c(\"Group A\", \"Group B\", \"Group C\", \"Group D\")",
      "10. .handleSimpleError(function (e) \n  . {\n  .     local_error_context(dots = dots, .index = env_filter$current_expression, \n  .         mask = mask)\n  .     bullets <- c(cnd_bullet_header(\"computing\"), filter_bullets(e))\n  .     abort(bullets, call = error_call, parent = skip_internal_condition(e))\n  . }, \"object 'Category' not found\", base::quote(Category %in% c(\"Group A\", \n  .     \"Group B\", \"Group C\", \"Group D\")))",
      "11. h(simpleError(msg, call))",
      "12. abort(bullets, call = error_call, parent = skip_internal_condition(e))",
      "13. signal_abort(cnd, .file)"
     ]
    }
   ],
   "source": [
    "savings <- na.omit(savings %>% filter(Category %in% c(\"Group A\", \"Group B\", \"Group C\", \"Group D\")))"
   ]
  },
  {
   "cell_type": "code",
   "execution_count": 33,
   "id": "258bc9bc",
   "metadata": {},
   "outputs": [
    {
     "ename": "ERROR",
     "evalue": "Error in `$<-.data.frame`(`*tmp*`, Group_A, value = numeric(0)): replacement has 0 rows, data has 58\n",
     "output_type": "error",
     "traceback": [
      "Error in `$<-.data.frame`(`*tmp*`, Group_A, value = numeric(0)): replacement has 0 rows, data has 58\nTraceback:\n",
      "1. `$<-`(`*tmp*`, Group_A, value = numeric(0))",
      "2. `$<-.data.frame`(`*tmp*`, Group_A, value = numeric(0))",
      "3. stop(sprintf(ngettext(N, \"replacement has %d row, data has %d\", \n .     \"replacement has %d rows, data has %d\"), N, nrows), domain = NA)"
     ]
    }
   ],
   "source": [
    "savings$Group_A <- as.numeric(savings$Group_A)\n",
    "savings$Group_B <- as.numeric(savings$Group_B)\n",
    "savings$Group_C <- as.numeric(savings$Group_C)\n",
    "savings$Group_D <- as.numeric(savings$Group_D)"
   ]
  },
  {
   "cell_type": "code",
   "execution_count": 34,
   "id": "452c2ea6",
   "metadata": {},
   "outputs": [
    {
     "ename": "ERROR",
     "evalue": "Error in plotNormalHistogram(Savings$Group_A): object 'Savings' not found\n",
     "output_type": "error",
     "traceback": [
      "Error in plotNormalHistogram(Savings$Group_A): object 'Savings' not found\nTraceback:\n",
      "1. plotNormalHistogram(Savings$Group_A)"
     ]
    }
   ],
   "source": [
    "plotNormalHistogram(Savings$Group_A)"
   ]
  },
  {
   "cell_type": "code",
   "execution_count": null,
   "id": "43c1b0a2",
   "metadata": {},
   "outputs": [],
   "source": []
  }
 ],
 "metadata": {
  "kernelspec": {
   "display_name": "R",
   "language": "R",
   "name": "ir"
  },
  "language_info": {
   "codemirror_mode": "r",
   "file_extension": ".r",
   "mimetype": "text/x-r-source",
   "name": "R",
   "pygments_lexer": "r",
   "version": "4.1.3"
  }
 },
 "nbformat": 4,
 "nbformat_minor": 5
}
