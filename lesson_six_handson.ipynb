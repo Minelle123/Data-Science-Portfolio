{
 "cells": [
  {
   "cell_type": "code",
   "execution_count": 3,
   "id": "599e8f86-3c5c-4311-9bf5-216959b352bc",
   "metadata": {},
   "outputs": [
    {
     "ename": "SyntaxError",
     "evalue": "invalid syntax (4284141430.py, line 2)",
     "output_type": "error",
     "traceback": [
      "\u001b[1;36m  Input \u001b[1;32mIn [3]\u001b[1;36m\u001b[0m\n\u001b[1;33m    def_init_(self, stadium1):\u001b[0m\n\u001b[1;37m                             ^\u001b[0m\n\u001b[1;31mSyntaxError\u001b[0m\u001b[1;31m:\u001b[0m invalid syntax\n"
     ]
    }
   ],
   "source": [
    "class Stadium:\n",
    "    def_init_(self, stadium1):\n",
    "        self.name = stadium1[0]\n",
    "        self.city_name = stadium1[1]\n",
    "        \n",
    "    def describe_stadium(self)\n",
    "    print('The' + self.name + 'is located in' + self.city_name + 'and holds' + self.capacity + 'fans.')\n",
    "    name = input('enter the name of the stadium :')\n",
    "    capacity = input('enter the capacity of the stadium:')\n",
    "    stadium1 = Stadium('name', 'city_name', 'capacity')\n",
    "    stadium1.describe_stadium()"
   ]
  },
  {
   "cell_type": "code",
   "execution_count": 4,
   "id": "97bd215d-db18-413b-b4b9-26e5856eaa9d",
   "metadata": {},
   "outputs": [
    {
     "ename": "SyntaxError",
     "evalue": "unmatched ')' (1864773465.py, line 9)",
     "output_type": "error",
     "traceback": [
      "\u001b[1;36m  Input \u001b[1;32mIn [4]\u001b[1;36m\u001b[0m\n\u001b[1;33m    stadium1.describe_stadium)\u001b[0m\n\u001b[1;37m                             ^\u001b[0m\n\u001b[1;31mSyntaxError\u001b[0m\u001b[1;31m:\u001b[0m unmatched ')'\n"
     ]
    }
   ],
   "source": [
    "class Stadium:\n",
    "    def_init_(self,)\n",
    "    self.name =[]\n",
    "    self.capacity =[]\n",
    "    \n",
    "    def describes_stadium(self)\n",
    "    print('The' + self.name + 'is located in' + self.city_name + 'and holds' + self.capacity + 'fans.')\n",
    "    stadium1 = Stadium('Mercedes Benz Arena', 'Atlanta,GA' , '70,000')\n",
    "    stadium1.describe_stadium)"
   ]
  },
  {
   "cell_type": "code",
   "execution_count": null,
   "id": "2903a2a5-703e-4764-abd3-42b8cd7b4525",
   "metadata": {},
   "outputs": [],
   "source": []
  }
 ],
 "metadata": {
  "kernelspec": {
   "display_name": "Python 3 (ipykernel)",
   "language": "python",
   "name": "python3"
  },
  "language_info": {
   "codemirror_mode": {
    "name": "ipython",
    "version": 3
   },
   "file_extension": ".py",
   "mimetype": "text/x-python",
   "name": "python",
   "nbconvert_exporter": "python",
   "pygments_lexer": "ipython3",
   "version": "3.10.4"
  }
 },
 "nbformat": 4,
 "nbformat_minor": 5
}
